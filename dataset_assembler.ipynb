{
 "cells": [
  {
   "cell_type": "code",
   "execution_count": 71,
   "metadata": {},
   "outputs": [],
   "source": [
    "import shapely.geometry\n",
    "import pyproj\n",
    "import json\n",
    "import statistics\n",
    "\n",
    "from grid import Grid\n",
    "from cell import Cell\n",
    "from entrie import Entrie, EntrieType \n",
    "from utils import *"
   ]
  },
  {
   "cell_type": "code",
   "execution_count": 2,
   "metadata": {},
   "outputs": [
    {
     "name": "stdout",
     "output_type": "stream",
     "text": [
      "Populating the interactive namespace from numpy and matplotlib\n"
     ]
    },
    {
     "name": "stderr",
     "output_type": "stream",
     "text": [
      "/home/disa/.local/lib/python3.6/site-packages/IPython/core/magics/pylab.py:160: UserWarning: pylab import has clobbered these variables: ['degrees', 'pi', 'cos', 'sin', 'radians']\n",
      "`%matplotlib` prevents importing * from pylab and numpy\n",
      "  \"\\n`%matplotlib` prevents importing * from pylab and numpy\"\n"
     ]
    }
   ],
   "source": [
    "%pylab inline\n",
    "import pandas as pd"
   ]
  },
  {
   "cell_type": "code",
   "execution_count": 36,
   "metadata": {},
   "outputs": [],
   "source": [
    "coord_dict = {\n",
    "    'spb': {\n",
    "        'borders': ((60.080844, 30.175307), (59.833302, 30.525166)),\n",
    "        'center': (59.9343, 30.3351),\n",
    "        'grid': None\n",
    "    },\n",
    "    'smr': {\n",
    "        'borders': ((53.277885, 50.056253), (53.174675, 50.319944)),\n",
    "        'center': (53.2415, 50.2212),\n",
    "        'grid': None\n",
    "    }\n",
    "}"
   ]
  },
  {
   "cell_type": "code",
   "execution_count": 4,
   "metadata": {},
   "outputs": [],
   "source": [
    "def make_grid(city_abbr):\n",
    "    with open(f'./data/entries/parsed/{city_abbr}.json') as file:\n",
    "        etrie_data = json.load(file)\n",
    "    grid = Grid.make_grid_in_degrees(*coord_dict[city_abbr]['borders'], 0.001)\n",
    "    \n",
    "    #entries[EntrieType(list(etrie_data.keys())[0])]\n",
    "    i = 0\n",
    "    for entrie_type_value, raw_entries in zip(etrie_data.keys(), etrie_data.values()):\n",
    "        entrie_type = EntrieType(entrie_type_value)\n",
    "        j = 0\n",
    "        for raw_entrie in raw_entries:\n",
    "            processed_entrie = Entrie(*raw_entrie)\n",
    "            #entries[entrie_type].append(processed_entrie)\n",
    "            \n",
    "            grid.add_entrie(processed_entrie, entrie_type)\n",
    "            j += 1\n",
    "            if j  % 100 == 0:\n",
    "                print(f'{j}/{len(raw_entries)}')\n",
    "        i += 1\n",
    "        print(f'{i}/{len(etrie_data.keys())}')\n",
    "    \n",
    "    return grid"
   ]
  },
  {
   "cell_type": "code",
   "execution_count": 42,
   "metadata": {},
   "outputs": [],
   "source": [
    "def extract_public_trasport_stops(city_abbr):\n",
    "    with open(f'./data/entries/parsed/{city_abbr}.json') as file:\n",
    "        etrie_data = json.load(file)\n",
    "    return [e[0] for e in etrie_data['subway_station']] + [e[0] for e in etrie_data['tram_stop']] + [e[0] for e in etrie_data['bus_stop']]\n",
    "    "
   ]
  },
  {
   "cell_type": "code",
   "execution_count": null,
   "metadata": {},
   "outputs": [],
   "source": []
  },
  {
   "cell_type": "code",
   "execution_count": 17,
   "metadata": {},
   "outputs": [],
   "source": [
    "for city_abbr in coord_dict.keys(): \n",
    "    coord_dict[city_abbr]['grid'] = make_grid(city_abbr)"
   ]
  },
  {
   "cell_type": "code",
   "execution_count": 45,
   "metadata": {},
   "outputs": [],
   "source": [
    "coord_dict['spb']['grid'] = spb_grid\n",
    "coord_dict['smr']['grid'] = smr_grid"
   ]
  },
  {
   "cell_type": "code",
   "execution_count": 33,
   "metadata": {},
   "outputs": [],
   "source": [
    "e = spb_grid.get_all_entries_in_radius((59.962719, 30.267485), 100)"
   ]
  },
  {
   "cell_type": "code",
   "execution_count": null,
   "metadata": {},
   "outputs": [],
   "source": []
  },
  {
   "cell_type": "code",
   "execution_count": 91,
   "metadata": {},
   "outputs": [],
   "source": [
    "def cook_table(city_abbr):\n",
    "    flats = pd.read_csv(f'./data/flats/{city_abbr}.csv').drop(columns=['adress', 'subway_station'])\n",
    "    cols = flats.columns.tolist()\n",
    "    cols[-1], cols[-2] = cols[-2], cols[-1]\n",
    "    cols = cols[-2:] + [cols[0]] + cols[1:-2]\n",
    "    flats = flats[cols]\n",
    "    flats['price_per_m'] = (flats['price'] / flats['area']).map(lambda x: int(x))\n",
    "    flats = flats.drop(columns=['price'])\n",
    "    flats['distance_to_center'] = [distance(x, coord_dict[city_abbr]['center']) for x in zip(flats.latitude, flats.longitude)]\n",
    "    \n",
    "    i = 0\n",
    "    feature_list = []\n",
    "    for row in flats.iterrows():\n",
    "        row = row[1]\n",
    "        d = {'price_per_m': int(row['price_per_m']),\n",
    "             'rooms': int(row['rooms']),\n",
    "             'area': row['area'], \n",
    "             'floor': int(row['floor']),\n",
    "             'floors_total': int(row['floors_total']),\n",
    "             'distance_to_subway': int(row['distance to subway']),\n",
    "             'distance_to_center': int(row['distance_to_center'])\n",
    "            }\n",
    "\n",
    "        lat, lon = row[\"latitude\"], row[\"longitude\"]\n",
    "        grid = coord_dict[city_abbr]['grid']\n",
    "        entries = {\n",
    "            '500': grid.get_all_entries_in_radius((lat, lon), 500),\n",
    "            #'1000': grid.get_all_entries_in_radius((lat, lon), 1000),\n",
    "        }\n",
    "        \n",
    "        try:\n",
    "            #salaries_1000 = [e.weight for e in grid.get_all_entries_in_radius((lat, lon), 1000)[EntrieType.VACANCY]] \n",
    "            salaries = [e.weight for e in entries['500'][EntrieType.VACANCY]] \n",
    "            d['mean_salary'] = int(statistics.mean(salaries))\n",
    "            d['median_salary'] = int(statistics.median(salaries))\n",
    "        except:\n",
    "            continue\n",
    "        for key in entries['500'].keys():\n",
    "            if key in [EntrieType.APARTMENT]:\n",
    "                continue\n",
    "            for dist in entries.keys():\n",
    "                d[f'{key.value}_{dist}'] = len([e for e in entries[dist][key] if distance(e.coorditates, (lat, lon)) <= int(dist)])\n",
    "        feature_list.append(d)\n",
    "        i += 1\n",
    "        if i % 100 == 0:\n",
    "            print(i)\n",
    "    return pd.DataFrame(feature_list)"
   ]
  },
  {
   "cell_type": "code",
   "execution_count": 93,
   "metadata": {},
   "outputs": [],
   "source": [
    "smr_table = spb_table"
   ]
  },
  {
   "cell_type": "code",
   "execution_count": 95,
   "metadata": {},
   "outputs": [],
   "source": [
    "smr_table.to_csv('./datasets/smr.csv', index=False)"
   ]
  },
  {
   "cell_type": "code",
   "execution_count": 83,
   "metadata": {
    "scrolled": true
   },
   "outputs": [],
   "source": [
    "df = "
   ]
  },
  {
   "cell_type": "code",
   "execution_count": 84,
   "metadata": {},
   "outputs": [
    {
     "data": {
      "text/html": [
       "<div>\n",
       "<style scoped>\n",
       "    .dataframe tbody tr th:only-of-type {\n",
       "        vertical-align: middle;\n",
       "    }\n",
       "\n",
       "    .dataframe tbody tr th {\n",
       "        vertical-align: top;\n",
       "    }\n",
       "\n",
       "    .dataframe thead th {\n",
       "        text-align: right;\n",
       "    }\n",
       "</style>\n",
       "<table border=\"1\" class=\"dataframe\">\n",
       "  <thead>\n",
       "    <tr style=\"text-align: right;\">\n",
       "      <th></th>\n",
       "      <th>area</th>\n",
       "      <th>bank_1000</th>\n",
       "      <th>bank_500</th>\n",
       "      <th>bus_stop_1000</th>\n",
       "      <th>bus_stop_500</th>\n",
       "      <th>cafe_1000</th>\n",
       "      <th>cafe_500</th>\n",
       "      <th>cinema_1000</th>\n",
       "      <th>cinema_500</th>\n",
       "      <th>distance_to_center</th>\n",
       "      <th>...</th>\n",
       "      <th>shop_1000</th>\n",
       "      <th>shop_500</th>\n",
       "      <th>subway_station_1000</th>\n",
       "      <th>subway_station_500</th>\n",
       "      <th>tram_stop_1000</th>\n",
       "      <th>tram_stop_500</th>\n",
       "      <th>univercity_1000</th>\n",
       "      <th>univercity_500</th>\n",
       "      <th>vacancy_1000</th>\n",
       "      <th>vacancy_500</th>\n",
       "    </tr>\n",
       "  </thead>\n",
       "  <tbody>\n",
       "    <tr>\n",
       "      <th>0</th>\n",
       "      <td>109.4</td>\n",
       "      <td>3</td>\n",
       "      <td>0</td>\n",
       "      <td>61</td>\n",
       "      <td>20</td>\n",
       "      <td>6</td>\n",
       "      <td>1</td>\n",
       "      <td>0</td>\n",
       "      <td>0</td>\n",
       "      <td>4929</td>\n",
       "      <td>...</td>\n",
       "      <td>19</td>\n",
       "      <td>3</td>\n",
       "      <td>0</td>\n",
       "      <td>0</td>\n",
       "      <td>0</td>\n",
       "      <td>0</td>\n",
       "      <td>0</td>\n",
       "      <td>0</td>\n",
       "      <td>92</td>\n",
       "      <td>1</td>\n",
       "    </tr>\n",
       "  </tbody>\n",
       "</table>\n",
       "<p>1 rows × 43 columns</p>\n",
       "</div>"
      ],
      "text/plain": [
       "    area  bank_1000  bank_500  bus_stop_1000  bus_stop_500  cafe_1000  \\\n",
       "0  109.4          3         0             61            20          6   \n",
       "\n",
       "   cafe_500  cinema_1000  cinema_500  distance_to_center     ...       \\\n",
       "0         1            0           0                4929     ...        \n",
       "\n",
       "   shop_1000  shop_500  subway_station_1000  subway_station_500  \\\n",
       "0         19         3                    0                   0   \n",
       "\n",
       "   tram_stop_1000  tram_stop_500  univercity_1000  univercity_500  \\\n",
       "0               0              0                0               0   \n",
       "\n",
       "   vacancy_1000  vacancy_500  \n",
       "0            92            1  \n",
       "\n",
       "[1 rows x 43 columns]"
      ]
     },
     "execution_count": 84,
     "metadata": {},
     "output_type": "execute_result"
    }
   ],
   "source": [
    "df"
   ]
  },
  {
   "cell_type": "code",
   "execution_count": null,
   "metadata": {},
   "outputs": [],
   "source": []
  },
  {
   "cell_type": "code",
   "execution_count": 4,
   "metadata": {},
   "outputs": [],
   "source": [
    "entries = Cell([0, 0]).entries"
   ]
  },
  {
   "cell_type": "code",
   "execution_count": null,
   "metadata": {},
   "outputs": [],
   "source": []
  },
  {
   "cell_type": "code",
   "execution_count": 83,
   "metadata": {
    "scrolled": true
   },
   "outputs": [
    {
     "data": {
      "text/plain": [
       "405.4873611929934"
      ]
     },
     "execution_count": 83,
     "metadata": {},
     "output_type": "execute_result"
    }
   ],
   "source": []
  },
  {
   "cell_type": "code",
   "execution_count": 25,
   "metadata": {},
   "outputs": [],
   "source": [
    "smr_grid.find_suitable_position(50.1995781, 53.2009557)"
   ]
  },
  {
   "cell_type": "code",
   "execution_count": 47,
   "metadata": {},
   "outputs": [],
   "source": [
    "r = smr_grid.get_all_entries_in_radius((53.277885, 50.056253), 10000)"
   ]
  },
  {
   "cell_type": "code",
   "execution_count": null,
   "metadata": {
    "scrolled": true
   },
   "outputs": [],
   "source": []
  },
  {
   "cell_type": "code",
   "execution_count": null,
   "metadata": {},
   "outputs": [],
   "source": []
  },
  {
   "cell_type": "code",
   "execution_count": null,
   "metadata": {},
   "outputs": [],
   "source": []
  },
  {
   "cell_type": "code",
   "execution_count": 91,
   "metadata": {},
   "outputs": [
    {
     "data": {
      "text/plain": [
       "405396.3914606943"
      ]
     },
     "execution_count": 91,
     "metadata": {},
     "output_type": "execute_result"
    }
   ],
   "source": [
    "distance((53.277885, 50.056253), (50.1995781, 53.2009557))"
   ]
  },
  {
   "cell_type": "code",
   "execution_count": 88,
   "metadata": {
    "scrolled": true
   },
   "outputs": [
    {
     "data": {
      "text/plain": [
       "((60.14131115764205, 29.9328822447388), (60.14131115764205, 29.93366073117118))"
      ]
     },
     "execution_count": 88,
     "metadata": {},
     "output_type": "execute_result"
    }
   ],
   "source": [
    "grid.cells[0][0].center, grid.cells[0][1].center"
   ]
  },
  {
   "cell_type": "code",
   "execution_count": 26,
   "metadata": {},
   "outputs": [
    {
     "data": {
      "text/plain": [
       "(60.16331988210298, 30.04919449246976)"
      ]
     },
     "execution_count": 26,
     "metadata": {},
     "output_type": "execute_result"
    }
   ],
   "source": [
    "midpoint(grid.cells[0][2].center, grid.cells[0][3].center)"
   ]
  },
  {
   "cell_type": "code",
   "execution_count": 6,
   "metadata": {},
   "outputs": [],
   "source": []
  },
  {
   "cell_type": "code",
   "execution_count": 83,
   "metadata": {},
   "outputs": [],
   "source": [
    "# Set up projections\n",
    "p_ll = pyproj.Proj(init='epsg:4326')\n",
    "p_mt = pyproj.Proj(init='epsg:3857') # metric; same as EPSG:900913\n",
    "\n",
    "# Create corners of rectangle to be transformed to a grid\n",
    "nw = shapely.geometry.Point((-5.0, 40.0))\n",
    "se = shapely.geometry.Point((-4.999, 40.03439880201911))\n",
    "\n",
    "stepsize = 50\n",
    "\n",
    "# Project corners to target projection\n",
    "s = pyproj.transform(p_ll, p_mt, nw.x, nw.y) # Transform NW point to 3857\n",
    "e = pyproj.transform(p_ll, p_mt, se.x, se.y) # .. same for SE\n",
    "\n",
    "# Iterate over 2D area\n",
    "gridpoints = []\n",
    "x = s[0]\n",
    "while x < e[0]:\n",
    "    y = s[1]\n",
    "    row = []\n",
    "    while y < e[1]:\n",
    "        p = shapely.geometry.Point(pyproj.transform(p_mt, p_ll, x, y))\n",
    "        row.append([p.x, p.y])\n",
    "        y += stepsize * 1.314\n",
    "    gridpoints.append(row)\n",
    "    x += stepsize"
   ]
  },
  {
   "cell_type": "code",
   "execution_count": 85,
   "metadata": {},
   "outputs": [
    {
     "data": {
      "text/plain": [
       "50.137436430313635"
      ]
     },
     "execution_count": 85,
     "metadata": {},
     "output_type": "execute_result"
    }
   ],
   "source": [
    "distance([-5.0, 40.00045211267976], [-5.0, 40.0])"
   ]
  },
  {
   "cell_type": "code",
   "execution_count": null,
   "metadata": {},
   "outputs": [],
   "source": [
    "gridpoints"
   ]
  },
  {
   "cell_type": "code",
   "execution_count": 63,
   "metadata": {},
   "outputs": [
    {
     "data": {
      "text/plain": [
       "3814.68564478778"
      ]
     },
     "execution_count": 63,
     "metadata": {},
     "output_type": "execute_result"
    }
   ],
   "source": [
    "distance((-5.0, 40.03439880201911), [-5.0, 40.0])"
   ]
  },
  {
   "cell_type": "code",
   "execution_count": null,
   "metadata": {},
   "outputs": [],
   "source": []
  }
 ],
 "metadata": {
  "kernelspec": {
   "display_name": "Python 3",
   "language": "python",
   "name": "python3"
  },
  "language_info": {
   "codemirror_mode": {
    "name": "ipython",
    "version": 3
   },
   "file_extension": ".py",
   "mimetype": "text/x-python",
   "name": "python",
   "nbconvert_exporter": "python",
   "pygments_lexer": "ipython3",
   "version": "3.6.7"
  }
 },
 "nbformat": 4,
 "nbformat_minor": 2
}
