{
 "cells": [
  {
   "cell_type": "code",
   "execution_count": 5,
   "metadata": {},
   "outputs": [],
   "source": [
    "import shapely.geometry\n",
    "import pyproj"
   ]
  },
  {
   "cell_type": "code",
   "execution_count": 1,
   "metadata": {
    "scrolled": true
   },
   "outputs": [
    {
     "name": "stdout",
     "output_type": "stream",
     "text": [
      "Populating the interactive namespace from numpy and matplotlib\n"
     ]
    }
   ],
   "source": [
    "%pylab inline"
   ]
  },
  {
   "cell_type": "code",
   "execution_count": 1,
   "metadata": {},
   "outputs": [],
   "source": [
    "from grid import Grid\n",
    "from entrie import Entrie, EntrieType "
   ]
  },
  {
   "cell_type": "code",
   "execution_count": 2,
   "metadata": {},
   "outputs": [],
   "source": [
    "nw = (60.140862, 29.932493)\n",
    "se = (59.738452, 30.654168)\n",
    "\n",
    "grid = Grid.load_cell_centers('spb-100-v1.txt')"
   ]
  },
  {
   "cell_type": "code",
   "execution_count": 9,
   "metadata": {},
   "outputs": [
    {
     "data": {
      "text/plain": [
       "(1, 9)"
      ]
     },
     "execution_count": 9,
     "metadata": {},
     "output_type": "execute_result"
    }
   ],
   "source": [
    "grid.find_suitable_position(60.140, 29.94)"
   ]
  },
  {
   "cell_type": "code",
   "execution_count": 20,
   "metadata": {},
   "outputs": [
    {
     "name": "stdout",
     "output_type": "stream",
     "text": [
      "(59.84890953266116, 30.068633938742234) (60.14086199999999, 29.951951505593648)\n",
      "(59.84890953266116, 30.068633938742234) (60.09594623579401, 29.951951505593648)\n",
      "(59.84890953266116, 30.068633938742234) (60.051030471588035, 29.951951505593648)\n",
      "(59.84890953266116, 30.068633938742234) (60.00611470738206, 29.951951505593648)\n",
      "(59.84890953266116, 30.068633938742234) (59.961198943176086, 29.951951505593648)\n",
      "(59.84890953266116, 30.068633938742234) (59.91628317897012, 29.951951505593648)\n",
      "(59.84890953266116, 30.068633938742234) (59.87136741476414, 29.951951505593648)\n",
      "(59.84890953266116, 30.068633938742234) (59.82645165055816, 29.951951505593648)\n"
     ]
    }
   ],
   "source": [
    "i, j = grid.add_entrie(Entrie((59.84890953266116, 30.068633938742236)), EntrieType.VACANCY)"
   ]
  },
  {
   "cell_type": "code",
   "execution_count": 27,
   "metadata": {},
   "outputs": [],
   "source": [
    "with open(\"./tabula-rasa/spb-100-v1.txt\", 'r') as file:\n",
    "    data = file.read().replace('(', '').replace(')', '')\n",
    "    centers = [[tuple(float(i) for i in c.split(', ')) for c in row.split('; ')] for row in data.split('\\n')]"
   ]
  },
  {
   "cell_type": "code",
   "execution_count": null,
   "metadata": {},
   "outputs": [],
   "source": []
  },
  {
   "cell_type": "code",
   "execution_count": 25,
   "metadata": {
    "scrolled": true
   },
   "outputs": [
    {
     "data": {
      "text/plain": [
       "(60.16331988210298, 29.97140620171343)"
      ]
     },
     "execution_count": 25,
     "metadata": {},
     "output_type": "execute_result"
    }
   ],
   "source": [
    "midpoint(grid.cells[0][0].center, grid.cells[0][1].center)"
   ]
  },
  {
   "cell_type": "code",
   "execution_count": 26,
   "metadata": {},
   "outputs": [
    {
     "data": {
      "text/plain": [
       "(60.16331988210298, 30.04919449246976)"
      ]
     },
     "execution_count": 26,
     "metadata": {},
     "output_type": "execute_result"
    }
   ],
   "source": [
    "midpoint(grid.cells[0][2].center, grid.cells[0][3].center)"
   ]
  },
  {
   "cell_type": "code",
   "execution_count": 6,
   "metadata": {},
   "outputs": [],
   "source": [
    "from utils import midpoint"
   ]
  },
  {
   "cell_type": "code",
   "execution_count": 7,
   "metadata": {},
   "outputs": [
    {
     "data": {
      "text/plain": [
       "(60.14086199999999, 29.951951505593648)"
      ]
     },
     "execution_count": 7,
     "metadata": {},
     "output_type": "execute_result"
    }
   ],
   "source": [
    "for i in range(len(grid.cells) - 1):\n",
    "    m = midpoint(grid.cells[0][i].center, grid.cells[i + 1][0].center)\n",
    "    if m[0] > c[0]:\n",
    "        for j in range(len(grid.cells[i]) - 1):\n",
    "            if c[1] > m[1]:\n",
    "                return "
   ]
  },
  {
   "cell_type": "code",
   "execution_count": null,
   "metadata": {},
   "outputs": [],
   "source": [
    "if m[0] < c[0]"
   ]
  }
 ],
 "metadata": {
  "kernelspec": {
   "display_name": "Python 3",
   "language": "python",
   "name": "python3"
  },
  "language_info": {
   "codemirror_mode": {
    "name": "ipython",
    "version": 3
   },
   "file_extension": ".py",
   "mimetype": "text/x-python",
   "name": "python",
   "nbconvert_exporter": "python",
   "pygments_lexer": "ipython3",
   "version": "3.6.7"
  }
 },
 "nbformat": 4,
 "nbformat_minor": 2
}
