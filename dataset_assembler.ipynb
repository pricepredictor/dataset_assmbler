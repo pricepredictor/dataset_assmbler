{
 "cells": [
  {
   "cell_type": "code",
   "execution_count": 5,
   "metadata": {},
   "outputs": [],
   "source": [
    "import shapely.geometry\n",
    "import pyproj"
   ]
  },
  {
   "cell_type": "code",
   "execution_count": 1,
   "metadata": {
    "scrolled": true
   },
   "outputs": [
    {
     "name": "stdout",
     "output_type": "stream",
     "text": [
      "Populating the interactive namespace from numpy and matplotlib\n"
     ]
    }
   ],
   "source": [
    "%pylab inline\n"
   ]
  },
  {
   "cell_type": "code",
   "execution_count": null,
   "metadata": {},
   "outputs": [],
   "source": []
  },
  {
   "cell_type": "code",
   "execution_count": 11,
   "metadata": {
    "scrolled": true
   },
   "outputs": [
    {
     "ename": "TypeError",
     "evalue": "a bytes-like object is required, not 'str'",
     "output_type": "error",
     "traceback": [
      "\u001b[0;31m---------------------------------------------------------------------------\u001b[0m",
      "\u001b[0;31mTypeError\u001b[0m                                 Traceback (most recent call last)",
      "\u001b[0;32m<ipython-input-11-a77a1bc5d508>\u001b[0m in \u001b[0;36m<module>\u001b[0;34m()\u001b[0m\n\u001b[1;32m     28\u001b[0m \u001b[0;34m\u001b[0m\u001b[0m\n\u001b[1;32m     29\u001b[0m \u001b[0;32mwith\u001b[0m \u001b[0mopen\u001b[0m\u001b[0;34m(\u001b[0m\u001b[0;34m'testout.csv'\u001b[0m\u001b[0;34m,\u001b[0m \u001b[0;34m'wb'\u001b[0m\u001b[0;34m)\u001b[0m \u001b[0;32mas\u001b[0m \u001b[0mof\u001b[0m\u001b[0;34m:\u001b[0m\u001b[0;34m\u001b[0m\u001b[0;34m\u001b[0m\u001b[0m\n\u001b[0;32m---> 30\u001b[0;31m     \u001b[0mof\u001b[0m\u001b[0;34m.\u001b[0m\u001b[0mwrite\u001b[0m\u001b[0;34m(\u001b[0m\u001b[0;34m'lon;lat\\n'\u001b[0m\u001b[0;34m)\u001b[0m\u001b[0;34m\u001b[0m\u001b[0;34m\u001b[0m\u001b[0m\n\u001b[0m\u001b[1;32m     31\u001b[0m     \u001b[0;32mfor\u001b[0m \u001b[0mp\u001b[0m \u001b[0;32min\u001b[0m \u001b[0mgridpoints\u001b[0m\u001b[0;34m:\u001b[0m\u001b[0;34m\u001b[0m\u001b[0;34m\u001b[0m\u001b[0m\n\u001b[1;32m     32\u001b[0m         \u001b[0mof\u001b[0m\u001b[0;34m.\u001b[0m\u001b[0mwrite\u001b[0m\u001b[0;34m(\u001b[0m\u001b[0;34mf'{p.x};{p.y}\\n'\u001b[0m\u001b[0;34m)\u001b[0m\u001b[0;34m\u001b[0m\u001b[0;34m\u001b[0m\u001b[0m\n",
      "\u001b[0;31mTypeError\u001b[0m: a bytes-like object is required, not 'str'"
     ]
    }
   ],
   "source": [
    "# Set up projections\n",
    "p_ll = pyproj.Proj(init='epsg:4326')\n",
    "p_mt = pyproj.Proj(init='epsg:3857') # metric; same as EPSG:900913\n",
    "\n",
    "# Create corners of rectangle to be transformed to a grid\n",
    "nw = shapely.geometry.Point((-5.0, 40.0))\n",
    "se = shapely.geometry.Point((-4.0, 41.0))\n",
    "\n",
    "stepsize = 5000 # 5 km grid step size\n",
    "\n",
    "# Project corners to target projection\n",
    "s = pyproj.transform(p_ll, p_mt, nw.x, nw.y) # Transform NW point to 3857\n",
    "e = pyproj.transform(p_ll, p_mt, se.x, se.y) # .. same for SE\n",
    "\n",
    "# Iterate over 2D area\n",
    "gridpoints = []\n",
    "x = s[0]\n",
    "while x < e[0]:\n",
    "    y = s[1]\n",
    "    while y < e[1]:\n",
    "        p = shapely.geometry.Point(pyproj.transform(p_mt, p_ll, x, y))\n",
    "        gridpoints.append(p)\n",
    "        y += stepsize\n",
    "    x += stepsize"
   ]
  },
  {
   "cell_type": "code",
   "execution_count": 17,
   "metadata": {},
   "outputs": [],
   "source": []
  },
  {
   "cell_type": "code",
   "execution_count": 17,
   "metadata": {},
   "outputs": [],
   "source": [
    "import shapely.geometry\n",
    "import pyproj\n",
    "\n",
    "from utils import midpoint\n",
    "from entrie import Entrie, EntrieType \n",
    "from cell import Cell\n",
    "\n",
    "class Grid:\n",
    "    def __init__(self, cells):\n",
    "        self.cells = cells\n",
    "\n",
    "    def add_entrie(self, entrie: Entrie, type: EntrieType):\n",
    "        c = entrie.coorditates\n",
    "        for i in range(len(self.cells) - 1):\n",
    "            m = midpoint(self.cells[i][0].center, self.cells[i + 1][0].center)\n",
    "            if c[0] > m[0]:\n",
    "                for j in range(len(self.cells[i]) - 1):\n",
    "                    m = midpoint(self.cells[i][j].center, self.cells[i][j + 1].center)\n",
    "                    if m[1] > c[1]:\n",
    "                        self.cells[i][j].add_entrie(entrie, type)\n",
    "                        return i, j\n",
    "\n",
    "    def make_grid(top_left, bottom_right, initial_size=100):\n",
    "        \"\"\"Factory method for creating Grid instances\"\"\"\n",
    "        \n",
    "        # Set up projections\n",
    "        p_ll = pyproj.Proj(init='epsg:4326')\n",
    "        p_mt = pyproj.Proj(init='epsg:3857') # metric; same as EPSG:900913\n",
    "\n",
    "        # Create corners of rectangle to be transformed to a grid\n",
    "        nw = shapely.geometry.Point(top_left)\n",
    "        se = shapely.geometry.Point(bottom_right)\n",
    "\n",
    "        stepsize = initial_size\n",
    "\n",
    "        # Project corners to target projection\n",
    "        s = pyproj.transform(p_ll, p_mt, nw.x, nw.y) # Transform NW point to 3857\n",
    "        e = pyproj.transform(p_ll, p_mt, se.x, se.y) # .. same for SE\n",
    "\n",
    "        # Iterate over 2D area\n",
    "        cells = []\n",
    "        x = s[0]\n",
    "        while x > e[0]:\n",
    "            y = s[1]\n",
    "            row = []\n",
    "            while y < e[1]:\n",
    "                nw_point = shapely.geometry.Point(pyproj.transform(p_mt, p_ll, x, y))\n",
    "                se_point = shapely.geometry.Point(pyproj.transform(p_mt, p_ll, x + stepsize, y + stepsize))\n",
    "                row.append(Cell(midpoint((nw_point.x, nw_point.y), (se_point.x, se_point.y))))\n",
    "                y += stepsize\n",
    "            cells.append(row)\n",
    "            x -= stepsize\n",
    "\n",
    "        return Grid(cells)"
   ]
  },
  {
   "cell_type": "code",
   "execution_count": 18,
   "metadata": {},
   "outputs": [],
   "source": [
    "nw = (60.140862, 29.932493)\n",
    "se = (59.738452, 30.654168)\n",
    "\n",
    "grid = Grid.make_grid(nw, se, 5000)"
   ]
  },
  {
   "cell_type": "code",
   "execution_count": 19,
   "metadata": {},
   "outputs": [
    {
     "data": {
      "text/plain": [
       "9"
      ]
     },
     "execution_count": 19,
     "metadata": {},
     "output_type": "execute_result"
    }
   ],
   "source": [
    "len(grid.cells)"
   ]
  },
  {
   "cell_type": "code",
   "execution_count": 20,
   "metadata": {},
   "outputs": [
    {
     "name": "stdout",
     "output_type": "stream",
     "text": [
      "(59.84890953266116, 30.068633938742234) (60.14086199999999, 29.951951505593648)\n",
      "(59.84890953266116, 30.068633938742234) (60.09594623579401, 29.951951505593648)\n",
      "(59.84890953266116, 30.068633938742234) (60.051030471588035, 29.951951505593648)\n",
      "(59.84890953266116, 30.068633938742234) (60.00611470738206, 29.951951505593648)\n",
      "(59.84890953266116, 30.068633938742234) (59.961198943176086, 29.951951505593648)\n",
      "(59.84890953266116, 30.068633938742234) (59.91628317897012, 29.951951505593648)\n",
      "(59.84890953266116, 30.068633938742234) (59.87136741476414, 29.951951505593648)\n",
      "(59.84890953266116, 30.068633938742234) (59.82645165055816, 29.951951505593648)\n"
     ]
    }
   ],
   "source": [
    "i, j = grid.add_entrie(Entrie((59.84890953266116, 30.068633938742236)), EntrieType.VACANCY)"
   ]
  },
  {
   "cell_type": "code",
   "execution_count": 21,
   "metadata": {},
   "outputs": [
    {
     "data": {
      "text/plain": [
       "(7, 3)"
      ]
     },
     "execution_count": 21,
     "metadata": {},
     "output_type": "execute_result"
    }
   ],
   "source": [
    "i, j"
   ]
  },
  {
   "cell_type": "code",
   "execution_count": 22,
   "metadata": {},
   "outputs": [
    {
     "data": {
      "text/plain": [
       "{<EntrieType.VACANCY: 1>: [<entrie.Entrie at 0x7f78f409b668>],\n",
       " <EntrieType.APARTMENT: 2>: [],\n",
       " <EntrieType.SHOP: 3>: [],\n",
       " <EntrieType.BUS_STOP: 4>: [],\n",
       " <EntrieType.TRAM_STOP: 5>: [],\n",
       " <EntrieType.SUBWAY_STATION: 6>: [],\n",
       " <EntrieType.CAFE: 7>: [],\n",
       " <EntrieType.OFFICE: 8>: [],\n",
       " <EntrieType.POINT_OF_INTEREST: 9>: []}"
      ]
     },
     "execution_count": 22,
     "metadata": {},
     "output_type": "execute_result"
    }
   ],
   "source": [
    "grid.cells[7][3].entries"
   ]
  },
  {
   "cell_type": "code",
   "execution_count": 25,
   "metadata": {
    "scrolled": true
   },
   "outputs": [
    {
     "data": {
      "text/plain": [
       "(60.16331988210298, 29.97140620171343)"
      ]
     },
     "execution_count": 25,
     "metadata": {},
     "output_type": "execute_result"
    }
   ],
   "source": [
    "midpoint(grid.cells[0][0].center, grid.cells[0][1].center)"
   ]
  },
  {
   "cell_type": "code",
   "execution_count": 26,
   "metadata": {},
   "outputs": [
    {
     "data": {
      "text/plain": [
       "(60.16331988210298, 30.04919449246976)"
      ]
     },
     "execution_count": 26,
     "metadata": {},
     "output_type": "execute_result"
    }
   ],
   "source": [
    "midpoint(grid.cells[0][2].center, grid.cells[0][3].center)"
   ]
  },
  {
   "cell_type": "code",
   "execution_count": 6,
   "metadata": {},
   "outputs": [],
   "source": [
    "from utils import midpoint"
   ]
  },
  {
   "cell_type": "code",
   "execution_count": 7,
   "metadata": {},
   "outputs": [
    {
     "data": {
      "text/plain": [
       "(60.14086199999999, 29.951951505593648)"
      ]
     },
     "execution_count": 7,
     "metadata": {},
     "output_type": "execute_result"
    }
   ],
   "source": [
    "for i in range(len(grid.cells) - 1):\n",
    "    m = midpoint(grid.cells[0][i].center, grid.cells[i + 1][0].center)\n",
    "    if m[0] > c[0]:\n",
    "        for j in range(len(grid.cells[i]) - 1):\n",
    "            if c[1] > m[1]:\n",
    "                return "
   ]
  },
  {
   "cell_type": "code",
   "execution_count": null,
   "metadata": {},
   "outputs": [],
   "source": [
    "if m[0] < c[0]"
   ]
  }
 ],
 "metadata": {
  "kernelspec": {
   "display_name": "Python 3",
   "language": "python",
   "name": "python3"
  },
  "language_info": {
   "codemirror_mode": {
    "name": "ipython",
    "version": 3
   },
   "file_extension": ".py",
   "mimetype": "text/x-python",
   "name": "python",
   "nbconvert_exporter": "python",
   "pygments_lexer": "ipython3",
   "version": "3.6.7"
  }
 },
 "nbformat": 4,
 "nbformat_minor": 2
}
