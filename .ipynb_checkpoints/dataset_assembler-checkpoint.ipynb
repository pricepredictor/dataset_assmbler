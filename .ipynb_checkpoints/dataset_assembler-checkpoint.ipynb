{
 "cells": [
  {
   "cell_type": "code",
   "execution_count": 1,
   "metadata": {},
   "outputs": [],
   "source": [
    "import shapely.geometry\n",
    "import pyproj\n",
    "import json\n",
    "import statistics\n",
    "import numpy as np\n",
    "import pandas as pd\n",
    "\n",
    "\n",
    "#from grid import Grid\n",
    "#from cell import Cell\n",
    "from entrie import Entrie, EntrieType \n",
    "from utils import *"
   ]
  },
  {
   "cell_type": "code",
   "execution_count": 2,
   "metadata": {},
   "outputs": [
    {
     "name": "stdout",
     "output_type": "stream",
     "text": [
      "Populating the interactive namespace from numpy and matplotlib\n"
     ]
    },
    {
     "name": "stderr",
     "output_type": "stream",
     "text": [
      "/home/disa/.local/lib/python3.6/site-packages/IPython/core/magics/pylab.py:160: UserWarning: pylab import has clobbered these variables: ['sin', 'cos', 'pi', 'degrees', 'radians']\n",
      "`%matplotlib` prevents importing * from pylab and numpy\n",
      "  \"\\n`%matplotlib` prevents importing * from pylab and numpy\"\n"
     ]
    }
   ],
   "source": [
    "%pylab inline"
   ]
  },
  {
   "cell_type": "code",
   "execution_count": 48,
   "metadata": {},
   "outputs": [],
   "source": [
    "def clean_avito_data(column_order, column_types):\n",
    "    for city_abbr in ['smr', 'spb']:\n",
    "        avito_data = pd.read_csv(f'./data/flats/{city_abbr}.csv')\n",
    "        avito_data.drop_duplicates(inplace=True)\n",
    "        avito_data['year'] = 0       \n",
    "        columns_to_drop = ['adress', 'distance to subway', 'subway_station']\n",
    "        #avito_data.drop(columns_to_drop, inplace=True, axis=1)\n",
    "        #avito_data = avito_data.fillna(0).astype(int)\n",
    "        avito_data = avito_data[column_order].astype(column_types)\n",
    "        avito_data = avito_data        \n",
    "        avito_data.to_csv(f'./data/flats/{city_abbr}_avito.csv', index=False)"
   ]
  },
  {
   "cell_type": "code",
   "execution_count": 114,
   "metadata": {},
   "outputs": [],
   "source": [
    "def save_domofond_data(city_abbr, domofond_data):\n",
    "    clone = pd.DataFrame(columns=domofond_data.columns)\n",
    "    new_rows = []\n",
    "    for i, row in domofond_data.iterrows():\n",
    "        floor, floors_total = [int(f) for f in row[\"floor\"].split('/')]\n",
    "        row['floor'] = floor\n",
    "        row['floors_total'] = floors_total\n",
    "        row['year'] = int(row['year'].split('.')[0]) if type(row['year']) == str and row['year'] != 'None' else 0   \n",
    "        new_rows.append(row.values)\n",
    "    clone.append(pd.DataFrame(new_rows, columns=domofond_data.columns)).to_csv(f'./data/flats/{city_abbr}_domofond.csv', index=False)"
   ]
  },
  {
   "cell_type": "code",
   "execution_count": 115,
   "metadata": {},
   "outputs": [],
   "source": [
    "def clean_domofond_data(column_order, column_types):\n",
    "    for city_abbr in ['smr']:\n",
    "        domofond_data = pd.read_csv(f'./data/flats/{city_abbr}_domofond.csv')\n",
    "        domofond_data.drop_duplicates(inplace=True)\n",
    "        columns_to_drop = ['adress']\n",
    "        #avito_data.drop(columns_to_drop, inplace=True, axis=1)\n",
    "        save_domofond_data(city_abbr, domofond_data)"
   ]
  },
  {
   "cell_type": "code",
   "execution_count": 117,
   "metadata": {},
   "outputs": [],
   "source": [
    "def merge_domofond_and_avito():\n",
    "    for city_abbr in ['smr']:\n",
    "        domofond_data = pd.read_csv(f'./data/flats/{city_abbr}_domofond.csv')\n",
    "        avito_data = pd.read_csv(f'./data/flats/{city_abbr}_avito.csv.csv')\n",
    "        merged = pd.concat([domofond_data, avito_data])\n",
    "        merged.to_csv(f'./data/flats/{city_abbr}.csv', index=False)        "
   ]
  },
  {
   "cell_type": "code",
   "execution_count": 119,
   "metadata": {
    "scrolled": true
   },
   "outputs": [
    {
     "ename": "AttributeError",
     "evalue": "'numpy.float64' object has no attribute 'split'",
     "output_type": "error",
     "traceback": [
      "\u001b[0;31m---------------------------------------------------------------------------\u001b[0m",
      "\u001b[0;31mAttributeError\u001b[0m                            Traceback (most recent call last)",
      "\u001b[0;32m<ipython-input-119-a490b55bf85b>\u001b[0m in \u001b[0;36m<module>\u001b[0;34m()\u001b[0m\n\u001b[1;32m      2\u001b[0m \u001b[0mcolumn_types\u001b[0m \u001b[0;34m=\u001b[0m \u001b[0;34m{\u001b[0m\u001b[0;34m\"floor\"\u001b[0m\u001b[0;34m:\u001b[0m \u001b[0mint\u001b[0m\u001b[0;34m,\u001b[0m \u001b[0;34m\"year\"\u001b[0m\u001b[0;34m:\u001b[0m \u001b[0mint\u001b[0m\u001b[0;34m}\u001b[0m\u001b[0;34m\u001b[0m\u001b[0;34m\u001b[0m\u001b[0m\n\u001b[1;32m      3\u001b[0m \u001b[0mclean_avito_data\u001b[0m\u001b[0;34m(\u001b[0m\u001b[0mcolumn_order\u001b[0m\u001b[0;34m,\u001b[0m \u001b[0mcolumn_types\u001b[0m\u001b[0;34m)\u001b[0m\u001b[0;34m\u001b[0m\u001b[0;34m\u001b[0m\u001b[0m\n\u001b[0;32m----> 4\u001b[0;31m \u001b[0mclean_domofond_data\u001b[0m\u001b[0;34m(\u001b[0m\u001b[0mcolumn_order\u001b[0m\u001b[0;34m,\u001b[0m \u001b[0mcolumn_types\u001b[0m\u001b[0;34m)\u001b[0m\u001b[0;34m\u001b[0m\u001b[0;34m\u001b[0m\u001b[0m\n\u001b[0m\u001b[1;32m      5\u001b[0m \u001b[0mmerge_domofond_and_avito\u001b[0m\u001b[0;34m(\u001b[0m\u001b[0;34m)\u001b[0m\u001b[0;34m\u001b[0m\u001b[0;34m\u001b[0m\u001b[0m\n",
      "\u001b[0;32m<ipython-input-115-3eaa3a366ab4>\u001b[0m in \u001b[0;36mclean_domofond_data\u001b[0;34m(column_order, column_types)\u001b[0m\n\u001b[1;32m      5\u001b[0m         \u001b[0mcolumns_to_drop\u001b[0m \u001b[0;34m=\u001b[0m \u001b[0;34m[\u001b[0m\u001b[0;34m'adress'\u001b[0m\u001b[0;34m]\u001b[0m\u001b[0;34m\u001b[0m\u001b[0;34m\u001b[0m\u001b[0m\n\u001b[1;32m      6\u001b[0m         \u001b[0;31m#avito_data.drop(columns_to_drop, inplace=True, axis=1)\u001b[0m\u001b[0;34m\u001b[0m\u001b[0;34m\u001b[0m\u001b[0;34m\u001b[0m\u001b[0m\n\u001b[0;32m----> 7\u001b[0;31m         \u001b[0msave_domofond_data\u001b[0m\u001b[0;34m(\u001b[0m\u001b[0mcity_abbr\u001b[0m\u001b[0;34m,\u001b[0m \u001b[0mdomofond_data\u001b[0m\u001b[0;34m)\u001b[0m\u001b[0;34m\u001b[0m\u001b[0;34m\u001b[0m\u001b[0m\n\u001b[0m",
      "\u001b[0;32m<ipython-input-114-89d627bf1d23>\u001b[0m in \u001b[0;36msave_domofond_data\u001b[0;34m(city_abbr, domofond_data)\u001b[0m\n\u001b[1;32m      3\u001b[0m     \u001b[0mnew_rows\u001b[0m \u001b[0;34m=\u001b[0m \u001b[0;34m[\u001b[0m\u001b[0;34m]\u001b[0m\u001b[0;34m\u001b[0m\u001b[0;34m\u001b[0m\u001b[0m\n\u001b[1;32m      4\u001b[0m     \u001b[0;32mfor\u001b[0m \u001b[0mi\u001b[0m\u001b[0;34m,\u001b[0m \u001b[0mrow\u001b[0m \u001b[0;32min\u001b[0m \u001b[0mdomofond_data\u001b[0m\u001b[0;34m.\u001b[0m\u001b[0miterrows\u001b[0m\u001b[0;34m(\u001b[0m\u001b[0;34m)\u001b[0m\u001b[0;34m:\u001b[0m\u001b[0;34m\u001b[0m\u001b[0;34m\u001b[0m\u001b[0m\n\u001b[0;32m----> 5\u001b[0;31m         \u001b[0mfloor\u001b[0m\u001b[0;34m,\u001b[0m \u001b[0mfloors_total\u001b[0m \u001b[0;34m=\u001b[0m \u001b[0;34m[\u001b[0m\u001b[0mint\u001b[0m\u001b[0;34m(\u001b[0m\u001b[0mf\u001b[0m\u001b[0;34m)\u001b[0m \u001b[0;32mfor\u001b[0m \u001b[0mf\u001b[0m \u001b[0;32min\u001b[0m \u001b[0mrow\u001b[0m\u001b[0;34m[\u001b[0m\u001b[0;34m\"floor\"\u001b[0m\u001b[0;34m]\u001b[0m\u001b[0;34m.\u001b[0m\u001b[0msplit\u001b[0m\u001b[0;34m(\u001b[0m\u001b[0;34m'/'\u001b[0m\u001b[0;34m)\u001b[0m\u001b[0;34m]\u001b[0m\u001b[0;34m\u001b[0m\u001b[0;34m\u001b[0m\u001b[0m\n\u001b[0m\u001b[1;32m      6\u001b[0m         \u001b[0mrow\u001b[0m\u001b[0;34m[\u001b[0m\u001b[0;34m'floor'\u001b[0m\u001b[0;34m]\u001b[0m \u001b[0;34m=\u001b[0m \u001b[0mfloor\u001b[0m\u001b[0;34m\u001b[0m\u001b[0;34m\u001b[0m\u001b[0m\n\u001b[1;32m      7\u001b[0m         \u001b[0mrow\u001b[0m\u001b[0;34m[\u001b[0m\u001b[0;34m'floors_total'\u001b[0m\u001b[0;34m]\u001b[0m \u001b[0;34m=\u001b[0m \u001b[0mfloors_total\u001b[0m\u001b[0;34m\u001b[0m\u001b[0;34m\u001b[0m\u001b[0m\n",
      "\u001b[0;31mAttributeError\u001b[0m: 'numpy.float64' object has no attribute 'split'"
     ]
    }
   ],
   "source": [
    "column_order = [\"price\",\"longitude\",\"latitude\",\"rooms\",\"area\",\"floor\",\"floors_total\",\"year\"]\n",
    "column_types = {\"floor\": int, \"year\": int}\n",
    "clean_avito_data(column_order, column_types)\n",
    "clean_domofond_data(column_order, column_types)\n"
   ]
  },
  {
   "cell_type": "code",
   "execution_count": 120,
   "metadata": {},
   "outputs": [],
   "source": [
    "merge_domofond_and_avito()\n"
   ]
  },
  {
   "cell_type": "code",
   "execution_count": 87,
   "metadata": {},
   "outputs": [
    {
     "data": {
      "text/html": [
       "<div>\n",
       "<style scoped>\n",
       "    .dataframe tbody tr th:only-of-type {\n",
       "        vertical-align: middle;\n",
       "    }\n",
       "\n",
       "    .dataframe tbody tr th {\n",
       "        vertical-align: top;\n",
       "    }\n",
       "\n",
       "    .dataframe thead th {\n",
       "        text-align: right;\n",
       "    }\n",
       "</style>\n",
       "<table border=\"1\" class=\"dataframe\">\n",
       "  <thead>\n",
       "    <tr style=\"text-align: right;\">\n",
       "      <th></th>\n",
       "      <th>price</th>\n",
       "      <th>longitude</th>\n",
       "      <th>latitude</th>\n",
       "      <th>rooms</th>\n",
       "      <th>area</th>\n",
       "      <th>floor</th>\n",
       "      <th>floors_total</th>\n",
       "      <th>year</th>\n",
       "    </tr>\n",
       "  </thead>\n",
       "  <tbody>\n",
       "  </tbody>\n",
       "</table>\n",
       "</div>"
      ],
      "text/plain": [
       "Empty DataFrame\n",
       "Columns: [price, longitude, latitude, rooms, area, floor, floors_total, year]\n",
       "Index: []"
      ]
     },
     "execution_count": 87,
     "metadata": {},
     "output_type": "execute_result"
    }
   ],
   "source": [
    "clone = pd.DataFrame(columns=pd.read_csv(f'./data/flats/{city_abbr}_domofond.csv').columns)"
   ]
  },
  {
   "cell_type": "code",
   "execution_count": 53,
   "metadata": {},
   "outputs": [],
   "source": [
    "domofond_data = pd.read_csv(f'./data/flats/{city_abbr}_domofond.csv')\n"
   ]
  },
  {
   "cell_type": "code",
   "execution_count": 113,
   "metadata": {},
   "outputs": [],
   "source": []
  },
  {
   "cell_type": "code",
   "execution_count": 109,
   "metadata": {},
   "outputs": [
    {
     "data": {
      "text/html": [
       "<div>\n",
       "<style scoped>\n",
       "    .dataframe tbody tr th:only-of-type {\n",
       "        vertical-align: middle;\n",
       "    }\n",
       "\n",
       "    .dataframe tbody tr th {\n",
       "        vertical-align: top;\n",
       "    }\n",
       "\n",
       "    .dataframe thead th {\n",
       "        text-align: right;\n",
       "    }\n",
       "</style>\n",
       "<table border=\"1\" class=\"dataframe\">\n",
       "  <thead>\n",
       "    <tr style=\"text-align: right;\">\n",
       "      <th></th>\n",
       "      <th>price</th>\n",
       "      <th>longitude</th>\n",
       "      <th>latitude</th>\n",
       "      <th>rooms</th>\n",
       "      <th>area</th>\n",
       "      <th>floor</th>\n",
       "      <th>floors_total</th>\n",
       "      <th>year</th>\n",
       "    </tr>\n",
       "  </thead>\n",
       "  <tbody>\n",
       "  </tbody>\n",
       "</table>\n",
       "</div>"
      ],
      "text/plain": [
       "Empty DataFrame\n",
       "Columns: [price, longitude, latitude, rooms, area, floor, floors_total, year]\n",
       "Index: []"
      ]
     },
     "execution_count": 109,
     "metadata": {},
     "output_type": "execute_result"
    }
   ],
   "source": [
    "clone"
   ]
  },
  {
   "cell_type": "code",
   "execution_count": 28,
   "metadata": {},
   "outputs": [],
   "source": []
  },
  {
   "cell_type": "code",
   "execution_count": null,
   "metadata": {},
   "outputs": [],
   "source": []
  },
  {
   "cell_type": "code",
   "execution_count": 13,
   "metadata": {},
   "outputs": [],
   "source": [
    "domofond_data = pd.read_csv(f'./data/flats/{city_abbr}_domofond.csv')"
   ]
  },
  {
   "cell_type": "code",
   "execution_count": null,
   "metadata": {},
   "outputs": [],
   "source": [
    "domofond_data = domofond_data"
   ]
  },
  {
   "cell_type": "code",
   "execution_count": 279,
   "metadata": {},
   "outputs": [],
   "source": [
    "def prepare_table(city_abbr):\n",
    "    flats = pd.read_csv(f'./data/flats/{city_abbr}.csv').drop(columns=['adress', 'subway_station'])\n",
    "    cols = flats.columns.tolist()\n",
    "    cols[-1], cols[-2] = cols[-2], cols[-1]\n",
    "    cols = cols[-2:] + [cols[0]] + cols[1:-2]\n",
    "    flats = flats[cols]\n",
    "    flats['price_per_m'] = (flats['price'] / flats['area']).map(lambda x: int(x))\n",
    "    flats = flats.drop(columns=['price'])\n",
    "    flats['distance_to_center'] = [distance(x, city_dict[city_abbr]['center']) for x in zip(flats.latitude, flats.longitude)]\n",
    "    return flats"
   ]
  },
  {
   "cell_type": "code",
   "execution_count": 284,
   "metadata": {},
   "outputs": [],
   "source": [
    "smr_flats = prepare_table('smr')\n",
    "spb_flats = prepare_table('spb')"
   ]
  },
  {
   "cell_type": "code",
   "execution_count": 416,
   "metadata": {},
   "outputs": [],
   "source": [
    "def assemble_dataset(city_abbr):\n",
    "    with open(f'./data/entries/parsed/{city_abbr}.json') as file:\n",
    "        entry_data = json.load(file)\n",
    "\n",
    "    flats = prepare_table(city_abbr) \n",
    "\n",
    "    R = 6371\n",
    "    feature_list = []\n",
    "    i = 0\n",
    "    for row in flats.iterrows():\n",
    "        i += 1\n",
    "        row = row[1]\n",
    "        row_dict = {\n",
    "             'price_per_m': int(row['price_per_m']),\n",
    "             'rooms': int(row['rooms']),\n",
    "             'area': row['area'], \n",
    "             'floor': int(row['floor']),\n",
    "             'floors_total': int(row['floors_total']),\n",
    "             'distance_to_subway': int(row['distance to subway']),\n",
    "             'distance_to_center': int(row['distance_to_center'])\n",
    "            }\n",
    "        lat, lon = row['latitude'], row['longitude']\n",
    "        for entry_type, entries in zip(entry_data.keys(), entry_data.values()):\n",
    "            c = np.array([entry[0] for entry in entries if type(entry[0][0]) is float]).T\n",
    "            d = c.copy()\n",
    "            d[0] -= lat\n",
    "            d[0] *= (np.pi / 180)\n",
    "            d[1] -= lon\n",
    "            d[1] *= (np.pi / 180)\n",
    "            a = np.sin(d[0] / 2) * np.sin(d[0] / 2) \n",
    "            c = 2 * arctan2(np.sqrt(a), np.sqrt(1 - a)) + np.cos(lat * np.pi / 180) * np.cos(c[0] * np.pi / 180) * np.sin(d[1] / 2) * np.sin(d[1] / 2) \n",
    "            distances = R * c * 1000\n",
    "            if entry_type == 'shop' and np.nonzero(distances<=1000)[0].shape[0] == 0:\n",
    "                break\n",
    "            for r in [500, 1000]:\n",
    "                indices = np.nonzero(distances<=r)[0]\n",
    "                if entry_type in ['vacancy']:\n",
    "                    salaries = [entries[i][1] for i in indices] or [0]\n",
    "                    median = int(statistics.median(salaries))\n",
    "                    mean = int(statistics.mean(salaries))\n",
    "                    row_dict[f'mean_salaries_{r}'] = mean\n",
    "                    row_dict[f'median_salaries_{r}'] = median\n",
    "                row_dict[f'{entry_type}_{str(r)}'] = indices.shape[0]\n",
    "        else:\n",
    "            feature_list.append(row_dict)\n",
    "        if i % 1000 == 0:\n",
    "            print(i)\n",
    "\n",
    "    dataset = pd.DataFrame(feature_list)\n",
    "    dataset.to_csv(f'./datasets/{city_abbr}.csv', index=False)"
   ]
  },
  {
   "cell_type": "code",
   "execution_count": 417,
   "metadata": {},
   "outputs": [
    {
     "name": "stdout",
     "output_type": "stream",
     "text": [
      "1000\n",
      "2000\n",
      "3000\n",
      "4000\n",
      "5000\n",
      "6000\n",
      "7000\n",
      "8000\n",
      "9000\n",
      "10000\n",
      "11000\n",
      "12000\n",
      "13000\n",
      "14000\n",
      "15000\n",
      "16000\n",
      "17000\n",
      "18000\n",
      "19000\n",
      "20000\n",
      "21000\n",
      "22000\n",
      "23000\n",
      "24000\n",
      "25000\n",
      "26000\n",
      "27000\n",
      "28000\n",
      "29000\n",
      "30000\n",
      "31000\n",
      "32000\n",
      "33000\n",
      "34000\n",
      "35000\n",
      "36000\n",
      "37000\n",
      "38000\n",
      "39000\n",
      "40000\n",
      "41000\n",
      "42000\n",
      "43000\n",
      "44000\n",
      "45000\n",
      "46000\n"
     ]
    }
   ],
   "source": [
    "assemble_dataset('smr')"
   ]
  },
  {
   "cell_type": "code",
   "execution_count": 418,
   "metadata": {},
   "outputs": [
    {
     "name": "stdout",
     "output_type": "stream",
     "text": [
      "1000\n",
      "2000\n",
      "3000\n",
      "4000\n",
      "5000\n",
      "6000\n",
      "7000\n",
      "8000\n",
      "9000\n",
      "10000\n",
      "11000\n",
      "12000\n",
      "13000\n",
      "14000\n",
      "15000\n",
      "16000\n",
      "17000\n",
      "18000\n",
      "19000\n",
      "20000\n",
      "21000\n",
      "22000\n",
      "23000\n",
      "24000\n",
      "25000\n",
      "26000\n",
      "27000\n",
      "28000\n",
      "29000\n",
      "30000\n",
      "31000\n",
      "32000\n",
      "33000\n",
      "34000\n",
      "35000\n",
      "36000\n",
      "37000\n",
      "38000\n",
      "39000\n",
      "40000\n",
      "41000\n",
      "42000\n",
      "43000\n",
      "44000\n",
      "45000\n",
      "46000\n",
      "47000\n",
      "48000\n",
      "49000\n",
      "50000\n"
     ]
    }
   ],
   "source": [
    "assemble_dataset('spb')"
   ]
  },
  {
   "cell_type": "code",
   "execution_count": 329,
   "metadata": {},
   "outputs": [],
   "source": []
  },
  {
   "cell_type": "code",
   "execution_count": 331,
   "metadata": {},
   "outputs": [],
   "source": []
  },
  {
   "cell_type": "code",
   "execution_count": 361,
   "metadata": {},
   "outputs": [],
   "source": []
  },
  {
   "cell_type": "code",
   "execution_count": 412,
   "metadata": {},
   "outputs": [],
   "source": []
  },
  {
   "cell_type": "code",
   "execution_count": 413,
   "metadata": {},
   "outputs": [
    {
     "data": {
      "text/plain": [
       "dict_keys(['shop', 'bus_stop', 'tram_stop', 'subway_station', 'cafe', 'office', 'point_of_interest', 'school', 'hospital', 'bank', 'univercity', 'cinema', 'nightlife', 'government', 'leisure', 'hotel', 'vacancy'])"
      ]
     },
     "execution_count": 413,
     "metadata": {},
     "output_type": "execute_result"
    }
   ],
   "source": [
    "entry_data.keys()"
   ]
  },
  {
   "cell_type": "code",
   "execution_count": 415,
   "metadata": {},
   "outputs": [],
   "source": []
  },
  {
   "cell_type": "code",
   "execution_count": null,
   "metadata": {},
   "outputs": [],
   "source": []
  },
  {
   "cell_type": "code",
   "execution_count": null,
   "metadata": {},
   "outputs": [],
   "source": []
  },
  {
   "cell_type": "code",
   "execution_count": null,
   "metadata": {},
   "outputs": [],
   "source": []
  },
  {
   "cell_type": "code",
   "execution_count": null,
   "metadata": {},
   "outputs": [],
   "source": []
  },
  {
   "cell_type": "code",
   "execution_count": null,
   "metadata": {},
   "outputs": [],
   "source": []
  },
  {
   "cell_type": "code",
   "execution_count": null,
   "metadata": {},
   "outputs": [],
   "source": []
  },
  {
   "cell_type": "code",
   "execution_count": null,
   "metadata": {},
   "outputs": [],
   "source": []
  },
  {
   "cell_type": "code",
   "execution_count": null,
   "metadata": {},
   "outputs": [],
   "source": []
  },
  {
   "cell_type": "code",
   "execution_count": null,
   "metadata": {},
   "outputs": [],
   "source": []
  },
  {
   "cell_type": "code",
   "execution_count": null,
   "metadata": {},
   "outputs": [],
   "source": []
  },
  {
   "cell_type": "code",
   "execution_count": 273,
   "metadata": {},
   "outputs": [],
   "source": [
    "from enum import Enum\n",
    "\n",
    "from utils import midpoint\n",
    "from entrie import Entrie, EntrieType\n",
    "\n",
    "\n",
    "class CellTypes(Enum):\n",
    "    URBAN = 1\n",
    "    PARK = 2\n",
    "    WATER = 3\n",
    "\n",
    "\n",
    "class Cell:\n",
    "    def __init__(self, nw, se):\n",
    "        self.nw = nw\n",
    "        self.se = se\n",
    "        self.center = midpoint(nw, se)\n",
    "        self.type = CellTypes.URBAN\n",
    "        self.entries = {\n",
    "            EntrieType.VACANCY: [],\n",
    "            EntrieType.APARTMENT: [],\n",
    "            EntrieType.SHOP: [],\n",
    "            EntrieType.BUS_STOP: [],\n",
    "            EntrieType.TRAM_STOP: [],\n",
    "            EntrieType.SUBWAY_STATION: [],\n",
    "            EntrieType.CAFE: [],\n",
    "            EntrieType.OFFICE: [],\n",
    "            EntrieType.POINT_OF_INTEREST: [],\n",
    "            EntrieType.SCHOOL: [],\n",
    "            EntrieType.HOSPITAL: [],\n",
    "            EntrieType.BANK: [],\n",
    "            EntrieType.UNIVERCITY: [],\n",
    "            EntrieType.CINEMA: [],\n",
    "            EntrieType.NIGHTLIFE: [],\n",
    "            EntrieType.GOVERNMENT: [],\n",
    "            EntrieType.LEISURE: [],\n",
    "            EntrieType.HOTEL: [],\n",
    "            EntrieType.VACANCY: [],\n",
    "        }\n",
    "\n",
    "    def add_entrie(self, entrie: Entrie, entrie_type: EntrieType):\n",
    "        self.entries[entrie_type].append(entrie)\n",
    "\n",
    "\n",
    "    def __add__(self, other):\n",
    "        res = Cell(self.nw, self.se)\n",
    "        for type in self.entries:\n",
    "            res.entries[type] = self.entries[type] + other.entries[type]\n",
    "        return res\n",
    "\n",
    "    def __repr__(self):\n",
    "        return f\"{self.center[0]}, {self.center[1]}\"\n"
   ]
  },
  {
   "cell_type": "code",
   "execution_count": 272,
   "metadata": {},
   "outputs": [],
   "source": [
    "import shapely.geometry\n",
    "import pyproj\n",
    "\n",
    "import numpy as np\n",
    "\n",
    "from typing import List\n",
    "from math import ceil\n",
    "\n",
    "from utils import midpoint, distance\n",
    "from entrie import Entrie, EntrieType\n",
    "\n",
    "\n",
    "\n",
    "class Grid:\n",
    "    def __init__(self, nw, se, step=0.0005):\n",
    "        self.lat_step = step\n",
    "        self.lon_step = step * 2\n",
    "        self.x_step = distance(nw, (nw[0], nw[1] + self.lon_step))\n",
    "        self.y_step = distance(nw, (nw[0] + self.lat_step, nw[1]))\n",
    "        self.cells = np.array([[Cell((lat, lon), (lat + self.lat_step, lon + self.lon_step)) for lon in np.linspace(nw[1], se[1], (se[1] - nw[1]) / self.lon_step)] for lat in np.linspace(nw[0], se[0], (nw[0] - se[0]) / self.lat_step)])\n",
    "        self.nw = self.cells[0][0].nw\n",
    "        self.se = self.cells[-1][-1].se\n",
    "#indices\n",
    "    def cell_indexes(self, coordinates):        \n",
    "        if self.nw[0] >= coordinates[0] >= self.se[0] or self.se[1] >= coordinates[1] >= self.nw[1]:\n",
    "            i = (self.nw[0] - coordinates[0]) // self.lat_step\n",
    "            j = self.cells.shape[1] - 1 - (self.se[1] - coordinates[1]) // self.lon_step\n",
    "            #i = int(min(max(i, 0), self.cells.shape[0] - 1))\n",
    "            #j = int(min(max(j, 0), self.cells.shape[1] - 1))\n",
    "            return (int(i), int(j))\n",
    "        return\n",
    "\n",
    "    def get_all_entries_in_radius(self, coordinates, r: float):\n",
    "        pos = self.cell_indexes(coordinates)\n",
    "        if pos is None:\n",
    "            return {}\n",
    "\n",
    "        i0, j0 = pos\n",
    "        aggrigated_cell = self.cells[i0][j0]\n",
    "        i_steps, j_steps = ceil(r / self.y_step), ceil(r / self.x_step)\n",
    "\n",
    "        for i in range(max(0, i0 - i_steps), min(len(self.cells), i0 + i_steps + 1)):\n",
    "            for j in range(max(0, j0 - j_steps), min(len(self.cells[0]), j0 + j_steps + 1)):\n",
    "                if distance((self.cells[i][j].center), coordinates) - self.y_step / 2 <= r:\n",
    "                    aggrigated_cell += self.cells[i][j]\n",
    "        return aggrigated_cell.entries\n",
    "\n",
    "    def add_entrie(self, entrie: Entrie, entrie_type: EntrieType):\n",
    "        pos = self.cell_indexes(entrie.coorditates)\n",
    "        if not pos is None:\n",
    "            self.cells[pos[0]][pos[1]].add_entrie(entrie, entrie_type)\n",
    "\n"
   ]
  },
  {
   "cell_type": "code",
   "execution_count": 265,
   "metadata": {},
   "outputs": [],
   "source": []
  },
  {
   "cell_type": "code",
   "execution_count": 266,
   "metadata": {},
   "outputs": [
    {
     "data": {
      "text/plain": [
       "1"
      ]
     },
     "execution_count": 266,
     "metadata": {},
     "output_type": "execute_result"
    }
   ],
   "source": [
    "'''\n",
    "def f(grid, coordinates, r):\n",
    "    pos = grid.cell_indexes(coordinates)\n",
    "    if pos is None:\n",
    "        return {}\n",
    "\n",
    "    i0, j0 = pos\n",
    "    print((i0, j0), grid.cells.shape)\n",
    "    aggrigated_cell = grid.cells[i0][j0]\n",
    "    i_steps, j_steps = ceil(r / grid.y_step), ceil(r / grid.x_step)\n",
    "\n",
    "    print([i0, j0])\n",
    "    print(c, (grid.cells[i0][j0].center))\n",
    "    print(distance(c, (grid.cells[i0][j0].center)))\n",
    "    for i in range(max(0, i0 - i_steps), min(len(grid.cells), i0 + i_steps + 1)):\n",
    "        for j in range(max(0, j0 - j_steps), min(len(grid.cells[0]), j0 + j_steps + 1)):\n",
    "            if distance((grid.cells[i][j].center), coordinates) - grid.y_step / 2 <= r:\n",
    "                aggrigated_cell += grid.cells[i][j]\n",
    "                print(i, j)\n",
    "\n",
    "    return aggrigated_cell.entries\n",
    "\n",
    "g = Grid(*city_dict['spb']['borders'], 0.001)\n",
    "c = (59.939811999999996, 30.391174)\n",
    "res = f(g, c, 1000)\n",
    "'''\n",
    "1"
   ]
  },
  {
   "cell_type": "code",
   "execution_count": 267,
   "metadata": {},
   "outputs": [
    {
     "name": "stderr",
     "output_type": "stream",
     "text": [
      "/home/disa/.local/lib/python3.6/site-packages/ipykernel_launcher.py:21: DeprecationWarning: object of type <class 'float'> cannot be safely interpreted as an integer.\n"
     ]
    }
   ],
   "source": [
    "g = Grid(*city_dict['spb']['borders'], 0.001)"
   ]
  },
  {
   "cell_type": "code",
   "execution_count": 268,
   "metadata": {},
   "outputs": [
    {
     "data": {
      "text/plain": [
       "(247, 174)"
      ]
     },
     "execution_count": 268,
     "metadata": {},
     "output_type": "execute_result"
    }
   ],
   "source": [
    "g.cells.shape"
   ]
  },
  {
   "cell_type": "code",
   "execution_count": 269,
   "metadata": {},
   "outputs": [
    {
     "data": {
      "text/plain": [
       "(0, -2)"
      ]
     },
     "execution_count": 269,
     "metadata": {},
     "output_type": "execute_result"
    }
   ],
   "source": [
    "g.cell_indexes((60.080844, 30.175307))"
   ]
  },
  {
   "cell_type": "code",
   "execution_count": 271,
   "metadata": {
    "scrolled": true
   },
   "outputs": [
    {
     "data": {
      "text/plain": [
       "(247, 172)"
      ]
     },
     "execution_count": 271,
     "metadata": {},
     "output_type": "execute_result"
    }
   ],
   "source": [
    "g.cell_indexes((59.833303, 30.525164))"
   ]
  },
  {
   "cell_type": "code",
   "execution_count": 243,
   "metadata": {},
   "outputs": [],
   "source": [
    "def make_grid(city_abbr):\n",
    "    with open(f'./data/entries/parsed/{city_abbr}.json') as file:\n",
    "        etrie_data = json.load(file)\n",
    "        \n",
    "    grid = Grid(*city_dict[city_abbr]['borders'], 0.001)\n",
    "    grid.nw = city_dict[city_abbr]['borders'][0]\n",
    "    grid.se = city_dict[city_abbr]['borders'][1]\n",
    "    \n",
    "    #print(abs(grid.nw[0] - grid.se[0]) // grid.dlat, abs(grid.nw[1] - grid.se[1]) // grid.dlon)\n",
    "    \n",
    "    i = 0\n",
    "    for entrie_type_value, raw_entries in zip(etrie_data.keys(), etrie_data.values()):\n",
    "        entrie_type = EntrieType(entrie_type_value)\n",
    "        j = 0\n",
    "        for raw_entrie in raw_entries:\n",
    "            \n",
    "            processed_entrie = Entrie(*raw_entrie)\n",
    "\n",
    "            if type(processed_entrie.coorditates[0]) != type(1.2):\n",
    "                continue\n",
    "                     \n",
    "            grid.add_entrie(processed_entrie, entrie_type)\n",
    "            j += 1\n",
    "            if j  % 100 == 0:\n",
    "                pass\n",
    "                #print(f'{j}/{len(raw_entries)}')\n",
    "        i += 1\n",
    "        print(f'{round(j/len(raw_entries), 2)} ({i} / {len(etrie_data.keys())})')\n",
    "    \n",
    "    return grid"
   ]
  },
  {
   "cell_type": "code",
   "execution_count": 244,
   "metadata": {},
   "outputs": [],
   "source": [
    "def extract_public_trasport_stops(city_abbr):\n",
    "    with open(f'./data/entries/parsed/{city_abbr}.json') as file:\n",
    "        etrie_data = json.load(file)\n",
    "    return [e[0] for e in etrie_data['subway_station']] + [e[0] for e in etrie_data['tram_stop']] + [e[0] for e in etrie_data['bus_stop']]\n",
    "    "
   ]
  },
  {
   "cell_type": "code",
   "execution_count": 245,
   "metadata": {},
   "outputs": [
    {
     "name": "stderr",
     "output_type": "stream",
     "text": [
      "/home/disa/.local/lib/python3.6/site-packages/ipykernel_launcher.py:21: DeprecationWarning: object of type <class 'float'> cannot be safely interpreted as an integer.\n"
     ]
    },
    {
     "name": "stdout",
     "output_type": "stream",
     "text": [
      "1.0 (1 / 17)\n",
      "1.0 (2 / 17)\n",
      "1.0 (3 / 17)\n",
      "1.0 (4 / 17)\n",
      "1.0 (5 / 17)\n",
      "1.0 (6 / 17)\n",
      "1.0 (7 / 17)\n",
      "0.95 (8 / 17)\n",
      "1.0 (9 / 17)\n",
      "1.0 (10 / 17)\n",
      "0.78 (11 / 17)\n",
      "1.0 (12 / 17)\n",
      "1.0 (13 / 17)\n",
      "0.99 (14 / 17)\n",
      "0.99 (15 / 17)\n",
      "1.0 (16 / 17)\n",
      "1.0 (17 / 17)\n",
      "1.0 (1 / 17)\n",
      "1.0 (2 / 17)\n",
      "1.0 (3 / 17)\n",
      "1.0 (4 / 17)\n",
      "1.0 (5 / 17)\n",
      "1.0 (6 / 17)\n",
      "1.0 (7 / 17)\n",
      "1.0 (8 / 17)\n",
      "1.0 (9 / 17)\n",
      "1.0 (10 / 17)\n",
      "1.0 (11 / 17)\n",
      "1.0 (12 / 17)\n",
      "1.0 (13 / 17)\n",
      "1.0 (14 / 17)\n",
      "1.0 (15 / 17)\n",
      "1.0 (16 / 17)\n",
      "1.0 (17 / 17)\n"
     ]
    }
   ],
   "source": [
    "for city_abbr in city_dict.keys(): \n",
    "    city_dict[city_abbr]['grid'] = make_grid(city_abbr)"
   ]
  },
  {
   "cell_type": "code",
   "execution_count": 246,
   "metadata": {},
   "outputs": [],
   "source": [
    "def prepare_table(city_abbr):\n",
    "    flats = pd.read_csv(f'./data/flats/{city_abbr}.csv').drop(columns=['adress', 'subway_station'])\n",
    "    cols = flats.columns.tolist()\n",
    "    cols[-1], cols[-2] = cols[-2], cols[-1]\n",
    "    cols = cols[-2:] + [cols[0]] + cols[1:-2]\n",
    "    flats = flats[cols]\n",
    "    flats['price_per_m'] = (flats['price'] / flats['area']).map(lambda x: int(x))\n",
    "    flats = flats.drop(columns=['price'])\n",
    "    flats['distance_to_center'] = [distance(x, city_dict[city_abbr]['center']) for x in zip(flats.latitude, flats.longitude)]\n",
    "    return flats"
   ]
  },
  {
   "cell_type": "code",
   "execution_count": 247,
   "metadata": {},
   "outputs": [],
   "source": [
    "prepared_smr = prepare_table('smr')\n",
    "prepared_spb = prepare_table('spb')"
   ]
  },
  {
   "cell_type": "code",
   "execution_count": 248,
   "metadata": {},
   "outputs": [],
   "source": [
    "def cook_table(city_abbr, flats):\n",
    "    \n",
    "    i = 0\n",
    "    feature_list = []\n",
    "    grid = city_dict[city_abbr]['grid']\n",
    "\n",
    "    for row in flats.iterrows():\n",
    "        row = row[1]\n",
    "        d = {'price_per_m': int(row['price_per_m']),\n",
    "             'rooms': int(row['rooms']),\n",
    "             'area': row['area'], \n",
    "             'floor': int(row['floor']),\n",
    "             'floors_total': int(row['floors_total']),\n",
    "             'distance_to_subway': int(row['distance to subway']),\n",
    "             'distance_to_center': int(row['distance_to_center'])\n",
    "            }\n",
    "\n",
    "        lat, lon = row[\"latitude\"], row[\"longitude\"]\n",
    "\n",
    "        indexes = grid.cell_indexes((lat, lon)) \n",
    "        \n",
    "                    \n",
    "        if not (indexes):\n",
    "            continue\n",
    "    \n",
    "\n",
    "        i, j = indexes\n",
    "        dist = (distance((lat, lon), (grid.cells[i][j].center)))\n",
    "        if dist > grid.y_step:\n",
    "            print(f'{dist} / {(grid.y_step ** 2 + grid.x_step ** 2) ** 0.5}', [i, j])\n",
    "\n",
    "        entries = {\n",
    "            '500': grid.get_all_entries_in_radius((lat, lon), 500),\n",
    "            '1000': grid.get_all_entries_in_radius((lat, lon), 1000),\n",
    "        }\n",
    "        \n",
    "        \n",
    "        try:\n",
    "            salaries_1000 = [e.weight for e in entries['1000'][EntrieType.VACANCY]] or [0]\n",
    "            salaries_500 = [e.weight for e in entries['500'][EntrieType.VACANCY]] or [0]\n",
    "            \n",
    "            d['mean_salary_1000'] = int(statistics.mean(salaries_1000))\n",
    "            d['median_salary_1000'] = int(statistics.median(salaries_1000))\n",
    "            d['mean_salary_500'] = int(statistics.mean(salaries_500))\n",
    "            d['median_salary_500'] = int(statistics.median(salaries_500))\n",
    "        except KeyError:\n",
    "            continue\n",
    "        for key in entries['500'].keys():\n",
    "            for dist in entries.keys():\n",
    "                d[f'{key.value}_{dist}'] = len([e for e in entries[dist][key]])\n",
    "        feature_list.append(d)\n",
    "        \n",
    "        i += 1\n",
    "        if i % 100 == 0:\n",
    "            print(i)\n",
    "            return pd.DataFrame(feature_list)\n",
    "        \n",
    "        pd.DataFrame(feature_list)\n",
    "        \n",
    "    return pd.DataFrame(feature_list)"
   ]
  },
  {
   "cell_type": "code",
   "execution_count": null,
   "metadata": {},
   "outputs": [],
   "source": []
  },
  {
   "cell_type": "code",
   "execution_count": null,
   "metadata": {},
   "outputs": [],
   "source": []
  },
  {
   "cell_type": "code",
   "execution_count": 249,
   "metadata": {
    "scrolled": true
   },
   "outputs": [
    {
     "name": "stdout",
     "output_type": "stream",
     "text": [
      "12539 / 173.23394586512194 [30, 0]\n",
      "9037 / 173.23394586512194 [56, 0]\n",
      "3899 / 173.23394586512194 [82, 0]\n",
      "8426 / 173.23394586512194 [81, 0]\n",
      "12722 / 173.23394586512194 [31, 0]\n",
      "1768 / 173.23394586512194 [87, 0]\n",
      "13271 / 173.23394586512194 [0, 0]\n",
      "2976 / 173.23394586512194 [82, 0]\n",
      "7195 / 173.23394586512194 [66, 0]\n",
      "4027 / 173.23394586512194 [89, 0]\n",
      "9325 / 173.23394586512194 [81, 0]\n",
      "14430 / 173.23394586512194 [0, 0]\n",
      "10436 / 173.23394586512194 [16, 0]\n",
      "8514 / 173.23394586512194 [37, 0]\n",
      "15158 / 173.23394586512194 [0, 0]\n",
      "8296 / 173.23394586512194 [40, 0]\n",
      "9037 / 173.23394586512194 [56, 0]\n",
      "13271 / 173.23394586512194 [0, 0]\n",
      "12539 / 173.23394586512194 [30, 0]\n",
      "3899 / 173.23394586512194 [82, 0]\n",
      "8373 / 173.23394586512194 [36, 0]\n",
      "12722 / 173.23394586512194 [31, 0]\n",
      "8514 / 173.23394586512194 [37, 0]\n",
      "3417 / 173.23394586512194 [102, 0]\n",
      "15158 / 173.23394586512194 [0, 0]\n",
      "9325 / 173.23394586512194 [81, 0]\n",
      "2976 / 173.23394586512194 [82, 0]\n",
      "14430 / 173.23394586512194 [0, 0]\n",
      "8876 / 173.23394586512194 [29, 0]\n",
      "7195 / 173.23394586512194 [66, 0]\n",
      "8373 / 173.23394586512194 [36, 0]\n",
      "13592 / 173.23394586512194 [27, 0]\n",
      "12722 / 173.23394586512194 [31, 0]\n",
      "8296 / 173.23394586512194 [40, 0]\n",
      "12539 / 173.23394586512194 [30, 0]\n",
      "9037 / 173.23394586512194 [56, 0]\n",
      "1766 / 173.23394586512194 [89, 0]\n",
      "17630 / 173.23394586512194 [0, 0]\n",
      "8876 / 173.23394586512194 [29, 0]\n",
      "14430 / 173.23394586512194 [0, 0]\n",
      "3417 / 173.23394586512194 [102, 0]\n",
      "9325 / 173.23394586512194 [81, 0]\n",
      "8514 / 173.23394586512194 [37, 0]\n",
      "2976 / 173.23394586512194 [82, 0]\n",
      "10841 / 173.23394586512194 [40, 0]\n",
      "4100 / 173.23394586512194 [78, 0]\n",
      "1766 / 173.23394586512194 [89, 0]\n",
      "12539 / 173.23394586512194 [30, 0]\n",
      "8373 / 173.23394586512194 [36, 0]\n",
      "13592 / 173.23394586512194 [27, 0]\n",
      "8296 / 173.23394586512194 [40, 0]\n",
      "3261 / 173.23394586512194 [92, 0]\n",
      "8012 / 173.23394586512194 [36, 0]\n",
      "9325 / 173.23394586512194 [81, 0]\n",
      "4100 / 173.23394586512194 [78, 0]\n",
      "8876 / 173.23394586512194 [29, 0]\n",
      "3417 / 173.23394586512194 [102, 0]\n",
      "8514 / 173.23394586512194 [37, 0]\n",
      "17630 / 173.23394586512194 [0, 0]\n",
      "2976 / 173.23394586512194 [82, 0]\n",
      "3261 / 173.23394586512194 [92, 0]\n",
      "11433 / 173.23394586512194 [30, 0]\n",
      "13592 / 173.23394586512194 [27, 0]\n",
      "1766 / 173.23394586512194 [89, 0]\n",
      "8373 / 173.23394586512194 [36, 0]\n",
      "10841 / 173.23394586512194 [40, 0]\n",
      "3580 / 173.23394586512194 [85, 0]\n",
      "3417 / 173.23394586512194 [102, 0]\n",
      "17630 / 173.23394586512194 [0, 0]\n",
      "2976 / 173.23394586512194 [82, 0]\n",
      "12039 / 173.23394586512194 [65, 0]\n",
      "8876 / 173.23394586512194 [29, 0]\n",
      "4100 / 173.23394586512194 [78, 0]\n",
      "10841 / 173.23394586512194 [40, 0]\n",
      "6312 / 173.23394586512194 [53, 0]\n",
      "13592 / 173.23394586512194 [27, 0]\n",
      "3580 / 173.23394586512194 [85, 0]\n",
      "8012 / 173.23394586512194 [36, 0]\n",
      "12935 / 173.23394586512194 [76, 0]\n",
      "3261 / 173.23394586512194 [92, 0]\n",
      "8012 / 173.23394586512194 [36, 0]\n",
      "1766 / 173.23394586512194 [89, 0]\n",
      "7294 / 173.23394586512194 [60, 0]\n",
      "17630 / 173.23394586512194 [0, 0]\n",
      "6312 / 173.23394586512194 [53, 0]\n",
      "10361 / 173.23394586512194 [50, 0]\n",
      "11433 / 173.23394586512194 [30, 0]\n",
      "2976 / 173.23394586512194 [82, 0]\n",
      "4100 / 173.23394586512194 [78, 0]\n",
      "11433 / 173.23394586512194 [30, 0]\n",
      "10841 / 173.23394586512194 [40, 0]\n",
      "7811 / 173.23394586512194 [53, 0]\n",
      "7294 / 173.23394586512194 [60, 0]\n",
      "12039 / 173.23394586512194 [65, 0]\n",
      "17640 / 173.23394586512194 [0, 0]\n",
      "3580 / 173.23394586512194 [85, 0]\n",
      "3261 / 173.23394586512194 [92, 0]\n",
      "12039 / 173.23394586512194 [65, 0]\n",
      "3136 / 173.23394586512194 [87, 0]\n",
      "7811 / 173.23394586512194 [53, 0]\n",
      "2976 / 173.23394586512194 [82, 0]\n",
      "6312 / 173.23394586512194 [53, 0]\n",
      "12935 / 173.23394586512194 [76, 0]\n",
      "8012 / 173.23394586512194 [36, 0]\n",
      "12935 / 173.23394586512194 [76, 0]\n",
      "12725 / 173.23394586512194 [0, 0]\n",
      "8076 / 173.23394586512194 [55, 0]\n",
      "3136 / 173.23394586512194 [87, 0]\n",
      "7294 / 173.23394586512194 [60, 0]\n",
      "10361 / 173.23394586512194 [50, 0]\n",
      "11433 / 173.23394586512194 [30, 0]\n",
      "3580 / 173.23394586512194 [85, 0]\n",
      "10361 / 173.23394586512194 [50, 0]\n",
      "12586 / 173.23394586512194 [34, 0]\n",
      "8076 / 173.23394586512194 [55, 0]\n",
      "7811 / 173.23394586512194 [53, 0]\n",
      "17640 / 173.23394586512194 [0, 0]\n",
      "12039 / 173.23394586512194 [65, 0]\n",
      "6312 / 173.23394586512194 [53, 0]\n",
      "9048 / 173.23394586512194 [56, 0]\n",
      "17640 / 173.23394586512194 [0, 0]\n",
      "14864 / 173.23394586512194 [87, 0]\n",
      "3136 / 173.23394586512194 [87, 0]\n",
      "9048 / 173.23394586512194 [56, 0]\n",
      "7294 / 173.23394586512194 [60, 0]\n",
      "12935 / 173.23394586512194 [76, 0]\n",
      "12725 / 173.23394586512194 [0, 0]\n",
      "12725 / 173.23394586512194 [0, 0]\n",
      "3562 / 173.23394586512194 [88, 0]\n",
      "11863 / 173.23394586512194 [66, 0]\n",
      "8076 / 173.23394586512194 [55, 0]\n",
      "3562 / 173.23394586512194 [88, 0]\n",
      "7811 / 173.23394586512194 [53, 0]\n",
      "10361 / 173.23394586512194 [50, 0]\n",
      "8994 / 173.23394586512194 [86, 0]\n",
      "12586 / 173.23394586512194 [34, 0]\n",
      "12586 / 173.23394586512194 [34, 0]\n",
      "2101 / 173.23394586512194 [83, 0]\n",
      "9048 / 173.23394586512194 [56, 0]\n",
      "3136 / 173.23394586512194 [87, 0]\n",
      "2101 / 173.23394586512194 [83, 0]\n",
      "14864 / 173.23394586512194 [87, 0]\n",
      "17640 / 173.23394586512194 [0, 0]\n",
      "17487 / 173.23394586512194 [0, 0]\n",
      "14864 / 173.23394586512194 [87, 0]\n",
      "3562 / 173.23394586512194 [88, 0]\n",
      "2976 / 173.23394586512194 [82, 0]\n",
      "8076 / 173.23394586512194 [55, 0]\n",
      "11863 / 173.23394586512194 [66, 0]\n",
      "2976 / 173.23394586512194 [82, 0]\n",
      "12725 / 173.23394586512194 [0, 0]\n",
      "12829 / 173.23394586512194 [0, 0]\n",
      "11863 / 173.23394586512194 [66, 0]\n",
      "2100 / 173.23394586512194 [84, 0]\n",
      "2101 / 173.23394586512194 [83, 0]\n",
      "9048 / 173.23394586512194 [56, 0]\n",
      "12586 / 173.23394586512194 [34, 0]\n",
      "8994 / 173.23394586512194 [86, 0]\n",
      "8994 / 173.23394586512194 [86, 0]\n",
      "2100 / 173.23394586512194 [84, 0]\n"
     ]
    },
    {
     "ename": "KeyboardInterrupt",
     "evalue": "",
     "output_type": "error",
     "traceback": [
      "\u001b[0;31m---------------------------------------------------------------------------\u001b[0m",
      "\u001b[0;31mKeyboardInterrupt\u001b[0m                         Traceback (most recent call last)",
      "\u001b[0;32m<ipython-input-249-d2492ee2d6c1>\u001b[0m in \u001b[0;36m<module>\u001b[0;34m()\u001b[0m\n\u001b[0;32m----> 1\u001b[0;31m \u001b[0msmr_table\u001b[0m \u001b[0;34m=\u001b[0m \u001b[0mcook_table\u001b[0m\u001b[0;34m(\u001b[0m\u001b[0;34m'smr'\u001b[0m\u001b[0;34m,\u001b[0m \u001b[0mprepared_smr\u001b[0m\u001b[0;34m)\u001b[0m\u001b[0;34m\u001b[0m\u001b[0;34m\u001b[0m\u001b[0m\n\u001b[0m",
      "\u001b[0;32m<ipython-input-248-34ceb49a0799>\u001b[0m in \u001b[0;36mcook_table\u001b[0;34m(city_abbr, flats)\u001b[0m\n\u001b[1;32m     32\u001b[0m         entries = {\n\u001b[1;32m     33\u001b[0m             \u001b[0;34m'500'\u001b[0m\u001b[0;34m:\u001b[0m \u001b[0mgrid\u001b[0m\u001b[0;34m.\u001b[0m\u001b[0mget_all_entries_in_radius\u001b[0m\u001b[0;34m(\u001b[0m\u001b[0;34m(\u001b[0m\u001b[0mlat\u001b[0m\u001b[0;34m,\u001b[0m \u001b[0mlon\u001b[0m\u001b[0;34m)\u001b[0m\u001b[0;34m,\u001b[0m \u001b[0;36m500\u001b[0m\u001b[0;34m)\u001b[0m\u001b[0;34m,\u001b[0m\u001b[0;34m\u001b[0m\u001b[0;34m\u001b[0m\u001b[0m\n\u001b[0;32m---> 34\u001b[0;31m             \u001b[0;34m'1000'\u001b[0m\u001b[0;34m:\u001b[0m \u001b[0mgrid\u001b[0m\u001b[0;34m.\u001b[0m\u001b[0mget_all_entries_in_radius\u001b[0m\u001b[0;34m(\u001b[0m\u001b[0;34m(\u001b[0m\u001b[0mlat\u001b[0m\u001b[0;34m,\u001b[0m \u001b[0mlon\u001b[0m\u001b[0;34m)\u001b[0m\u001b[0;34m,\u001b[0m \u001b[0;36m1000\u001b[0m\u001b[0;34m)\u001b[0m\u001b[0;34m,\u001b[0m\u001b[0;34m\u001b[0m\u001b[0;34m\u001b[0m\u001b[0m\n\u001b[0m\u001b[1;32m     35\u001b[0m         }\n\u001b[1;32m     36\u001b[0m \u001b[0;34m\u001b[0m\u001b[0m\n",
      "\u001b[0;32m<ipython-input-236-4c5705f777af>\u001b[0m in \u001b[0;36mget_all_entries_in_radius\u001b[0;34m(self, coordinates, r)\u001b[0m\n\u001b[1;32m     43\u001b[0m         \u001b[0;32mfor\u001b[0m \u001b[0mi\u001b[0m \u001b[0;32min\u001b[0m \u001b[0mrange\u001b[0m\u001b[0;34m(\u001b[0m\u001b[0mmax\u001b[0m\u001b[0;34m(\u001b[0m\u001b[0;36m0\u001b[0m\u001b[0;34m,\u001b[0m \u001b[0mi0\u001b[0m \u001b[0;34m-\u001b[0m \u001b[0mi_steps\u001b[0m\u001b[0;34m)\u001b[0m\u001b[0;34m,\u001b[0m \u001b[0mmin\u001b[0m\u001b[0;34m(\u001b[0m\u001b[0mlen\u001b[0m\u001b[0;34m(\u001b[0m\u001b[0mself\u001b[0m\u001b[0;34m.\u001b[0m\u001b[0mcells\u001b[0m\u001b[0;34m)\u001b[0m\u001b[0;34m,\u001b[0m \u001b[0mi0\u001b[0m \u001b[0;34m+\u001b[0m \u001b[0mi_steps\u001b[0m \u001b[0;34m+\u001b[0m \u001b[0;36m1\u001b[0m\u001b[0;34m)\u001b[0m\u001b[0;34m)\u001b[0m\u001b[0;34m:\u001b[0m\u001b[0;34m\u001b[0m\u001b[0;34m\u001b[0m\u001b[0m\n\u001b[1;32m     44\u001b[0m             \u001b[0;32mfor\u001b[0m \u001b[0mj\u001b[0m \u001b[0;32min\u001b[0m \u001b[0mrange\u001b[0m\u001b[0;34m(\u001b[0m\u001b[0mmax\u001b[0m\u001b[0;34m(\u001b[0m\u001b[0;36m0\u001b[0m\u001b[0;34m,\u001b[0m \u001b[0mj0\u001b[0m \u001b[0;34m-\u001b[0m \u001b[0mj_steps\u001b[0m\u001b[0;34m)\u001b[0m\u001b[0;34m,\u001b[0m \u001b[0mmin\u001b[0m\u001b[0;34m(\u001b[0m\u001b[0mlen\u001b[0m\u001b[0;34m(\u001b[0m\u001b[0mself\u001b[0m\u001b[0;34m.\u001b[0m\u001b[0mcells\u001b[0m\u001b[0;34m[\u001b[0m\u001b[0;36m0\u001b[0m\u001b[0;34m]\u001b[0m\u001b[0;34m)\u001b[0m\u001b[0;34m,\u001b[0m \u001b[0mj0\u001b[0m \u001b[0;34m+\u001b[0m \u001b[0mj_steps\u001b[0m \u001b[0;34m+\u001b[0m \u001b[0;36m1\u001b[0m\u001b[0;34m)\u001b[0m\u001b[0;34m)\u001b[0m\u001b[0;34m:\u001b[0m\u001b[0;34m\u001b[0m\u001b[0;34m\u001b[0m\u001b[0m\n\u001b[0;32m---> 45\u001b[0;31m                 \u001b[0;32mif\u001b[0m \u001b[0mdistance\u001b[0m\u001b[0;34m(\u001b[0m\u001b[0;34m(\u001b[0m\u001b[0mself\u001b[0m\u001b[0;34m.\u001b[0m\u001b[0mcells\u001b[0m\u001b[0;34m[\u001b[0m\u001b[0mi\u001b[0m\u001b[0;34m]\u001b[0m\u001b[0;34m[\u001b[0m\u001b[0mj\u001b[0m\u001b[0;34m]\u001b[0m\u001b[0;34m.\u001b[0m\u001b[0mcenter\u001b[0m\u001b[0;34m)\u001b[0m\u001b[0;34m,\u001b[0m \u001b[0mcoordinates\u001b[0m\u001b[0;34m)\u001b[0m \u001b[0;34m-\u001b[0m \u001b[0mself\u001b[0m\u001b[0;34m.\u001b[0m\u001b[0my_step\u001b[0m \u001b[0;34m/\u001b[0m \u001b[0;36m2\u001b[0m \u001b[0;34m<=\u001b[0m \u001b[0mr\u001b[0m\u001b[0;34m:\u001b[0m\u001b[0;34m\u001b[0m\u001b[0;34m\u001b[0m\u001b[0m\n\u001b[0m\u001b[1;32m     46\u001b[0m                     \u001b[0maggrigated_cell\u001b[0m \u001b[0;34m+=\u001b[0m \u001b[0mself\u001b[0m\u001b[0;34m.\u001b[0m\u001b[0mcells\u001b[0m\u001b[0;34m[\u001b[0m\u001b[0mi\u001b[0m\u001b[0;34m]\u001b[0m\u001b[0;34m[\u001b[0m\u001b[0mj\u001b[0m\u001b[0;34m]\u001b[0m\u001b[0;34m\u001b[0m\u001b[0;34m\u001b[0m\u001b[0m\n\u001b[1;32m     47\u001b[0m         \u001b[0;32mreturn\u001b[0m \u001b[0maggrigated_cell\u001b[0m\u001b[0;34m.\u001b[0m\u001b[0mentries\u001b[0m\u001b[0;34m\u001b[0m\u001b[0;34m\u001b[0m\u001b[0m\n",
      "\u001b[0;32m~/ssau/thesis/dataset-assembler/utils.py\u001b[0m in \u001b[0;36mdistance\u001b[0;34m(p1, p2)\u001b[0m\n\u001b[1;32m      5\u001b[0m     \u001b[0;34m'''Computes distanse in meters between two points with given coordinates'''\u001b[0m\u001b[0;34m\u001b[0m\u001b[0;34m\u001b[0m\u001b[0m\n\u001b[1;32m      6\u001b[0m \u001b[0;34m\u001b[0m\u001b[0m\n\u001b[0;32m----> 7\u001b[0;31m     \u001b[0;32mreturn\u001b[0m \u001b[0mint\u001b[0m\u001b[0;34m(\u001b[0m\u001b[0md\u001b[0m\u001b[0;34m.\u001b[0m\u001b[0mdistance\u001b[0m\u001b[0;34m(\u001b[0m\u001b[0mp1\u001b[0m\u001b[0;34m,\u001b[0m \u001b[0mp2\u001b[0m\u001b[0;34m)\u001b[0m\u001b[0;34m.\u001b[0m\u001b[0mkm\u001b[0m \u001b[0;34m*\u001b[0m \u001b[0;36m1000\u001b[0m\u001b[0;34m)\u001b[0m\u001b[0;34m\u001b[0m\u001b[0;34m\u001b[0m\u001b[0m\n\u001b[0m\u001b[1;32m      8\u001b[0m \u001b[0;34m\u001b[0m\u001b[0m\n\u001b[1;32m      9\u001b[0m \u001b[0;34m\u001b[0m\u001b[0m\n",
      "\u001b[0;32m/usr/local/lib/python3.6/dist-packages/geopy/distance.py\u001b[0m in \u001b[0;36m__init__\u001b[0;34m(self, *args, **kwargs)\u001b[0m\n\u001b[1;32m    387\u001b[0m         \u001b[0mkwargs\u001b[0m\u001b[0;34m.\u001b[0m\u001b[0mpop\u001b[0m\u001b[0;34m(\u001b[0m\u001b[0;34m'iterations'\u001b[0m\u001b[0;34m,\u001b[0m \u001b[0;36m0\u001b[0m\u001b[0;34m)\u001b[0m\u001b[0;34m\u001b[0m\u001b[0;34m\u001b[0m\u001b[0m\n\u001b[1;32m    388\u001b[0m         \u001b[0mmajor\u001b[0m\u001b[0;34m,\u001b[0m \u001b[0mminor\u001b[0m\u001b[0;34m,\u001b[0m \u001b[0mf\u001b[0m \u001b[0;34m=\u001b[0m \u001b[0mself\u001b[0m\u001b[0;34m.\u001b[0m\u001b[0mELLIPSOID\u001b[0m\u001b[0;34m\u001b[0m\u001b[0;34m\u001b[0m\u001b[0m\n\u001b[0;32m--> 389\u001b[0;31m         \u001b[0msuper\u001b[0m\u001b[0;34m(\u001b[0m\u001b[0mgeodesic\u001b[0m\u001b[0;34m,\u001b[0m \u001b[0mself\u001b[0m\u001b[0;34m)\u001b[0m\u001b[0;34m.\u001b[0m\u001b[0m__init__\u001b[0m\u001b[0;34m(\u001b[0m\u001b[0;34m*\u001b[0m\u001b[0margs\u001b[0m\u001b[0;34m,\u001b[0m \u001b[0;34m**\u001b[0m\u001b[0mkwargs\u001b[0m\u001b[0;34m)\u001b[0m\u001b[0;34m\u001b[0m\u001b[0;34m\u001b[0m\u001b[0m\n\u001b[0m\u001b[1;32m    390\u001b[0m \u001b[0;34m\u001b[0m\u001b[0m\n\u001b[1;32m    391\u001b[0m     \u001b[0;32mdef\u001b[0m \u001b[0mset_ellipsoid\u001b[0m\u001b[0;34m(\u001b[0m\u001b[0mself\u001b[0m\u001b[0;34m,\u001b[0m \u001b[0mellipsoid\u001b[0m\u001b[0;34m)\u001b[0m\u001b[0;34m:\u001b[0m\u001b[0;34m\u001b[0m\u001b[0;34m\u001b[0m\u001b[0m\n",
      "\u001b[0;32m/usr/local/lib/python3.6/dist-packages/geopy/distance.py\u001b[0m in \u001b[0;36m__init__\u001b[0;34m(self, *args, **kwargs)\u001b[0m\n\u001b[1;32m    162\u001b[0m         \u001b[0;32melif\u001b[0m \u001b[0mlen\u001b[0m\u001b[0;34m(\u001b[0m\u001b[0margs\u001b[0m\u001b[0;34m)\u001b[0m \u001b[0;34m>\u001b[0m \u001b[0;36m1\u001b[0m\u001b[0;34m:\u001b[0m\u001b[0;34m\u001b[0m\u001b[0;34m\u001b[0m\u001b[0m\n\u001b[1;32m    163\u001b[0m             \u001b[0;32mfor\u001b[0m \u001b[0ma\u001b[0m\u001b[0;34m,\u001b[0m \u001b[0mb\u001b[0m \u001b[0;32min\u001b[0m \u001b[0mutil\u001b[0m\u001b[0;34m.\u001b[0m\u001b[0mpairwise\u001b[0m\u001b[0;34m(\u001b[0m\u001b[0margs\u001b[0m\u001b[0;34m)\u001b[0m\u001b[0;34m:\u001b[0m\u001b[0;34m\u001b[0m\u001b[0;34m\u001b[0m\u001b[0m\n\u001b[0;32m--> 164\u001b[0;31m                 \u001b[0mkilometers\u001b[0m \u001b[0;34m+=\u001b[0m \u001b[0mself\u001b[0m\u001b[0;34m.\u001b[0m\u001b[0mmeasure\u001b[0m\u001b[0;34m(\u001b[0m\u001b[0ma\u001b[0m\u001b[0;34m,\u001b[0m \u001b[0mb\u001b[0m\u001b[0;34m)\u001b[0m\u001b[0;34m\u001b[0m\u001b[0;34m\u001b[0m\u001b[0m\n\u001b[0m\u001b[1;32m    165\u001b[0m \u001b[0;34m\u001b[0m\u001b[0m\n\u001b[1;32m    166\u001b[0m         \u001b[0mkilometers\u001b[0m \u001b[0;34m+=\u001b[0m \u001b[0munits\u001b[0m\u001b[0;34m.\u001b[0m\u001b[0mkilometers\u001b[0m\u001b[0;34m(\u001b[0m\u001b[0;34m**\u001b[0m\u001b[0mkwargs\u001b[0m\u001b[0;34m)\u001b[0m\u001b[0;34m\u001b[0m\u001b[0;34m\u001b[0m\u001b[0m\n",
      "\u001b[0;32m/usr/local/lib/python3.6/dist-packages/geopy/distance.py\u001b[0m in \u001b[0;36mmeasure\u001b[0;34m(self, a, b)\u001b[0m\n\u001b[1;32m    418\u001b[0m \u001b[0;34m\u001b[0m\u001b[0m\n\u001b[1;32m    419\u001b[0m         s12 = self.geod.Inverse(lat1, lon1, lat2, lon2,\n\u001b[0;32m--> 420\u001b[0;31m                                 Geodesic.DISTANCE)['s12']\n\u001b[0m\u001b[1;32m    421\u001b[0m \u001b[0;34m\u001b[0m\u001b[0m\n\u001b[1;32m    422\u001b[0m         \u001b[0;32mreturn\u001b[0m \u001b[0ms12\u001b[0m\u001b[0;34m\u001b[0m\u001b[0;34m\u001b[0m\u001b[0m\n",
      "\u001b[0;32m/usr/local/lib/python3.6/dist-packages/geographiclib/geodesic.py\u001b[0m in \u001b[0;36mInverse\u001b[0;34m(self, lat1, lon1, lat2, lon2, outmask)\u001b[0m\n\u001b[1;32m   1034\u001b[0m \u001b[0;34m\u001b[0m\u001b[0m\n\u001b[1;32m   1035\u001b[0m     a12, s12, salp1,calp1, salp2,calp2, m12, M12, M21, S12 = self._GenInverse(\n\u001b[0;32m-> 1036\u001b[0;31m       lat1, lon1, lat2, lon2, outmask)\n\u001b[0m\u001b[1;32m   1037\u001b[0m     \u001b[0moutmask\u001b[0m \u001b[0;34m&=\u001b[0m \u001b[0mGeodesic\u001b[0m\u001b[0;34m.\u001b[0m\u001b[0mOUT_MASK\u001b[0m\u001b[0;34m\u001b[0m\u001b[0;34m\u001b[0m\u001b[0m\n\u001b[1;32m   1038\u001b[0m     \u001b[0;32mif\u001b[0m \u001b[0moutmask\u001b[0m \u001b[0;34m&\u001b[0m \u001b[0mGeodesic\u001b[0m\u001b[0;34m.\u001b[0m\u001b[0mLONG_UNROLL\u001b[0m\u001b[0;34m:\u001b[0m\u001b[0;34m\u001b[0m\u001b[0;34m\u001b[0m\u001b[0m\n",
      "\u001b[0;32m/usr/local/lib/python3.6/dist-packages/geographiclib/geodesic.py\u001b[0m in \u001b[0;36m_GenInverse\u001b[0;34m(self, lat1, lon1, lat2, lon2, outmask)\u001b[0m\n\u001b[1;32m    881\u001b[0m              \u001b[0msbet1\u001b[0m\u001b[0;34m,\u001b[0m \u001b[0mcbet1\u001b[0m\u001b[0;34m,\u001b[0m \u001b[0mdn1\u001b[0m\u001b[0;34m,\u001b[0m \u001b[0msbet2\u001b[0m\u001b[0;34m,\u001b[0m \u001b[0mcbet2\u001b[0m\u001b[0;34m,\u001b[0m \u001b[0mdn2\u001b[0m\u001b[0;34m,\u001b[0m\u001b[0;34m\u001b[0m\u001b[0;34m\u001b[0m\u001b[0m\n\u001b[1;32m    882\u001b[0m              \u001b[0msalp1\u001b[0m\u001b[0;34m,\u001b[0m \u001b[0mcalp1\u001b[0m\u001b[0;34m,\u001b[0m \u001b[0mslam12\u001b[0m\u001b[0;34m,\u001b[0m \u001b[0mclam12\u001b[0m\u001b[0;34m,\u001b[0m \u001b[0mnumit\u001b[0m \u001b[0;34m<\u001b[0m \u001b[0mGeodesic\u001b[0m\u001b[0;34m.\u001b[0m\u001b[0mmaxit1_\u001b[0m\u001b[0;34m,\u001b[0m\u001b[0;34m\u001b[0m\u001b[0;34m\u001b[0m\u001b[0m\n\u001b[0;32m--> 883\u001b[0;31m              C1a, C2a, C3a)\n\u001b[0m\u001b[1;32m    884\u001b[0m           \u001b[0;31m# 2 * tol0 is approximately 1 ulp for a number in [0, pi].\u001b[0m\u001b[0;34m\u001b[0m\u001b[0;34m\u001b[0m\u001b[0;34m\u001b[0m\u001b[0m\n\u001b[1;32m    885\u001b[0m           \u001b[0;31m# Reversed test to allow escape with NaNs\u001b[0m\u001b[0;34m\u001b[0m\u001b[0;34m\u001b[0m\u001b[0;34m\u001b[0m\u001b[0m\n",
      "\u001b[0;32m/usr/local/lib/python3.6/dist-packages/geographiclib/geodesic.py\u001b[0m in \u001b[0;36m_Lambda12\u001b[0;34m(self, sbet1, cbet1, dn1, sbet2, cbet2, dn2, salp1, calp1, slam120, clam120, diffp, C1a, C2a, C3a)\u001b[0m\n\u001b[1;32m    693\u001b[0m         dummy, dlam12, dummy, dummy, dummy = self._Lengths(\n\u001b[1;32m    694\u001b[0m           \u001b[0meps\u001b[0m\u001b[0;34m,\u001b[0m \u001b[0msig12\u001b[0m\u001b[0;34m,\u001b[0m \u001b[0mssig1\u001b[0m\u001b[0;34m,\u001b[0m \u001b[0mcsig1\u001b[0m\u001b[0;34m,\u001b[0m \u001b[0mdn1\u001b[0m\u001b[0;34m,\u001b[0m \u001b[0mssig2\u001b[0m\u001b[0;34m,\u001b[0m \u001b[0mcsig2\u001b[0m\u001b[0;34m,\u001b[0m \u001b[0mdn2\u001b[0m\u001b[0;34m,\u001b[0m \u001b[0mcbet1\u001b[0m\u001b[0;34m,\u001b[0m \u001b[0mcbet2\u001b[0m\u001b[0;34m,\u001b[0m\u001b[0;34m\u001b[0m\u001b[0;34m\u001b[0m\u001b[0m\n\u001b[0;32m--> 695\u001b[0;31m           Geodesic.REDUCEDLENGTH, C1a, C2a)\n\u001b[0m\u001b[1;32m    696\u001b[0m         \u001b[0mdlam12\u001b[0m \u001b[0;34m*=\u001b[0m \u001b[0mself\u001b[0m\u001b[0;34m.\u001b[0m\u001b[0m_f1\u001b[0m \u001b[0;34m/\u001b[0m \u001b[0;34m(\u001b[0m\u001b[0mcalp2\u001b[0m \u001b[0;34m*\u001b[0m \u001b[0mcbet2\u001b[0m\u001b[0;34m)\u001b[0m\u001b[0;34m\u001b[0m\u001b[0;34m\u001b[0m\u001b[0m\n\u001b[1;32m    697\u001b[0m     \u001b[0;32melse\u001b[0m\u001b[0;34m:\u001b[0m\u001b[0;34m\u001b[0m\u001b[0;34m\u001b[0m\u001b[0m\n",
      "\u001b[0;32m/usr/local/lib/python3.6/dist-packages/geographiclib/geodesic.py\u001b[0m in \u001b[0;36m_Lengths\u001b[0;34m(self, eps, sig12, ssig1, csig1, dn1, ssig2, csig2, dn2, cbet1, cbet2, outmask, C1a, C2a)\u001b[0m\n\u001b[1;32m    463\u001b[0m       \u001b[0;31m# Assume here that nC1_ >= nC2_\u001b[0m\u001b[0;34m\u001b[0m\u001b[0;34m\u001b[0m\u001b[0;34m\u001b[0m\u001b[0m\n\u001b[1;32m    464\u001b[0m       \u001b[0;32mfor\u001b[0m \u001b[0ml\u001b[0m \u001b[0;32min\u001b[0m \u001b[0mrange\u001b[0m\u001b[0;34m(\u001b[0m\u001b[0;36m1\u001b[0m\u001b[0;34m,\u001b[0m \u001b[0mGeodesic\u001b[0m\u001b[0;34m.\u001b[0m\u001b[0mnC2_\u001b[0m\u001b[0;34m)\u001b[0m\u001b[0;34m:\u001b[0m\u001b[0;34m\u001b[0m\u001b[0;34m\u001b[0m\u001b[0m\n\u001b[0;32m--> 465\u001b[0;31m         \u001b[0mC2a\u001b[0m\u001b[0;34m[\u001b[0m\u001b[0ml\u001b[0m\u001b[0;34m]\u001b[0m \u001b[0;34m=\u001b[0m \u001b[0mA1\u001b[0m \u001b[0;34m*\u001b[0m \u001b[0mC1a\u001b[0m\u001b[0;34m[\u001b[0m\u001b[0ml\u001b[0m\u001b[0;34m]\u001b[0m \u001b[0;34m-\u001b[0m \u001b[0mA2\u001b[0m \u001b[0;34m*\u001b[0m \u001b[0mC2a\u001b[0m\u001b[0;34m[\u001b[0m\u001b[0ml\u001b[0m\u001b[0;34m]\u001b[0m\u001b[0;34m\u001b[0m\u001b[0;34m\u001b[0m\u001b[0m\n\u001b[0m\u001b[1;32m    466\u001b[0m       J12 = m0x * sig12 + (Geodesic._SinCosSeries(True, ssig2, csig2, C2a) -\n\u001b[1;32m    467\u001b[0m                            Geodesic._SinCosSeries(True, ssig1, csig1, C2a))\n",
      "\u001b[0;31mKeyboardInterrupt\u001b[0m: "
     ]
    }
   ],
   "source": [
    "smr_table = cook_table('smr', prepared_smr)"
   ]
  },
  {
   "cell_type": "code",
   "execution_count": 224,
   "metadata": {},
   "outputs": [
    {
     "data": {
      "text/html": [
       "<div>\n",
       "<style scoped>\n",
       "    .dataframe tbody tr th:only-of-type {\n",
       "        vertical-align: middle;\n",
       "    }\n",
       "\n",
       "    .dataframe tbody tr th {\n",
       "        vertical-align: top;\n",
       "    }\n",
       "\n",
       "    .dataframe thead th {\n",
       "        text-align: right;\n",
       "    }\n",
       "</style>\n",
       "<table border=\"1\" class=\"dataframe\">\n",
       "  <thead>\n",
       "    <tr style=\"text-align: right;\">\n",
       "      <th></th>\n",
       "      <th>apartement_1000</th>\n",
       "      <th>apartement_500</th>\n",
       "      <th>area</th>\n",
       "      <th>bank_1000</th>\n",
       "      <th>bank_500</th>\n",
       "      <th>bus_stop_1000</th>\n",
       "      <th>bus_stop_500</th>\n",
       "      <th>cafe_1000</th>\n",
       "      <th>cafe_500</th>\n",
       "      <th>cinema_1000</th>\n",
       "      <th>...</th>\n",
       "      <th>shop_1000</th>\n",
       "      <th>shop_500</th>\n",
       "      <th>subway_station_1000</th>\n",
       "      <th>subway_station_500</th>\n",
       "      <th>tram_stop_1000</th>\n",
       "      <th>tram_stop_500</th>\n",
       "      <th>univercity_1000</th>\n",
       "      <th>univercity_500</th>\n",
       "      <th>vacancy_1000</th>\n",
       "      <th>vacancy_500</th>\n",
       "    </tr>\n",
       "  </thead>\n",
       "  <tbody>\n",
       "    <tr>\n",
       "      <th>0</th>\n",
       "      <td>0</td>\n",
       "      <td>0</td>\n",
       "      <td>44.4</td>\n",
       "      <td>7</td>\n",
       "      <td>2</td>\n",
       "      <td>22</td>\n",
       "      <td>6</td>\n",
       "      <td>5</td>\n",
       "      <td>1</td>\n",
       "      <td>0</td>\n",
       "      <td>...</td>\n",
       "      <td>28</td>\n",
       "      <td>5</td>\n",
       "      <td>0</td>\n",
       "      <td>0</td>\n",
       "      <td>5</td>\n",
       "      <td>1</td>\n",
       "      <td>0</td>\n",
       "      <td>0</td>\n",
       "      <td>2</td>\n",
       "      <td>0</td>\n",
       "    </tr>\n",
       "  </tbody>\n",
       "</table>\n",
       "<p>1 rows × 47 columns</p>\n",
       "</div>"
      ],
      "text/plain": [
       "   apartement_1000  apartement_500  area  bank_1000  bank_500  bus_stop_1000  \\\n",
       "0                0               0  44.4          7         2             22   \n",
       "\n",
       "   bus_stop_500  cafe_1000  cafe_500  cinema_1000     ...       shop_1000  \\\n",
       "0             6          5         1            0     ...              28   \n",
       "\n",
       "   shop_500  subway_station_1000  subway_station_500  tram_stop_1000  \\\n",
       "0         5                    0                   0               5   \n",
       "\n",
       "   tram_stop_500  univercity_1000  univercity_500  vacancy_1000  vacancy_500  \n",
       "0              1                0               0             2            0  \n",
       "\n",
       "[1 rows x 47 columns]"
      ]
     },
     "execution_count": 224,
     "metadata": {},
     "output_type": "execute_result"
    }
   ],
   "source": [
    "smr_table"
   ]
  },
  {
   "cell_type": "code",
   "execution_count": 100,
   "metadata": {},
   "outputs": [],
   "source": [
    "spb_table = cook_table('spb', prepared_spb)"
   ]
  },
  {
   "cell_type": "code",
   "execution_count": 80,
   "metadata": {
    "scrolled": true
   },
   "outputs": [
    {
     "ename": "NameError",
     "evalue": "name 'coord_dict' is not defined",
     "output_type": "error",
     "traceback": [
      "\u001b[0;31m---------------------------------------------------------------------------\u001b[0m",
      "\u001b[0;31mNameError\u001b[0m                                 Traceback (most recent call last)",
      "\u001b[0;32m<ipython-input-80-d2492ee2d6c1>\u001b[0m in \u001b[0;36m<module>\u001b[0;34m()\u001b[0m\n\u001b[0;32m----> 1\u001b[0;31m \u001b[0msmr_table\u001b[0m \u001b[0;34m=\u001b[0m \u001b[0mcook_table\u001b[0m\u001b[0;34m(\u001b[0m\u001b[0;34m'smr'\u001b[0m\u001b[0;34m,\u001b[0m \u001b[0mprepared_smr\u001b[0m\u001b[0;34m)\u001b[0m\u001b[0;34m\u001b[0m\u001b[0;34m\u001b[0m\u001b[0m\n\u001b[0m",
      "\u001b[0;32m<ipython-input-79-3e8b3f4583c2>\u001b[0m in \u001b[0;36mcook_table\u001b[0;34m(city_abbr, flats)\u001b[0m\n\u001b[1;32m     15\u001b[0m \u001b[0;34m\u001b[0m\u001b[0m\n\u001b[1;32m     16\u001b[0m         \u001b[0mlat\u001b[0m\u001b[0;34m,\u001b[0m \u001b[0mlon\u001b[0m \u001b[0;34m=\u001b[0m \u001b[0mrow\u001b[0m\u001b[0;34m[\u001b[0m\u001b[0;34m\"latitude\"\u001b[0m\u001b[0;34m]\u001b[0m\u001b[0;34m,\u001b[0m \u001b[0mrow\u001b[0m\u001b[0;34m[\u001b[0m\u001b[0;34m\"longitude\"\u001b[0m\u001b[0;34m]\u001b[0m\u001b[0;34m\u001b[0m\u001b[0;34m\u001b[0m\u001b[0m\n\u001b[0;32m---> 17\u001b[0;31m         \u001b[0mgrid\u001b[0m \u001b[0;34m=\u001b[0m \u001b[0mcoord_dict\u001b[0m\u001b[0;34m[\u001b[0m\u001b[0mcity_abbr\u001b[0m\u001b[0;34m]\u001b[0m\u001b[0;34m[\u001b[0m\u001b[0;34m'grid'\u001b[0m\u001b[0;34m]\u001b[0m\u001b[0;34m\u001b[0m\u001b[0;34m\u001b[0m\u001b[0m\n\u001b[0m\u001b[1;32m     18\u001b[0m \u001b[0;34m\u001b[0m\u001b[0m\n\u001b[1;32m     19\u001b[0m         entries = {\n",
      "\u001b[0;31mNameError\u001b[0m: name 'coord_dict' is not defined"
     ]
    }
   ],
   "source": []
  },
  {
   "cell_type": "code",
   "execution_count": null,
   "metadata": {
    "scrolled": true
   },
   "outputs": [],
   "source": []
  },
  {
   "cell_type": "code",
   "execution_count": 9,
   "metadata": {
    "scrolled": true
   },
   "outputs": [
    {
     "ename": "KeyboardInterrupt",
     "evalue": "",
     "output_type": "error",
     "traceback": [
      "\u001b[0;31m---------------------------------------------------------------------------\u001b[0m",
      "\u001b[0;31mKeyboardInterrupt\u001b[0m                         Traceback (most recent call last)",
      "\u001b[0;32m<ipython-input-9-11be01d33ef4>\u001b[0m in \u001b[0;36m<module>\u001b[0;34m()\u001b[0m\n\u001b[0;32m----> 1\u001b[0;31m \u001b[0msmr_table\u001b[0m \u001b[0;34m=\u001b[0m \u001b[0mcook_table\u001b[0m\u001b[0;34m(\u001b[0m\u001b[0;34m'smr'\u001b[0m\u001b[0;34m)\u001b[0m\u001b[0;34m\u001b[0m\u001b[0;34m\u001b[0m\u001b[0m\n\u001b[0m\u001b[1;32m      2\u001b[0m \u001b[0msmr_table\u001b[0m\u001b[0;34m.\u001b[0m\u001b[0mto_csv\u001b[0m\u001b[0;34m(\u001b[0m\u001b[0;34m'./datasets/smr.csv'\u001b[0m\u001b[0;34m,\u001b[0m \u001b[0mindex\u001b[0m\u001b[0;34m=\u001b[0m\u001b[0;32mFalse\u001b[0m\u001b[0;34m)\u001b[0m\u001b[0;34m\u001b[0m\u001b[0;34m\u001b[0m\u001b[0m\n",
      "\u001b[0;32m<ipython-input-8-c37b730a4bad>\u001b[0m in \u001b[0;36mcook_table\u001b[0;34m(city_abbr)\u001b[0m\n\u001b[1;32m     25\u001b[0m         \u001b[0mgrid\u001b[0m \u001b[0;34m=\u001b[0m \u001b[0mcoord_dict\u001b[0m\u001b[0;34m[\u001b[0m\u001b[0mcity_abbr\u001b[0m\u001b[0;34m]\u001b[0m\u001b[0;34m[\u001b[0m\u001b[0;34m'grid'\u001b[0m\u001b[0;34m]\u001b[0m\u001b[0;34m\u001b[0m\u001b[0;34m\u001b[0m\u001b[0m\n\u001b[1;32m     26\u001b[0m         entries = {\n\u001b[0;32m---> 27\u001b[0;31m             \u001b[0;34m'500'\u001b[0m\u001b[0;34m:\u001b[0m \u001b[0mgrid\u001b[0m\u001b[0;34m.\u001b[0m\u001b[0mget_all_entries_in_radius\u001b[0m\u001b[0;34m(\u001b[0m\u001b[0;34m(\u001b[0m\u001b[0mlat\u001b[0m\u001b[0;34m,\u001b[0m \u001b[0mlon\u001b[0m\u001b[0;34m)\u001b[0m\u001b[0;34m,\u001b[0m \u001b[0;36m500\u001b[0m\u001b[0;34m)\u001b[0m\u001b[0;34m,\u001b[0m\u001b[0;34m\u001b[0m\u001b[0;34m\u001b[0m\u001b[0m\n\u001b[0m\u001b[1;32m     28\u001b[0m             \u001b[0;34m'1000'\u001b[0m\u001b[0;34m:\u001b[0m \u001b[0mgrid\u001b[0m\u001b[0;34m.\u001b[0m\u001b[0mget_all_entries_in_radius\u001b[0m\u001b[0;34m(\u001b[0m\u001b[0;34m(\u001b[0m\u001b[0mlat\u001b[0m\u001b[0;34m,\u001b[0m \u001b[0mlon\u001b[0m\u001b[0;34m)\u001b[0m\u001b[0;34m,\u001b[0m \u001b[0;36m1000\u001b[0m\u001b[0;34m)\u001b[0m\u001b[0;34m,\u001b[0m\u001b[0;34m\u001b[0m\u001b[0;34m\u001b[0m\u001b[0m\n\u001b[1;32m     29\u001b[0m         }\n",
      "\u001b[0;32m~/ssau/thesis/dataset-assembler/grid.py\u001b[0m in \u001b[0;36mget_all_entries_in_radius\u001b[0;34m(self, coordinates, r)\u001b[0m\n\u001b[1;32m     30\u001b[0m \u001b[0;34m\u001b[0m\u001b[0m\n\u001b[1;32m     31\u001b[0m     \u001b[0;32mdef\u001b[0m \u001b[0mget_all_entries_in_radius\u001b[0m\u001b[0;34m(\u001b[0m\u001b[0mself\u001b[0m\u001b[0;34m,\u001b[0m \u001b[0mcoordinates\u001b[0m\u001b[0;34m,\u001b[0m \u001b[0mr\u001b[0m\u001b[0;34m:\u001b[0m \u001b[0mfloat\u001b[0m\u001b[0;34m)\u001b[0m\u001b[0;34m:\u001b[0m\u001b[0;34m\u001b[0m\u001b[0;34m\u001b[0m\u001b[0m\n\u001b[0;32m---> 32\u001b[0;31m         \u001b[0mpos\u001b[0m \u001b[0;34m=\u001b[0m \u001b[0mself\u001b[0m\u001b[0;34m.\u001b[0m\u001b[0mfind_suitable_position\u001b[0m\u001b[0;34m(\u001b[0m\u001b[0;34m*\u001b[0m\u001b[0mcoordinates\u001b[0m\u001b[0;34m)\u001b[0m\u001b[0;34m\u001b[0m\u001b[0;34m\u001b[0m\u001b[0m\n\u001b[0m\u001b[1;32m     33\u001b[0m         \u001b[0;32mif\u001b[0m \u001b[0mpos\u001b[0m \u001b[0;32mis\u001b[0m \u001b[0;32mNone\u001b[0m\u001b[0;34m:\u001b[0m\u001b[0;34m\u001b[0m\u001b[0;34m\u001b[0m\u001b[0m\n\u001b[1;32m     34\u001b[0m             \u001b[0;32mreturn\u001b[0m \u001b[0;34m{\u001b[0m\u001b[0;34m}\u001b[0m\u001b[0;34m\u001b[0m\u001b[0;34m\u001b[0m\u001b[0m\n",
      "\u001b[0;32m~/ssau/thesis/dataset-assembler/grid.py\u001b[0m in \u001b[0;36mfind_suitable_position\u001b[0;34m(self, lat, lon)\u001b[0m\n\u001b[1;32m     22\u001b[0m                 \u001b[0;32mif\u001b[0m \u001b[0mlat\u001b[0m \u001b[0;34m>\u001b[0m \u001b[0mm\u001b[0m\u001b[0;34m[\u001b[0m\u001b[0;36m0\u001b[0m\u001b[0;34m]\u001b[0m\u001b[0;34m:\u001b[0m\u001b[0;34m\u001b[0m\u001b[0;34m\u001b[0m\u001b[0m\n\u001b[1;32m     23\u001b[0m                     \u001b[0;32mfor\u001b[0m \u001b[0mj\u001b[0m \u001b[0;32min\u001b[0m \u001b[0mrange\u001b[0m\u001b[0;34m(\u001b[0m\u001b[0mlen\u001b[0m\u001b[0;34m(\u001b[0m\u001b[0mself\u001b[0m\u001b[0;34m.\u001b[0m\u001b[0mcells\u001b[0m\u001b[0;34m[\u001b[0m\u001b[0mi\u001b[0m\u001b[0;34m]\u001b[0m\u001b[0;34m)\u001b[0m \u001b[0;34m-\u001b[0m \u001b[0;36m1\u001b[0m\u001b[0;34m)\u001b[0m\u001b[0;34m:\u001b[0m\u001b[0;34m\u001b[0m\u001b[0;34m\u001b[0m\u001b[0m\n\u001b[0;32m---> 24\u001b[0;31m                         m = midpoint(self.cells[i][j].center,\n\u001b[0m\u001b[1;32m     25\u001b[0m                                     self.cells[i][j + 1].center)\n\u001b[1;32m     26\u001b[0m                         \u001b[0;32mif\u001b[0m \u001b[0mm\u001b[0m\u001b[0;34m[\u001b[0m\u001b[0;36m1\u001b[0m\u001b[0;34m]\u001b[0m \u001b[0;34m>\u001b[0m \u001b[0mlon\u001b[0m\u001b[0;34m:\u001b[0m\u001b[0;34m\u001b[0m\u001b[0;34m\u001b[0m\u001b[0m\n",
      "\u001b[0;31mKeyboardInterrupt\u001b[0m: "
     ]
    }
   ],
   "source": [
    "smr_table = cook_table('smr', prepared_smr)\n",
    "smr_table.to_csv('./datasets/smr.csv', index=False)"
   ]
  },
  {
   "cell_type": "code",
   "execution_count": 102,
   "metadata": {},
   "outputs": [],
   "source": []
  },
  {
   "cell_type": "code",
   "execution_count": 108,
   "metadata": {},
   "outputs": [],
   "source": []
  },
  {
   "cell_type": "code",
   "execution_count": 109,
   "metadata": {},
   "outputs": [
    {
     "data": {
      "text/plain": [
       "29"
      ]
     },
     "execution_count": 109,
     "metadata": {},
     "output_type": "execute_result"
    }
   ],
   "source": [
    "len(res[EntrieType.VACANCY])"
   ]
  },
  {
   "cell_type": "code",
   "execution_count": 230,
   "metadata": {},
   "outputs": [],
   "source": []
  },
  {
   "cell_type": "code",
   "execution_count": 234,
   "metadata": {},
   "outputs": [],
   "source": []
  },
  {
   "cell_type": "code",
   "execution_count": 235,
   "metadata": {},
   "outputs": [],
   "source": []
  },
  {
   "cell_type": "code",
   "execution_count": 233,
   "metadata": {},
   "outputs": [
    {
     "data": {
      "text/plain": [
       "59.833802000000006, 30.176307"
      ]
     },
     "execution_count": 233,
     "metadata": {},
     "output_type": "execute_result"
    }
   ],
   "source": [
    "g.cells[0][0]"
   ]
  },
  {
   "cell_type": "code",
   "execution_count": 236,
   "metadata": {},
   "outputs": [
    {
     "data": {
      "text/plain": [
       "((60.080844, 30.175307), (59.833302, 30.525166))"
      ]
     },
     "execution_count": 236,
     "metadata": {},
     "output_type": "execute_result"
    }
   ],
   "source": [
    "g.nw, g.se"
   ]
  },
  {
   "cell_type": "code",
   "execution_count": null,
   "metadata": {},
   "outputs": [],
   "source": []
  },
  {
   "cell_type": "code",
   "execution_count": null,
   "metadata": {},
   "outputs": [],
   "source": []
  },
  {
   "cell_type": "code",
   "execution_count": 95,
   "metadata": {},
   "outputs": [],
   "source": [
    "smr_table.to_csv('./datasets/smr.csv', index=False)"
   ]
  },
  {
   "cell_type": "code",
   "execution_count": 83,
   "metadata": {
    "scrolled": true
   },
   "outputs": [],
   "source": [
    "df = "
   ]
  },
  {
   "cell_type": "code",
   "execution_count": 84,
   "metadata": {},
   "outputs": [
    {
     "data": {
      "text/html": [
       "<div>\n",
       "<style scoped>\n",
       "    .dataframe tbody tr th:only-of-type {\n",
       "        vertical-align: middle;\n",
       "    }\n",
       "\n",
       "    .dataframe tbody tr th {\n",
       "        vertical-align: top;\n",
       "    }\n",
       "\n",
       "    .dataframe thead th {\n",
       "        text-align: right;\n",
       "    }\n",
       "</style>\n",
       "<table border=\"1\" class=\"dataframe\">\n",
       "  <thead>\n",
       "    <tr style=\"text-align: right;\">\n",
       "      <th></th>\n",
       "      <th>area</th>\n",
       "      <th>bank_1000</th>\n",
       "      <th>bank_500</th>\n",
       "      <th>bus_stop_1000</th>\n",
       "      <th>bus_stop_500</th>\n",
       "      <th>cafe_1000</th>\n",
       "      <th>cafe_500</th>\n",
       "      <th>cinema_1000</th>\n",
       "      <th>cinema_500</th>\n",
       "      <th>distance_to_center</th>\n",
       "      <th>...</th>\n",
       "      <th>shop_1000</th>\n",
       "      <th>shop_500</th>\n",
       "      <th>subway_station_1000</th>\n",
       "      <th>subway_station_500</th>\n",
       "      <th>tram_stop_1000</th>\n",
       "      <th>tram_stop_500</th>\n",
       "      <th>univercity_1000</th>\n",
       "      <th>univercity_500</th>\n",
       "      <th>vacancy_1000</th>\n",
       "      <th>vacancy_500</th>\n",
       "    </tr>\n",
       "  </thead>\n",
       "  <tbody>\n",
       "    <tr>\n",
       "      <th>0</th>\n",
       "      <td>109.4</td>\n",
       "      <td>3</td>\n",
       "      <td>0</td>\n",
       "      <td>61</td>\n",
       "      <td>20</td>\n",
       "      <td>6</td>\n",
       "      <td>1</td>\n",
       "      <td>0</td>\n",
       "      <td>0</td>\n",
       "      <td>4929</td>\n",
       "      <td>...</td>\n",
       "      <td>19</td>\n",
       "      <td>3</td>\n",
       "      <td>0</td>\n",
       "      <td>0</td>\n",
       "      <td>0</td>\n",
       "      <td>0</td>\n",
       "      <td>0</td>\n",
       "      <td>0</td>\n",
       "      <td>92</td>\n",
       "      <td>1</td>\n",
       "    </tr>\n",
       "  </tbody>\n",
       "</table>\n",
       "<p>1 rows × 43 columns</p>\n",
       "</div>"
      ],
      "text/plain": [
       "    area  bank_1000  bank_500  bus_stop_1000  bus_stop_500  cafe_1000  \\\n",
       "0  109.4          3         0             61            20          6   \n",
       "\n",
       "   cafe_500  cinema_1000  cinema_500  distance_to_center     ...       \\\n",
       "0         1            0           0                4929     ...        \n",
       "\n",
       "   shop_1000  shop_500  subway_station_1000  subway_station_500  \\\n",
       "0         19         3                    0                   0   \n",
       "\n",
       "   tram_stop_1000  tram_stop_500  univercity_1000  univercity_500  \\\n",
       "0               0              0                0               0   \n",
       "\n",
       "   vacancy_1000  vacancy_500  \n",
       "0            92            1  \n",
       "\n",
       "[1 rows x 43 columns]"
      ]
     },
     "execution_count": 84,
     "metadata": {},
     "output_type": "execute_result"
    }
   ],
   "source": [
    "df"
   ]
  },
  {
   "cell_type": "code",
   "execution_count": null,
   "metadata": {},
   "outputs": [],
   "source": []
  },
  {
   "cell_type": "code",
   "execution_count": 4,
   "metadata": {},
   "outputs": [],
   "source": [
    "entries = Cell([0, 0]).entries"
   ]
  },
  {
   "cell_type": "code",
   "execution_count": null,
   "metadata": {},
   "outputs": [],
   "source": []
  },
  {
   "cell_type": "code",
   "execution_count": 83,
   "metadata": {
    "scrolled": true
   },
   "outputs": [
    {
     "data": {
      "text/plain": [
       "405.4873611929934"
      ]
     },
     "execution_count": 83,
     "metadata": {},
     "output_type": "execute_result"
    }
   ],
   "source": []
  },
  {
   "cell_type": "code",
   "execution_count": 25,
   "metadata": {},
   "outputs": [],
   "source": [
    "smr_grid.find_suitable_position(50.1995781, 53.2009557)"
   ]
  },
  {
   "cell_type": "code",
   "execution_count": 47,
   "metadata": {},
   "outputs": [],
   "source": [
    "r = smr_grid.get_all_entries_in_radius((53.277885, 50.056253), 10000)"
   ]
  },
  {
   "cell_type": "code",
   "execution_count": null,
   "metadata": {
    "scrolled": true
   },
   "outputs": [],
   "source": []
  },
  {
   "cell_type": "code",
   "execution_count": null,
   "metadata": {},
   "outputs": [],
   "source": []
  },
  {
   "cell_type": "code",
   "execution_count": null,
   "metadata": {},
   "outputs": [],
   "source": []
  },
  {
   "cell_type": "code",
   "execution_count": 91,
   "metadata": {},
   "outputs": [
    {
     "data": {
      "text/plain": [
       "405396.3914606943"
      ]
     },
     "execution_count": 91,
     "metadata": {},
     "output_type": "execute_result"
    }
   ],
   "source": [
    "distance((53.277885, 50.056253), (50.1995781, 53.2009557))"
   ]
  },
  {
   "cell_type": "code",
   "execution_count": 88,
   "metadata": {
    "scrolled": true
   },
   "outputs": [
    {
     "data": {
      "text/plain": [
       "((60.14131115764205, 29.9328822447388), (60.14131115764205, 29.93366073117118))"
      ]
     },
     "execution_count": 88,
     "metadata": {},
     "output_type": "execute_result"
    }
   ],
   "source": [
    "grid.cells[0][0].center, grid.cells[0][1].center"
   ]
  },
  {
   "cell_type": "code",
   "execution_count": 26,
   "metadata": {},
   "outputs": [
    {
     "data": {
      "text/plain": [
       "(60.16331988210298, 30.04919449246976)"
      ]
     },
     "execution_count": 26,
     "metadata": {},
     "output_type": "execute_result"
    }
   ],
   "source": [
    "midpoint(grid.cells[0][2].center, grid.cells[0][3].center)"
   ]
  },
  {
   "cell_type": "code",
   "execution_count": 6,
   "metadata": {},
   "outputs": [],
   "source": []
  },
  {
   "cell_type": "code",
   "execution_count": 83,
   "metadata": {},
   "outputs": [],
   "source": [
    "# Set up projections\n",
    "p_ll = pyproj.Proj(init='epsg:4326')\n",
    "p_mt = pyproj.Proj(init='epsg:3857') # metric; same as EPSG:900913\n",
    "\n",
    "# Create corners of rectangle to be transformed to a grid\n",
    "nw = shapely.geometry.Point((-5.0, 40.0))\n",
    "se = shapely.geometry.Point((-4.999, 40.03439880201911))\n",
    "\n",
    "stepsize = 50\n",
    "\n",
    "# Project corners to target projection\n",
    "s = pyproj.transform(p_ll, p_mt, nw.x, nw.y) # Transform NW point to 3857\n",
    "e = pyproj.transform(p_ll, p_mt, se.x, se.y) # .. same for SE\n",
    "\n",
    "# Iterate over 2D area\n",
    "gridpoints = []\n",
    "x = s[0]\n",
    "while x < e[0]:\n",
    "    y = s[1]\n",
    "    row = []\n",
    "    while y < e[1]:\n",
    "        p = shapely.geometry.Point(pyproj.transform(p_mt, p_ll, x, y))\n",
    "        row.append([p.x, p.y])\n",
    "        y += stepsize * 1.314\n",
    "    gridpoints.append(row)\n",
    "    x += stepsize"
   ]
  },
  {
   "cell_type": "code",
   "execution_count": 85,
   "metadata": {},
   "outputs": [
    {
     "data": {
      "text/plain": [
       "50.137436430313635"
      ]
     },
     "execution_count": 85,
     "metadata": {},
     "output_type": "execute_result"
    }
   ],
   "source": [
    "distance([-5.0, 40.00045211267976], [-5.0, 40.0])"
   ]
  },
  {
   "cell_type": "code",
   "execution_count": null,
   "metadata": {},
   "outputs": [],
   "source": [
    "gridpoints"
   ]
  },
  {
   "cell_type": "code",
   "execution_count": 63,
   "metadata": {},
   "outputs": [
    {
     "data": {
      "text/plain": [
       "3814.68564478778"
      ]
     },
     "execution_count": 63,
     "metadata": {},
     "output_type": "execute_result"
    }
   ],
   "source": [
    "distance((-5.0, 40.03439880201911), [-5.0, 40.0])"
   ]
  },
  {
   "cell_type": "code",
   "execution_count": null,
   "metadata": {},
   "outputs": [],
   "source": []
  }
 ],
 "metadata": {
  "kernelspec": {
   "display_name": "Python 3",
   "language": "python",
   "name": "python3"
  },
  "language_info": {
   "codemirror_mode": {
    "name": "ipython",
    "version": 3
   },
   "file_extension": ".py",
   "mimetype": "text/x-python",
   "name": "python",
   "nbconvert_exporter": "python",
   "pygments_lexer": "ipython3",
   "version": "3.6.7"
  }
 },
 "nbformat": 4,
 "nbformat_minor": 2
}
