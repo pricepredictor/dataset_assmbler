{
 "cells": [
  {
   "cell_type": "code",
   "execution_count": 1,
   "metadata": {},
   "outputs": [],
   "source": [
    "import shapely.geometry\n",
    "import pyproj\n",
    "import json\n",
    "import statistics\n",
    "import numpy as np\n",
    "import pandas as pd\n",
    "\n",
    "\n",
    "#from grid import Grid\n",
    "#from cell import Cell\n",
    "from entrie import Entrie, EntrieType \n",
    "from utils import *"
   ]
  },
  {
   "cell_type": "code",
   "execution_count": null,
   "metadata": {},
   "outputs": [],
   "source": []
  },
  {
   "cell_type": "code",
   "execution_count": 2,
   "metadata": {},
   "outputs": [
    {
     "data": {
      "text/plain": [
       "True"
      ]
     },
     "execution_count": 2,
     "metadata": {},
     "output_type": "execute_result"
    }
   ],
   "source": [
    "\"\"\"import shapely.geometry\n",
    "import pyproj\n",
    "\n",
    "from typing import List\n",
    "from math import ceil\n",
    "\n",
    "from utils import midpoint, distance\n",
    "from entrie import Entrie, EntrieType\n",
    "from cell import Cell\n",
    "\n",
    "\n",
    "class Grid:\n",
    "    def __init__(self, cells: List[List[Cell]], nw=(60.080844, 30.175307), se=(59.833302, 30.525166)):\n",
    "        self.cells = cells\n",
    "        self.dx = distance(cells[0][0].center, cells[0][1].center)\n",
    "        self.dy = distance(cells[0][0].center, cells[1][0].center)\n",
    "        self.dlat = abs(cells[0][0].center[0] - cells[1][1].center[0])\n",
    "        self.dlon = abs(cells[0][0].center[1] - cells[1][1].center[1])\n",
    "        self.nw = nw\n",
    "        self.se = se\n",
    "        self.shape = [len(self.cells), len(self.cells[0])]\n",
    "\n",
    "    def find_suitable_position(self, lat: float, lon: float):\n",
    "        try:\n",
    "            if self.nw[0] >= lat >= self.se[0] or self.se[1] >= lon >= self.nw[1]:\n",
    "                return (int((lon - self.nw[1]) // self.dlon), \n",
    "                        int((self.nw[0] - lat) // self.dlat))\n",
    "            return\n",
    "        except(TypeError):\n",
    "                return\n",
    "            \n",
    "        '''\n",
    "        for i in range(len(self.cells) - 1):\n",
    "            m = midpoint(self.cells[i][0].center, self.cells[i + 1][0].center)\n",
    "            try:\n",
    "                if lat > m[0]:\n",
    "                    for j in range(len(self.cells[i]) - 1):\n",
    "                        m = midpoint(self.cells[i][j].center,\n",
    "                                    self.cells[i][j + 1].center)\n",
    "                        if m[1] > lon:\n",
    "                            return (i, j)\n",
    "            \n",
    "        '''\n",
    "\n",
    "    def get_all_entries_in_radius(self, coordinates, r: float):\n",
    "        pos = self.find_suitable_position(*coordinates)\n",
    "        if pos is None:\n",
    "            return {}\n",
    "\n",
    "        i0, j0 = pos\n",
    "        aggrigated_cell = self.cells[i0][j0]\n",
    "        i_steps, j_steps = ceil(r / self.dy), ceil(r / self.dx)\n",
    "\n",
    "        for i in range(max(0, i0 - i_steps), min(len(self.cells), i0 + i_steps + 1)):\n",
    "            for j in range(max(0, j0 - j_steps), min(len(self.cells[0]), j0 + j_steps + 1)):\n",
    "                if distance((self.cells[i][j].center), coordinates) - self.dy / 2 <= r:\n",
    "                    aggrigated_cell += self.cells[i][j]\n",
    "                    #print(i, j)\n",
    "\n",
    "        return aggrigated_cell.entries\n",
    "\n",
    "    def add_entrie(self, entrie: Entrie, entrie_type: EntrieType):\n",
    "        pos = self.find_suitable_position(*entrie.coorditates)\n",
    "        try:\n",
    "            if not pos is None:\n",
    "                #print(pos, (len(self.cells), len(self.cells[0])))\n",
    "                self.cells[pos[0]][pos[1]].add_entrie(entrie, entrie_type)\n",
    "        except IndexError:\n",
    "            pass\n",
    "        \n",
    "    def save_cell_centers(self, filename: str):\n",
    "        with open(f'./tabula-rasa/{filename}', 'w') as file:\n",
    "            file.write('\\n'.join(['; '.join([str(cell.center)\n",
    "                                             for cell in row]) for row in self.cells]))\n",
    "\n",
    "    def load_cell_centers(filename: str):\n",
    "        with open(f'./tabula-rasa/{filename}', 'r') as file:\n",
    "            rows = file.read().replace('(', '').replace(')', '').split('\\n')\n",
    "        cells = [[Cell(tuple(float(i) for i in c.split(', ')))\n",
    "                  for c in row.split('; ')] for row in rows]\n",
    "        return Grid(cells)\n",
    "\n",
    "    def make_grid_in_degrees(top_left, bottom_right, step=0.0005):\n",
    "        '''Makes a Grid instance regulary spaced in degrees'''\n",
    "\n",
    "        lat_max, lon_min = top_left\n",
    "        lat_min, lon_max = bottom_right\n",
    "\n",
    "        cells = []\n",
    "        lon = lon_min\n",
    "        while lon < lon_max:\n",
    "            lat, row = lat_min, []\n",
    "            while lat < lat_max:\n",
    "                row.append(\n",
    "                    Cell(midpoint((lat, lon), (lat + step, lon + step * 2))))\n",
    "                lat += step\n",
    "            cells.append(row)\n",
    "            lon += step * 2\n",
    "        g = Grid(cells)\n",
    "        g.dlat = step\n",
    "        g.dlon = step * 2\n",
    "        return g\n",
    "\n",
    "    def make_grid_in_meters(top_left, bottom_right, step=100):\n",
    "        '''Makes a Grid instance regulary spaced in meters'''\n",
    "\n",
    "        # Set up projections\n",
    "        p_ll = pyproj.Proj(init='epsg:4326')\n",
    "        p_mt = pyproj.Proj(init='epsg:3857')  # metric; same as EPSG:900913\n",
    "\n",
    "        # Create corners of rectangle to be transformed to a grid\n",
    "        nw = shapely.geometry.Point(top_left)\n",
    "        se = shapely.geometry.Point(bottom_right)\n",
    "\n",
    "        stepsize = step\n",
    "\n",
    "        # Project corners to target projection\n",
    "        # Transform NW point to 3857\n",
    "        s = pyproj.transform(p_ll, p_mt, nw.x, nw.y)\n",
    "        e = pyproj.transform(p_ll, p_mt, se.x, se.y)  # .. same for SE\n",
    "\n",
    "        # Iterate over 2D area\n",
    "        cells = []\n",
    "        x = s[0]\n",
    "        while x > e[0]:\n",
    "            y = s[1]\n",
    "            row = []\n",
    "            while y < e[1]:\n",
    "                nw_point = shapely.geometry.Point(\n",
    "                    pyproj.transform(p_mt, p_ll, x, y))\n",
    "                se_point = shapely.geometry.Point(\n",
    "                    pyproj.transform(p_mt, p_ll, x + stepsize, y + stepsize))\n",
    "                row.append(\n",
    "                    Cell(midpoint((nw_point.x, nw_point.y), (se_point.x, se_point.y))))\n",
    "                y += stepsize * 1.314\n",
    "            cells.append(row)\n",
    "            x -= stepsize\n",
    "\n",
    "        return Grid(cells)\n",
    "\"\"\"\n",
    "True"
   ]
  },
  {
   "cell_type": "code",
   "execution_count": 59,
   "metadata": {},
   "outputs": [],
   "source": [
    "from enum import Enum\n",
    "\n",
    "from utils import midpoint\n",
    "from entrie import Entrie, EntrieType\n",
    "\n",
    "\n",
    "class CellTypes(Enum):\n",
    "    URBAN = 1\n",
    "    PARK = 2\n",
    "    WATER = 3\n",
    "\n",
    "\n",
    "class Cell:\n",
    "    def __init__(self, nw, se):\n",
    "        self.nw = nw\n",
    "        self.se = se\n",
    "        self.center = midpoint(nw, se)\n",
    "        self.type = CellTypes.URBAN\n",
    "        self.entries = {\n",
    "            EntrieType.VACANCY: [],\n",
    "            EntrieType.APARTMENT: [],\n",
    "            EntrieType.SHOP: [],\n",
    "            EntrieType.BUS_STOP: [],\n",
    "            EntrieType.TRAM_STOP: [],\n",
    "            EntrieType.SUBWAY_STATION: [],\n",
    "            EntrieType.CAFE: [],\n",
    "            EntrieType.OFFICE: [],\n",
    "            EntrieType.POINT_OF_INTEREST: [],\n",
    "            EntrieType.SCHOOL: [],\n",
    "            EntrieType.HOSPITAL: [],\n",
    "            EntrieType.BANK: [],\n",
    "            EntrieType.UNIVERCITY: [],\n",
    "            EntrieType.CINEMA: [],\n",
    "            EntrieType.NIGHTLIFE: [],\n",
    "            EntrieType.GOVERNMENT: [],\n",
    "            EntrieType.LEISURE: [],\n",
    "            EntrieType.HOTEL: [],\n",
    "            EntrieType.VACANCY: [],\n",
    "        }\n",
    "\n",
    "    def add_entrie(self, entrie: Entrie, entrie_type: EntrieType):\n",
    "        self.entries[entrie_type].append(entrie)\n",
    "\n",
    "\n",
    "    def __add__(self, other):\n",
    "        res = Cell(self.nw, self.se)\n",
    "        for type in self.entries:\n",
    "            res.entries[type] = self.entries[type] + other.entries[type]\n",
    "        return res\n",
    "\n",
    "    def __repr__(self):\n",
    "        return f\"{self.center[0]}, {self.center[1]}\"\n"
   ]
  },
  {
   "cell_type": "code",
   "execution_count": 150,
   "metadata": {},
   "outputs": [],
   "source": [
    "import shapely.geometry\n",
    "import pyproj\n",
    "\n",
    "import numpy as np\n",
    "\n",
    "from typing import List\n",
    "from math import ceil\n",
    "\n",
    "from utils import midpoint, distance\n",
    "from entrie import Entrie, EntrieType\n",
    "\n",
    "\n",
    "\n",
    "class Grid:\n",
    "    def __init__(self, nw, se, step=0.0005):\n",
    "        self.lat_step = step\n",
    "        self.lon_step = step * 2\n",
    "        self.x_step = distance(nw, (nw[0], nw[1] + self.lon_step))\n",
    "        self.y_step = distance(nw, (nw[0] + self.lat_step, nw[1]))\n",
    "        self.cells = np.array([[Cell((lat, lon), (lat + self.lat_step, lon + self.lon_step)) for lon in np.linspace(nw[1], se[1],\n",
    "                                                                                                            (se[1] - nw[1]) // self.lon_step)] for lat in np.linspace(nw[0], se[0], (nw[0] - se[0]) // self.lat_step)])\n",
    "        self.nw = self.cells[0][0].nw\n",
    "        self.se = self.cells[-1][-1].se\n",
    "\n",
    "    def cell_indexes(self, coordinates):        \n",
    "        if self.nw[0] >= coordinates[0] >= self.se[0] or self.se[1] >= coordinates[1] >= self.nw[1]:\n",
    "            i = (self.nw[0] - coordinates[0]) // self.lat_step\n",
    "            j = self.cells.shape[1] - (self.se[1] - coordinates[1]) // self.lon_step\n",
    "            return (int(i), int(j))\n",
    "        return\n",
    "\n",
    "    def get_all_entries_in_radius(self, coordinates, r: float):\n",
    "        pos = self.cell_indexes(coordinates)\n",
    "        if pos is None:\n",
    "            return {}\n",
    "\n",
    "        i0, j0 = pos\n",
    "        aggrigated_cell = self.cells[i0][j0]\n",
    "        i_steps, j_steps = ceil(r / self.y_step), ceil(r / self.x_step)\n",
    "\n",
    "        for i in range(max(0, i0 - i_steps), min(len(self.cells), i0 + i_steps + 1)):\n",
    "            for j in range(max(0, j0 - j_steps), min(len(self.cells[0]), j0 + j_steps + 1)):\n",
    "                if distance((self.cells[i][j].center), coordinates) - self.y_step / 2 <= r:\n",
    "                    aggrigated_cell += self.cells[i][j]\n",
    "        return aggrigated_cell.entries\n",
    "\n",
    "    def add_entrie(self, entrie: Entrie, entrie_type: EntrieType):\n",
    "        pos = self.cell_indexes(entrie.coorditates)\n",
    "        if not pos is None:\n",
    "            self.cells[pos[0]][pos[1]].add_entrie(entrie, entrie_type)\n",
    "\n"
   ]
  },
  {
   "cell_type": "code",
   "execution_count": 151,
   "metadata": {},
   "outputs": [],
   "source": [
    "city_dict = {\n",
    "    'spb': {\n",
    "        'borders': ((60.080844, 30.175307), (59.833302, 30.525166)),\n",
    "        'center': (59.9343, 30.3351),\n",
    "        'grid': None\n",
    "    },\n",
    "    'smr': {\n",
    "        'borders': ((53.277885, 50.056253), (53.174675, 50.319944)),\n",
    "        'center': (53.2415, 50.2212),\n",
    "        'grid': None\n",
    "    }\n",
    "}"
   ]
  },
  {
   "cell_type": "code",
   "execution_count": 152,
   "metadata": {},
   "outputs": [
    {
     "data": {
      "text/plain": [
       "1"
      ]
     },
     "execution_count": 152,
     "metadata": {},
     "output_type": "execute_result"
    }
   ],
   "source": [
    "'''\n",
    "def f(grid, coordinates, r):\n",
    "    pos = grid.cell_indexes(coordinates)\n",
    "    if pos is None:\n",
    "        return {}\n",
    "\n",
    "    i0, j0 = pos\n",
    "    print((i0, j0), grid.cells.shape)\n",
    "    aggrigated_cell = grid.cells[i0][j0]\n",
    "    i_steps, j_steps = ceil(r / grid.y_step), ceil(r / grid.x_step)\n",
    "\n",
    "    print([i0, j0])\n",
    "    print(c, (grid.cells[i0][j0].center))\n",
    "    print(distance(c, (grid.cells[i0][j0].center)))\n",
    "    for i in range(max(0, i0 - i_steps), min(len(grid.cells), i0 + i_steps + 1)):\n",
    "        for j in range(max(0, j0 - j_steps), min(len(grid.cells[0]), j0 + j_steps + 1)):\n",
    "            if distance((grid.cells[i][j].center), coordinates) - grid.y_step / 2 <= r:\n",
    "                aggrigated_cell += grid.cells[i][j]\n",
    "                print(i, j)\n",
    "\n",
    "    return aggrigated_cell.entries\n",
    "\n",
    "g = Grid(*city_dict['spb']['borders'], 0.001)\n",
    "c = (59.939811999999996, 30.391174)\n",
    "res = f(g, c, 1000)\n",
    "'''\n",
    "1"
   ]
  },
  {
   "cell_type": "code",
   "execution_count": 153,
   "metadata": {},
   "outputs": [
    {
     "name": "stderr",
     "output_type": "stream",
     "text": [
      "/home/disa/.local/lib/python3.6/site-packages/ipykernel_launcher.py:21: DeprecationWarning: object of type <class 'float'> cannot be safely interpreted as an integer.\n"
     ]
    }
   ],
   "source": [
    "g = Grid(*city_dict['spb']['borders'], 0.001)"
   ]
  },
  {
   "cell_type": "code",
   "execution_count": 154,
   "metadata": {},
   "outputs": [
    {
     "data": {
      "text/plain": [
       "(247, 174)"
      ]
     },
     "execution_count": 154,
     "metadata": {},
     "output_type": "execute_result"
    }
   ],
   "source": [
    "g.cells.shape"
   ]
  },
  {
   "cell_type": "code",
   "execution_count": 155,
   "metadata": {},
   "outputs": [],
   "source": [
    "g.cell_indexes((60.080844, 30.175307))"
   ]
  },
  {
   "cell_type": "code",
   "execution_count": 156,
   "metadata": {
    "scrolled": true
   },
   "outputs": [
    {
     "data": {
      "text/plain": [
       "(247, 174)"
      ]
     },
     "execution_count": 156,
     "metadata": {},
     "output_type": "execute_result"
    }
   ],
   "source": [
    "g.cell_indexes((59.833302, 30.525166))"
   ]
  },
  {
   "cell_type": "code",
   "execution_count": 157,
   "metadata": {},
   "outputs": [],
   "source": [
    "def make_grid(city_abbr):\n",
    "    with open(f'./data/entries/parsed/{city_abbr}.json') as file:\n",
    "        etrie_data = json.load(file)\n",
    "        \n",
    "    grid = Grid(*city_dict[city_abbr]['borders'], 0.001)\n",
    "    grid.nw = city_dict[city_abbr]['borders'][0]\n",
    "    grid.se = city_dict[city_abbr]['borders'][1]\n",
    "    \n",
    "    #print(abs(grid.nw[0] - grid.se[0]) // grid.dlat, abs(grid.nw[1] - grid.se[1]) // grid.dlon)\n",
    "    \n",
    "    i = 0\n",
    "    for entrie_type_value, raw_entries in zip(etrie_data.keys(), etrie_data.values()):\n",
    "        entrie_type = EntrieType(entrie_type_value)\n",
    "        j = 0\n",
    "        for raw_entrie in raw_entries:\n",
    "            \n",
    "            processed_entrie = Entrie(*raw_entrie)\n",
    "\n",
    "            if type(processed_entrie.coorditates[0]) != type(1.2):\n",
    "                continue\n",
    "                     \n",
    "            grid.add_entrie(processed_entrie, entrie_type)\n",
    "            j += 1\n",
    "            if j  % 100 == 0:\n",
    "                pass\n",
    "                #print(f'{j}/{len(raw_entries)}')\n",
    "        i += 1\n",
    "        print(f'{j} ({i} / {len(etrie_data.keys())})')\n",
    "    \n",
    "    return grid"
   ]
  },
  {
   "cell_type": "code",
   "execution_count": 158,
   "metadata": {},
   "outputs": [],
   "source": [
    "def extract_public_trasport_stops(city_abbr):\n",
    "    with open(f'./data/entries/parsed/{city_abbr}.json') as file:\n",
    "        etrie_data = json.load(file)\n",
    "    return [e[0] for e in etrie_data['subway_station']] + [e[0] for e in etrie_data['tram_stop']] + [e[0] for e in etrie_data['bus_stop']]\n",
    "    "
   ]
  },
  {
   "cell_type": "code",
   "execution_count": 159,
   "metadata": {},
   "outputs": [
    {
     "name": "stderr",
     "output_type": "stream",
     "text": [
      "/home/disa/.local/lib/python3.6/site-packages/ipykernel_launcher.py:21: DeprecationWarning: object of type <class 'float'> cannot be safely interpreted as an integer.\n"
     ]
    },
    {
     "name": "stdout",
     "output_type": "stream",
     "text": [
      "9074 (1 / 17)\n",
      "2895 (2 / 17)\n",
      "427 (3 / 17)\n",
      "45 (4 / 17)\n",
      "3152 (5 / 17)\n",
      "2145 (6 / 17)\n",
      "1007 (7 / 17)\n",
      "75 (8 / 17)\n",
      "111 (9 / 17)\n",
      "502 (10 / 17)\n",
      "39 (11 / 17)\n",
      "30 (12 / 17)\n",
      "624 (13 / 17)\n",
      "138 (14 / 17)\n",
      "128 (15 / 17)\n",
      "656 (16 / 17)\n"
     ]
    },
    {
     "ename": "IndexError",
     "evalue": "index 247 is out of bounds for axis 0 with size 247",
     "output_type": "error",
     "traceback": [
      "\u001b[0;31m---------------------------------------------------------------------------\u001b[0m",
      "\u001b[0;31mIndexError\u001b[0m                                Traceback (most recent call last)",
      "\u001b[0;32m<ipython-input-159-8b9b4d7af127>\u001b[0m in \u001b[0;36m<module>\u001b[0;34m()\u001b[0m\n\u001b[1;32m      1\u001b[0m \u001b[0;32mfor\u001b[0m \u001b[0mcity_abbr\u001b[0m \u001b[0;32min\u001b[0m \u001b[0mcity_dict\u001b[0m\u001b[0;34m.\u001b[0m\u001b[0mkeys\u001b[0m\u001b[0;34m(\u001b[0m\u001b[0;34m)\u001b[0m\u001b[0;34m:\u001b[0m\u001b[0;34m\u001b[0m\u001b[0;34m\u001b[0m\u001b[0m\n\u001b[0;32m----> 2\u001b[0;31m     \u001b[0mcity_dict\u001b[0m\u001b[0;34m[\u001b[0m\u001b[0mcity_abbr\u001b[0m\u001b[0;34m]\u001b[0m\u001b[0;34m[\u001b[0m\u001b[0;34m'grid'\u001b[0m\u001b[0;34m]\u001b[0m \u001b[0;34m=\u001b[0m \u001b[0mmake_grid\u001b[0m\u001b[0;34m(\u001b[0m\u001b[0mcity_abbr\u001b[0m\u001b[0;34m)\u001b[0m\u001b[0;34m\u001b[0m\u001b[0;34m\u001b[0m\u001b[0m\n\u001b[0m",
      "\u001b[0;32m<ipython-input-157-914b6f7e4902>\u001b[0m in \u001b[0;36mmake_grid\u001b[0;34m(city_abbr)\u001b[0m\n\u001b[1;32m     20\u001b[0m                 \u001b[0;32mcontinue\u001b[0m\u001b[0;34m\u001b[0m\u001b[0;34m\u001b[0m\u001b[0m\n\u001b[1;32m     21\u001b[0m \u001b[0;34m\u001b[0m\u001b[0m\n\u001b[0;32m---> 22\u001b[0;31m             \u001b[0mgrid\u001b[0m\u001b[0;34m.\u001b[0m\u001b[0madd_entrie\u001b[0m\u001b[0;34m(\u001b[0m\u001b[0mprocessed_entrie\u001b[0m\u001b[0;34m,\u001b[0m \u001b[0mentrie_type\u001b[0m\u001b[0;34m)\u001b[0m\u001b[0;34m\u001b[0m\u001b[0;34m\u001b[0m\u001b[0m\n\u001b[0m\u001b[1;32m     23\u001b[0m             \u001b[0mj\u001b[0m \u001b[0;34m+=\u001b[0m \u001b[0;36m1\u001b[0m\u001b[0;34m\u001b[0m\u001b[0;34m\u001b[0m\u001b[0m\n\u001b[1;32m     24\u001b[0m             \u001b[0;32mif\u001b[0m \u001b[0mj\u001b[0m  \u001b[0;34m%\u001b[0m \u001b[0;36m100\u001b[0m \u001b[0;34m==\u001b[0m \u001b[0;36m0\u001b[0m\u001b[0;34m:\u001b[0m\u001b[0;34m\u001b[0m\u001b[0;34m\u001b[0m\u001b[0m\n",
      "\u001b[0;32m<ipython-input-150-d72668238b1d>\u001b[0m in \u001b[0;36madd_entrie\u001b[0;34m(self, entrie, entrie_type)\u001b[0m\n\u001b[1;32m     48\u001b[0m         \u001b[0mpos\u001b[0m \u001b[0;34m=\u001b[0m \u001b[0mself\u001b[0m\u001b[0;34m.\u001b[0m\u001b[0mcell_indexes\u001b[0m\u001b[0;34m(\u001b[0m\u001b[0mentrie\u001b[0m\u001b[0;34m.\u001b[0m\u001b[0mcoorditates\u001b[0m\u001b[0;34m)\u001b[0m\u001b[0;34m\u001b[0m\u001b[0;34m\u001b[0m\u001b[0m\n\u001b[1;32m     49\u001b[0m         \u001b[0;32mif\u001b[0m \u001b[0;32mnot\u001b[0m \u001b[0mpos\u001b[0m \u001b[0;32mis\u001b[0m \u001b[0;32mNone\u001b[0m\u001b[0;34m:\u001b[0m\u001b[0;34m\u001b[0m\u001b[0;34m\u001b[0m\u001b[0m\n\u001b[0;32m---> 50\u001b[0;31m             \u001b[0mself\u001b[0m\u001b[0;34m.\u001b[0m\u001b[0mcells\u001b[0m\u001b[0;34m[\u001b[0m\u001b[0mpos\u001b[0m\u001b[0;34m[\u001b[0m\u001b[0;36m0\u001b[0m\u001b[0;34m]\u001b[0m\u001b[0;34m]\u001b[0m\u001b[0;34m[\u001b[0m\u001b[0mpos\u001b[0m\u001b[0;34m[\u001b[0m\u001b[0;36m1\u001b[0m\u001b[0;34m]\u001b[0m\u001b[0;34m]\u001b[0m\u001b[0;34m.\u001b[0m\u001b[0madd_entrie\u001b[0m\u001b[0;34m(\u001b[0m\u001b[0mentrie\u001b[0m\u001b[0;34m,\u001b[0m \u001b[0mentrie_type\u001b[0m\u001b[0;34m)\u001b[0m\u001b[0;34m\u001b[0m\u001b[0;34m\u001b[0m\u001b[0m\n\u001b[0m",
      "\u001b[0;31mIndexError\u001b[0m: index 247 is out of bounds for axis 0 with size 247"
     ]
    }
   ],
   "source": [
    "for city_abbr in city_dict.keys(): \n",
    "    city_dict[city_abbr]['grid'] = make_grid(city_abbr)"
   ]
  },
  {
   "cell_type": "code",
   "execution_count": 77,
   "metadata": {},
   "outputs": [],
   "source": [
    "def prepare_table(city_abbr):\n",
    "    flats = pd.read_csv(f'./data/flats/{city_abbr}.csv').drop(columns=['adress', 'subway_station'])\n",
    "    cols = flats.columns.tolist()\n",
    "    cols[-1], cols[-2] = cols[-2], cols[-1]\n",
    "    cols = cols[-2:] + [cols[0]] + cols[1:-2]\n",
    "    flats = flats[cols]\n",
    "    flats['price_per_m'] = (flats['price'] / flats['area']).map(lambda x: int(x))\n",
    "    flats = flats.drop(columns=['price'])\n",
    "    flats['distance_to_center'] = [distance(x, city_dict[city_abbr]['center']) for x in zip(flats.latitude, flats.longitude)]\n",
    "    return flats"
   ]
  },
  {
   "cell_type": "code",
   "execution_count": 78,
   "metadata": {},
   "outputs": [],
   "source": [
    "prepared_smr = prepare_table('smr')\n",
    "prepared_spb = prepare_table('spb')"
   ]
  },
  {
   "cell_type": "code",
   "execution_count": 100,
   "metadata": {},
   "outputs": [],
   "source": [
    "def cook_table(city_abbr, flats):\n",
    "    \n",
    "    i = 0\n",
    "    feature_list = []\n",
    "    grid = city_dict[city_abbr]['grid']\n",
    "\n",
    "    for row in flats.iterrows():\n",
    "        row = row[1]\n",
    "        d = {'price_per_m': int(row['price_per_m']),\n",
    "             'rooms': int(row['rooms']),\n",
    "             'area': row['area'], \n",
    "             'floor': int(row['floor']),\n",
    "             'floors_total': int(row['floors_total']),\n",
    "             'distance_to_subway': int(row['distance to subway']),\n",
    "             'distance_to_center': int(row['distance_to_center'])\n",
    "            }\n",
    "\n",
    "        lat, lon = row[\"latitude\"], row[\"longitude\"]\n",
    "        \n",
    "        print(grid.cell_indexes((lat, lon)))\n",
    "        entries = {\n",
    "            '500': grid.get_all_entries_in_radius((lat, lon), 500),\n",
    "            '1000': grid.get_all_entries_in_radius((lat, lon), 1000),\n",
    "        }\n",
    "        \n",
    "        return entries\n",
    "        \n",
    "        try:\n",
    "            salaries_1000 = [e.weight for e in entries['1000'][EntrieType.VACANCY]]\n",
    "            salaries_500 = [e.weight for e in entries['500'][EntrieType.VACANCY]]\n",
    "            d['mean_salary_1000'] = int(statistics.mean(salaries_1000))\n",
    "            d['median_salary_1000'] = int(statistics.median(salaries_1000))\n",
    "            d['mean_salary_500'] = int(statistics.mean(salaries_500))\n",
    "            d['median_salary_500'] = int(statistics.median(salaries_500))\n",
    "        except KeyError:\n",
    "            continue\n",
    "        for key in entries['500'].keys():\n",
    "            for dist in entries.keys():\n",
    "                d[f'{key.value}_{dist}'] = len([e for e in entries[dist][key]])\n",
    "        feature_list.append(d)\n",
    "        \n",
    "        if i % 100 == 0:\n",
    "            print(i)\n",
    "        i += 1\n",
    "        return pd.DataFrame(feature_list)\n",
    "    return pd.DataFrame(feature_list)"
   ]
  },
  {
   "cell_type": "code",
   "execution_count": 101,
   "metadata": {},
   "outputs": [
    {
     "name": "stdout",
     "output_type": "stream",
     "text": [
      "(30, 94)\n"
     ]
    }
   ],
   "source": [
    "e = cook_table('smr', prepared_smr)"
   ]
  },
  {
   "cell_type": "code",
   "execution_count": 99,
   "metadata": {},
   "outputs": [
    {
     "data": {
      "text/plain": [
       "{'500': {<EntrieType.VACANCY: 'vacancy'>: [],\n",
       "  <EntrieType.APARTMENT: 'apartement'>: [],\n",
       "  <EntrieType.SHOP: 'shop'>: [],\n",
       "  <EntrieType.BUS_STOP: 'bus_stop'>: [],\n",
       "  <EntrieType.TRAM_STOP: 'tram_stop'>: [],\n",
       "  <EntrieType.SUBWAY_STATION: 'subway_station'>: [],\n",
       "  <EntrieType.CAFE: 'cafe'>: [],\n",
       "  <EntrieType.OFFICE: 'office'>: [],\n",
       "  <EntrieType.POINT_OF_INTEREST: 'point_of_interest'>: [],\n",
       "  <EntrieType.SCHOOL: 'school'>: [],\n",
       "  <EntrieType.HOSPITAL: 'hospital'>: [],\n",
       "  <EntrieType.BANK: 'bank'>: [],\n",
       "  <EntrieType.UNIVERCITY: 'univercity'>: [],\n",
       "  <EntrieType.CINEMA: 'cinema'>: [],\n",
       "  <EntrieType.NIGHTLIFE: 'nightlife'>: [],\n",
       "  <EntrieType.GOVERNMENT: 'government'>: [],\n",
       "  <EntrieType.LEISURE: 'leisure'>: [],\n",
       "  <EntrieType.HOTEL: 'hotel'>: []},\n",
       " '1000': {<EntrieType.VACANCY: 'vacancy'>: [],\n",
       "  <EntrieType.APARTMENT: 'apartement'>: [],\n",
       "  <EntrieType.SHOP: 'shop'>: [],\n",
       "  <EntrieType.BUS_STOP: 'bus_stop'>: [],\n",
       "  <EntrieType.TRAM_STOP: 'tram_stop'>: [],\n",
       "  <EntrieType.SUBWAY_STATION: 'subway_station'>: [],\n",
       "  <EntrieType.CAFE: 'cafe'>: [],\n",
       "  <EntrieType.OFFICE: 'office'>: [],\n",
       "  <EntrieType.POINT_OF_INTEREST: 'point_of_interest'>: [],\n",
       "  <EntrieType.SCHOOL: 'school'>: [],\n",
       "  <EntrieType.HOSPITAL: 'hospital'>: [],\n",
       "  <EntrieType.BANK: 'bank'>: [],\n",
       "  <EntrieType.UNIVERCITY: 'univercity'>: [],\n",
       "  <EntrieType.CINEMA: 'cinema'>: [],\n",
       "  <EntrieType.NIGHTLIFE: 'nightlife'>: [],\n",
       "  <EntrieType.GOVERNMENT: 'government'>: [],\n",
       "  <EntrieType.LEISURE: 'leisure'>: [],\n",
       "  <EntrieType.HOTEL: 'hotel'>: []}}"
      ]
     },
     "execution_count": 99,
     "metadata": {},
     "output_type": "execute_result"
    }
   ],
   "source": [
    "e"
   ]
  },
  {
   "cell_type": "code",
   "execution_count": 94,
   "metadata": {},
   "outputs": [
    {
     "name": "stdout",
     "output_type": "stream",
     "text": [
      "<class '__main__.Grid'>\n"
     ]
    },
    {
     "ename": "StatisticsError",
     "evalue": "mean requires at least one data point",
     "output_type": "error",
     "traceback": [
      "\u001b[0;31m---------------------------------------------------------------------------\u001b[0m",
      "\u001b[0;31mStatisticsError\u001b[0m                           Traceback (most recent call last)",
      "\u001b[0;32m<ipython-input-94-d2492ee2d6c1>\u001b[0m in \u001b[0;36m<module>\u001b[0;34m()\u001b[0m\n\u001b[0;32m----> 1\u001b[0;31m \u001b[0msmr_table\u001b[0m \u001b[0;34m=\u001b[0m \u001b[0mcook_table\u001b[0m\u001b[0;34m(\u001b[0m\u001b[0;34m'smr'\u001b[0m\u001b[0;34m,\u001b[0m \u001b[0mprepared_smr\u001b[0m\u001b[0;34m)\u001b[0m\u001b[0;34m\u001b[0m\u001b[0;34m\u001b[0m\u001b[0m\n\u001b[0m",
      "\u001b[0;32m<ipython-input-93-3816c97b3ec2>\u001b[0m in \u001b[0;36mcook_table\u001b[0;34m(city_abbr, flats)\u001b[0m\n\u001b[1;32m     26\u001b[0m             \u001b[0msalaries_1000\u001b[0m \u001b[0;34m=\u001b[0m \u001b[0;34m[\u001b[0m\u001b[0me\u001b[0m\u001b[0;34m.\u001b[0m\u001b[0mweight\u001b[0m \u001b[0;32mfor\u001b[0m \u001b[0me\u001b[0m \u001b[0;32min\u001b[0m \u001b[0mentries\u001b[0m\u001b[0;34m[\u001b[0m\u001b[0;34m'1000'\u001b[0m\u001b[0;34m]\u001b[0m\u001b[0;34m[\u001b[0m\u001b[0mEntrieType\u001b[0m\u001b[0;34m.\u001b[0m\u001b[0mVACANCY\u001b[0m\u001b[0;34m]\u001b[0m\u001b[0;34m]\u001b[0m\u001b[0;34m\u001b[0m\u001b[0;34m\u001b[0m\u001b[0m\n\u001b[1;32m     27\u001b[0m             \u001b[0msalaries_500\u001b[0m \u001b[0;34m=\u001b[0m \u001b[0;34m[\u001b[0m\u001b[0me\u001b[0m\u001b[0;34m.\u001b[0m\u001b[0mweight\u001b[0m \u001b[0;32mfor\u001b[0m \u001b[0me\u001b[0m \u001b[0;32min\u001b[0m \u001b[0mentries\u001b[0m\u001b[0;34m[\u001b[0m\u001b[0;34m'500'\u001b[0m\u001b[0;34m]\u001b[0m\u001b[0;34m[\u001b[0m\u001b[0mEntrieType\u001b[0m\u001b[0;34m.\u001b[0m\u001b[0mVACANCY\u001b[0m\u001b[0;34m]\u001b[0m\u001b[0;34m]\u001b[0m\u001b[0;34m\u001b[0m\u001b[0;34m\u001b[0m\u001b[0m\n\u001b[0;32m---> 28\u001b[0;31m             \u001b[0md\u001b[0m\u001b[0;34m[\u001b[0m\u001b[0;34m'mean_salary_1000'\u001b[0m\u001b[0;34m]\u001b[0m \u001b[0;34m=\u001b[0m \u001b[0mint\u001b[0m\u001b[0;34m(\u001b[0m\u001b[0mstatistics\u001b[0m\u001b[0;34m.\u001b[0m\u001b[0mmean\u001b[0m\u001b[0;34m(\u001b[0m\u001b[0msalaries_1000\u001b[0m\u001b[0;34m)\u001b[0m\u001b[0;34m)\u001b[0m\u001b[0;34m\u001b[0m\u001b[0;34m\u001b[0m\u001b[0m\n\u001b[0m\u001b[1;32m     29\u001b[0m             \u001b[0md\u001b[0m\u001b[0;34m[\u001b[0m\u001b[0;34m'median_salary_1000'\u001b[0m\u001b[0;34m]\u001b[0m \u001b[0;34m=\u001b[0m \u001b[0mint\u001b[0m\u001b[0;34m(\u001b[0m\u001b[0mstatistics\u001b[0m\u001b[0;34m.\u001b[0m\u001b[0mmedian\u001b[0m\u001b[0;34m(\u001b[0m\u001b[0msalaries_1000\u001b[0m\u001b[0;34m)\u001b[0m\u001b[0;34m)\u001b[0m\u001b[0;34m\u001b[0m\u001b[0;34m\u001b[0m\u001b[0m\n\u001b[1;32m     30\u001b[0m             \u001b[0md\u001b[0m\u001b[0;34m[\u001b[0m\u001b[0;34m'mean_salary_500'\u001b[0m\u001b[0;34m]\u001b[0m \u001b[0;34m=\u001b[0m \u001b[0mint\u001b[0m\u001b[0;34m(\u001b[0m\u001b[0mstatistics\u001b[0m\u001b[0;34m.\u001b[0m\u001b[0mmean\u001b[0m\u001b[0;34m(\u001b[0m\u001b[0msalaries_500\u001b[0m\u001b[0;34m)\u001b[0m\u001b[0;34m)\u001b[0m\u001b[0;34m\u001b[0m\u001b[0;34m\u001b[0m\u001b[0m\n",
      "\u001b[0;32m/usr/lib/python3.6/statistics.py\u001b[0m in \u001b[0;36mmean\u001b[0;34m(data)\u001b[0m\n\u001b[1;32m    309\u001b[0m     \u001b[0mn\u001b[0m \u001b[0;34m=\u001b[0m \u001b[0mlen\u001b[0m\u001b[0;34m(\u001b[0m\u001b[0mdata\u001b[0m\u001b[0;34m)\u001b[0m\u001b[0;34m\u001b[0m\u001b[0;34m\u001b[0m\u001b[0m\n\u001b[1;32m    310\u001b[0m     \u001b[0;32mif\u001b[0m \u001b[0mn\u001b[0m \u001b[0;34m<\u001b[0m \u001b[0;36m1\u001b[0m\u001b[0;34m:\u001b[0m\u001b[0;34m\u001b[0m\u001b[0;34m\u001b[0m\u001b[0m\n\u001b[0;32m--> 311\u001b[0;31m         \u001b[0;32mraise\u001b[0m \u001b[0mStatisticsError\u001b[0m\u001b[0;34m(\u001b[0m\u001b[0;34m'mean requires at least one data point'\u001b[0m\u001b[0;34m)\u001b[0m\u001b[0;34m\u001b[0m\u001b[0;34m\u001b[0m\u001b[0m\n\u001b[0m\u001b[1;32m    312\u001b[0m     \u001b[0mT\u001b[0m\u001b[0;34m,\u001b[0m \u001b[0mtotal\u001b[0m\u001b[0;34m,\u001b[0m \u001b[0mcount\u001b[0m \u001b[0;34m=\u001b[0m \u001b[0m_sum\u001b[0m\u001b[0;34m(\u001b[0m\u001b[0mdata\u001b[0m\u001b[0;34m)\u001b[0m\u001b[0;34m\u001b[0m\u001b[0;34m\u001b[0m\u001b[0m\n\u001b[1;32m    313\u001b[0m     \u001b[0;32massert\u001b[0m \u001b[0mcount\u001b[0m \u001b[0;34m==\u001b[0m \u001b[0mn\u001b[0m\u001b[0;34m\u001b[0m\u001b[0;34m\u001b[0m\u001b[0m\n",
      "\u001b[0;31mStatisticsError\u001b[0m: mean requires at least one data point"
     ]
    }
   ],
   "source": [
    "smr_table = cook_table('smr', prepared_smr)"
   ]
  },
  {
   "cell_type": "code",
   "execution_count": 100,
   "metadata": {},
   "outputs": [],
   "source": [
    "spb_table = cook_table('spb', prepared_spb)"
   ]
  },
  {
   "cell_type": "code",
   "execution_count": 80,
   "metadata": {
    "scrolled": true
   },
   "outputs": [
    {
     "ename": "NameError",
     "evalue": "name 'coord_dict' is not defined",
     "output_type": "error",
     "traceback": [
      "\u001b[0;31m---------------------------------------------------------------------------\u001b[0m",
      "\u001b[0;31mNameError\u001b[0m                                 Traceback (most recent call last)",
      "\u001b[0;32m<ipython-input-80-d2492ee2d6c1>\u001b[0m in \u001b[0;36m<module>\u001b[0;34m()\u001b[0m\n\u001b[0;32m----> 1\u001b[0;31m \u001b[0msmr_table\u001b[0m \u001b[0;34m=\u001b[0m \u001b[0mcook_table\u001b[0m\u001b[0;34m(\u001b[0m\u001b[0;34m'smr'\u001b[0m\u001b[0;34m,\u001b[0m \u001b[0mprepared_smr\u001b[0m\u001b[0;34m)\u001b[0m\u001b[0;34m\u001b[0m\u001b[0;34m\u001b[0m\u001b[0m\n\u001b[0m",
      "\u001b[0;32m<ipython-input-79-3e8b3f4583c2>\u001b[0m in \u001b[0;36mcook_table\u001b[0;34m(city_abbr, flats)\u001b[0m\n\u001b[1;32m     15\u001b[0m \u001b[0;34m\u001b[0m\u001b[0m\n\u001b[1;32m     16\u001b[0m         \u001b[0mlat\u001b[0m\u001b[0;34m,\u001b[0m \u001b[0mlon\u001b[0m \u001b[0;34m=\u001b[0m \u001b[0mrow\u001b[0m\u001b[0;34m[\u001b[0m\u001b[0;34m\"latitude\"\u001b[0m\u001b[0;34m]\u001b[0m\u001b[0;34m,\u001b[0m \u001b[0mrow\u001b[0m\u001b[0;34m[\u001b[0m\u001b[0;34m\"longitude\"\u001b[0m\u001b[0;34m]\u001b[0m\u001b[0;34m\u001b[0m\u001b[0;34m\u001b[0m\u001b[0m\n\u001b[0;32m---> 17\u001b[0;31m         \u001b[0mgrid\u001b[0m \u001b[0;34m=\u001b[0m \u001b[0mcoord_dict\u001b[0m\u001b[0;34m[\u001b[0m\u001b[0mcity_abbr\u001b[0m\u001b[0;34m]\u001b[0m\u001b[0;34m[\u001b[0m\u001b[0;34m'grid'\u001b[0m\u001b[0;34m]\u001b[0m\u001b[0;34m\u001b[0m\u001b[0;34m\u001b[0m\u001b[0m\n\u001b[0m\u001b[1;32m     18\u001b[0m \u001b[0;34m\u001b[0m\u001b[0m\n\u001b[1;32m     19\u001b[0m         entries = {\n",
      "\u001b[0;31mNameError\u001b[0m: name 'coord_dict' is not defined"
     ]
    }
   ],
   "source": []
  },
  {
   "cell_type": "code",
   "execution_count": null,
   "metadata": {
    "scrolled": true
   },
   "outputs": [],
   "source": [
    "\n",
    "spb_table.to_csv('./datasets/spb.csv', index=False)"
   ]
  },
  {
   "cell_type": "code",
   "execution_count": 9,
   "metadata": {
    "scrolled": true
   },
   "outputs": [
    {
     "ename": "KeyboardInterrupt",
     "evalue": "",
     "output_type": "error",
     "traceback": [
      "\u001b[0;31m---------------------------------------------------------------------------\u001b[0m",
      "\u001b[0;31mKeyboardInterrupt\u001b[0m                         Traceback (most recent call last)",
      "\u001b[0;32m<ipython-input-9-11be01d33ef4>\u001b[0m in \u001b[0;36m<module>\u001b[0;34m()\u001b[0m\n\u001b[0;32m----> 1\u001b[0;31m \u001b[0msmr_table\u001b[0m \u001b[0;34m=\u001b[0m \u001b[0mcook_table\u001b[0m\u001b[0;34m(\u001b[0m\u001b[0;34m'smr'\u001b[0m\u001b[0;34m)\u001b[0m\u001b[0;34m\u001b[0m\u001b[0;34m\u001b[0m\u001b[0m\n\u001b[0m\u001b[1;32m      2\u001b[0m \u001b[0msmr_table\u001b[0m\u001b[0;34m.\u001b[0m\u001b[0mto_csv\u001b[0m\u001b[0;34m(\u001b[0m\u001b[0;34m'./datasets/smr.csv'\u001b[0m\u001b[0;34m,\u001b[0m \u001b[0mindex\u001b[0m\u001b[0;34m=\u001b[0m\u001b[0;32mFalse\u001b[0m\u001b[0;34m)\u001b[0m\u001b[0;34m\u001b[0m\u001b[0;34m\u001b[0m\u001b[0m\n",
      "\u001b[0;32m<ipython-input-8-c37b730a4bad>\u001b[0m in \u001b[0;36mcook_table\u001b[0;34m(city_abbr)\u001b[0m\n\u001b[1;32m     25\u001b[0m         \u001b[0mgrid\u001b[0m \u001b[0;34m=\u001b[0m \u001b[0mcoord_dict\u001b[0m\u001b[0;34m[\u001b[0m\u001b[0mcity_abbr\u001b[0m\u001b[0;34m]\u001b[0m\u001b[0;34m[\u001b[0m\u001b[0;34m'grid'\u001b[0m\u001b[0;34m]\u001b[0m\u001b[0;34m\u001b[0m\u001b[0;34m\u001b[0m\u001b[0m\n\u001b[1;32m     26\u001b[0m         entries = {\n\u001b[0;32m---> 27\u001b[0;31m             \u001b[0;34m'500'\u001b[0m\u001b[0;34m:\u001b[0m \u001b[0mgrid\u001b[0m\u001b[0;34m.\u001b[0m\u001b[0mget_all_entries_in_radius\u001b[0m\u001b[0;34m(\u001b[0m\u001b[0;34m(\u001b[0m\u001b[0mlat\u001b[0m\u001b[0;34m,\u001b[0m \u001b[0mlon\u001b[0m\u001b[0;34m)\u001b[0m\u001b[0;34m,\u001b[0m \u001b[0;36m500\u001b[0m\u001b[0;34m)\u001b[0m\u001b[0;34m,\u001b[0m\u001b[0;34m\u001b[0m\u001b[0;34m\u001b[0m\u001b[0m\n\u001b[0m\u001b[1;32m     28\u001b[0m             \u001b[0;34m'1000'\u001b[0m\u001b[0;34m:\u001b[0m \u001b[0mgrid\u001b[0m\u001b[0;34m.\u001b[0m\u001b[0mget_all_entries_in_radius\u001b[0m\u001b[0;34m(\u001b[0m\u001b[0;34m(\u001b[0m\u001b[0mlat\u001b[0m\u001b[0;34m,\u001b[0m \u001b[0mlon\u001b[0m\u001b[0;34m)\u001b[0m\u001b[0;34m,\u001b[0m \u001b[0;36m1000\u001b[0m\u001b[0;34m)\u001b[0m\u001b[0;34m,\u001b[0m\u001b[0;34m\u001b[0m\u001b[0;34m\u001b[0m\u001b[0m\n\u001b[1;32m     29\u001b[0m         }\n",
      "\u001b[0;32m~/ssau/thesis/dataset-assembler/grid.py\u001b[0m in \u001b[0;36mget_all_entries_in_radius\u001b[0;34m(self, coordinates, r)\u001b[0m\n\u001b[1;32m     30\u001b[0m \u001b[0;34m\u001b[0m\u001b[0m\n\u001b[1;32m     31\u001b[0m     \u001b[0;32mdef\u001b[0m \u001b[0mget_all_entries_in_radius\u001b[0m\u001b[0;34m(\u001b[0m\u001b[0mself\u001b[0m\u001b[0;34m,\u001b[0m \u001b[0mcoordinates\u001b[0m\u001b[0;34m,\u001b[0m \u001b[0mr\u001b[0m\u001b[0;34m:\u001b[0m \u001b[0mfloat\u001b[0m\u001b[0;34m)\u001b[0m\u001b[0;34m:\u001b[0m\u001b[0;34m\u001b[0m\u001b[0;34m\u001b[0m\u001b[0m\n\u001b[0;32m---> 32\u001b[0;31m         \u001b[0mpos\u001b[0m \u001b[0;34m=\u001b[0m \u001b[0mself\u001b[0m\u001b[0;34m.\u001b[0m\u001b[0mfind_suitable_position\u001b[0m\u001b[0;34m(\u001b[0m\u001b[0;34m*\u001b[0m\u001b[0mcoordinates\u001b[0m\u001b[0;34m)\u001b[0m\u001b[0;34m\u001b[0m\u001b[0;34m\u001b[0m\u001b[0m\n\u001b[0m\u001b[1;32m     33\u001b[0m         \u001b[0;32mif\u001b[0m \u001b[0mpos\u001b[0m \u001b[0;32mis\u001b[0m \u001b[0;32mNone\u001b[0m\u001b[0;34m:\u001b[0m\u001b[0;34m\u001b[0m\u001b[0;34m\u001b[0m\u001b[0m\n\u001b[1;32m     34\u001b[0m             \u001b[0;32mreturn\u001b[0m \u001b[0;34m{\u001b[0m\u001b[0;34m}\u001b[0m\u001b[0;34m\u001b[0m\u001b[0;34m\u001b[0m\u001b[0m\n",
      "\u001b[0;32m~/ssau/thesis/dataset-assembler/grid.py\u001b[0m in \u001b[0;36mfind_suitable_position\u001b[0;34m(self, lat, lon)\u001b[0m\n\u001b[1;32m     22\u001b[0m                 \u001b[0;32mif\u001b[0m \u001b[0mlat\u001b[0m \u001b[0;34m>\u001b[0m \u001b[0mm\u001b[0m\u001b[0;34m[\u001b[0m\u001b[0;36m0\u001b[0m\u001b[0;34m]\u001b[0m\u001b[0;34m:\u001b[0m\u001b[0;34m\u001b[0m\u001b[0;34m\u001b[0m\u001b[0m\n\u001b[1;32m     23\u001b[0m                     \u001b[0;32mfor\u001b[0m \u001b[0mj\u001b[0m \u001b[0;32min\u001b[0m \u001b[0mrange\u001b[0m\u001b[0;34m(\u001b[0m\u001b[0mlen\u001b[0m\u001b[0;34m(\u001b[0m\u001b[0mself\u001b[0m\u001b[0;34m.\u001b[0m\u001b[0mcells\u001b[0m\u001b[0;34m[\u001b[0m\u001b[0mi\u001b[0m\u001b[0;34m]\u001b[0m\u001b[0;34m)\u001b[0m \u001b[0;34m-\u001b[0m \u001b[0;36m1\u001b[0m\u001b[0;34m)\u001b[0m\u001b[0;34m:\u001b[0m\u001b[0;34m\u001b[0m\u001b[0;34m\u001b[0m\u001b[0m\n\u001b[0;32m---> 24\u001b[0;31m                         m = midpoint(self.cells[i][j].center,\n\u001b[0m\u001b[1;32m     25\u001b[0m                                     self.cells[i][j + 1].center)\n\u001b[1;32m     26\u001b[0m                         \u001b[0;32mif\u001b[0m \u001b[0mm\u001b[0m\u001b[0;34m[\u001b[0m\u001b[0;36m1\u001b[0m\u001b[0;34m]\u001b[0m \u001b[0;34m>\u001b[0m \u001b[0mlon\u001b[0m\u001b[0;34m:\u001b[0m\u001b[0;34m\u001b[0m\u001b[0;34m\u001b[0m\u001b[0m\n",
      "\u001b[0;31mKeyboardInterrupt\u001b[0m: "
     ]
    }
   ],
   "source": [
    "smr_table = cook_table('smr', prepared_smr)\n",
    "smr_table.to_csv('./datasets/smr.csv', index=False)"
   ]
  },
  {
   "cell_type": "code",
   "execution_count": 102,
   "metadata": {},
   "outputs": [],
   "source": []
  },
  {
   "cell_type": "code",
   "execution_count": 108,
   "metadata": {},
   "outputs": [],
   "source": []
  },
  {
   "cell_type": "code",
   "execution_count": 109,
   "metadata": {},
   "outputs": [
    {
     "data": {
      "text/plain": [
       "29"
      ]
     },
     "execution_count": 109,
     "metadata": {},
     "output_type": "execute_result"
    }
   ],
   "source": [
    "len(res[EntrieType.VACANCY])"
   ]
  },
  {
   "cell_type": "code",
   "execution_count": 230,
   "metadata": {},
   "outputs": [],
   "source": []
  },
  {
   "cell_type": "code",
   "execution_count": 234,
   "metadata": {},
   "outputs": [],
   "source": []
  },
  {
   "cell_type": "code",
   "execution_count": 235,
   "metadata": {},
   "outputs": [],
   "source": []
  },
  {
   "cell_type": "code",
   "execution_count": 233,
   "metadata": {},
   "outputs": [
    {
     "data": {
      "text/plain": [
       "59.833802000000006, 30.176307"
      ]
     },
     "execution_count": 233,
     "metadata": {},
     "output_type": "execute_result"
    }
   ],
   "source": [
    "g.cells[0][0]"
   ]
  },
  {
   "cell_type": "code",
   "execution_count": 236,
   "metadata": {},
   "outputs": [
    {
     "data": {
      "text/plain": [
       "((60.080844, 30.175307), (59.833302, 30.525166))"
      ]
     },
     "execution_count": 236,
     "metadata": {},
     "output_type": "execute_result"
    }
   ],
   "source": [
    "g.nw, g.se"
   ]
  },
  {
   "cell_type": "code",
   "execution_count": null,
   "metadata": {},
   "outputs": [],
   "source": []
  },
  {
   "cell_type": "code",
   "execution_count": null,
   "metadata": {},
   "outputs": [],
   "source": []
  },
  {
   "cell_type": "code",
   "execution_count": 95,
   "metadata": {},
   "outputs": [],
   "source": [
    "smr_table.to_csv('./datasets/smr.csv', index=False)"
   ]
  },
  {
   "cell_type": "code",
   "execution_count": 83,
   "metadata": {
    "scrolled": true
   },
   "outputs": [],
   "source": [
    "df = "
   ]
  },
  {
   "cell_type": "code",
   "execution_count": 84,
   "metadata": {},
   "outputs": [
    {
     "data": {
      "text/html": [
       "<div>\n",
       "<style scoped>\n",
       "    .dataframe tbody tr th:only-of-type {\n",
       "        vertical-align: middle;\n",
       "    }\n",
       "\n",
       "    .dataframe tbody tr th {\n",
       "        vertical-align: top;\n",
       "    }\n",
       "\n",
       "    .dataframe thead th {\n",
       "        text-align: right;\n",
       "    }\n",
       "</style>\n",
       "<table border=\"1\" class=\"dataframe\">\n",
       "  <thead>\n",
       "    <tr style=\"text-align: right;\">\n",
       "      <th></th>\n",
       "      <th>area</th>\n",
       "      <th>bank_1000</th>\n",
       "      <th>bank_500</th>\n",
       "      <th>bus_stop_1000</th>\n",
       "      <th>bus_stop_500</th>\n",
       "      <th>cafe_1000</th>\n",
       "      <th>cafe_500</th>\n",
       "      <th>cinema_1000</th>\n",
       "      <th>cinema_500</th>\n",
       "      <th>distance_to_center</th>\n",
       "      <th>...</th>\n",
       "      <th>shop_1000</th>\n",
       "      <th>shop_500</th>\n",
       "      <th>subway_station_1000</th>\n",
       "      <th>subway_station_500</th>\n",
       "      <th>tram_stop_1000</th>\n",
       "      <th>tram_stop_500</th>\n",
       "      <th>univercity_1000</th>\n",
       "      <th>univercity_500</th>\n",
       "      <th>vacancy_1000</th>\n",
       "      <th>vacancy_500</th>\n",
       "    </tr>\n",
       "  </thead>\n",
       "  <tbody>\n",
       "    <tr>\n",
       "      <th>0</th>\n",
       "      <td>109.4</td>\n",
       "      <td>3</td>\n",
       "      <td>0</td>\n",
       "      <td>61</td>\n",
       "      <td>20</td>\n",
       "      <td>6</td>\n",
       "      <td>1</td>\n",
       "      <td>0</td>\n",
       "      <td>0</td>\n",
       "      <td>4929</td>\n",
       "      <td>...</td>\n",
       "      <td>19</td>\n",
       "      <td>3</td>\n",
       "      <td>0</td>\n",
       "      <td>0</td>\n",
       "      <td>0</td>\n",
       "      <td>0</td>\n",
       "      <td>0</td>\n",
       "      <td>0</td>\n",
       "      <td>92</td>\n",
       "      <td>1</td>\n",
       "    </tr>\n",
       "  </tbody>\n",
       "</table>\n",
       "<p>1 rows × 43 columns</p>\n",
       "</div>"
      ],
      "text/plain": [
       "    area  bank_1000  bank_500  bus_stop_1000  bus_stop_500  cafe_1000  \\\n",
       "0  109.4          3         0             61            20          6   \n",
       "\n",
       "   cafe_500  cinema_1000  cinema_500  distance_to_center     ...       \\\n",
       "0         1            0           0                4929     ...        \n",
       "\n",
       "   shop_1000  shop_500  subway_station_1000  subway_station_500  \\\n",
       "0         19         3                    0                   0   \n",
       "\n",
       "   tram_stop_1000  tram_stop_500  univercity_1000  univercity_500  \\\n",
       "0               0              0                0               0   \n",
       "\n",
       "   vacancy_1000  vacancy_500  \n",
       "0            92            1  \n",
       "\n",
       "[1 rows x 43 columns]"
      ]
     },
     "execution_count": 84,
     "metadata": {},
     "output_type": "execute_result"
    }
   ],
   "source": [
    "df"
   ]
  },
  {
   "cell_type": "code",
   "execution_count": null,
   "metadata": {},
   "outputs": [],
   "source": []
  },
  {
   "cell_type": "code",
   "execution_count": 4,
   "metadata": {},
   "outputs": [],
   "source": [
    "entries = Cell([0, 0]).entries"
   ]
  },
  {
   "cell_type": "code",
   "execution_count": null,
   "metadata": {},
   "outputs": [],
   "source": []
  },
  {
   "cell_type": "code",
   "execution_count": 83,
   "metadata": {
    "scrolled": true
   },
   "outputs": [
    {
     "data": {
      "text/plain": [
       "405.4873611929934"
      ]
     },
     "execution_count": 83,
     "metadata": {},
     "output_type": "execute_result"
    }
   ],
   "source": []
  },
  {
   "cell_type": "code",
   "execution_count": 25,
   "metadata": {},
   "outputs": [],
   "source": [
    "smr_grid.find_suitable_position(50.1995781, 53.2009557)"
   ]
  },
  {
   "cell_type": "code",
   "execution_count": 47,
   "metadata": {},
   "outputs": [],
   "source": [
    "r = smr_grid.get_all_entries_in_radius((53.277885, 50.056253), 10000)"
   ]
  },
  {
   "cell_type": "code",
   "execution_count": null,
   "metadata": {
    "scrolled": true
   },
   "outputs": [],
   "source": []
  },
  {
   "cell_type": "code",
   "execution_count": null,
   "metadata": {},
   "outputs": [],
   "source": []
  },
  {
   "cell_type": "code",
   "execution_count": null,
   "metadata": {},
   "outputs": [],
   "source": []
  },
  {
   "cell_type": "code",
   "execution_count": 91,
   "metadata": {},
   "outputs": [
    {
     "data": {
      "text/plain": [
       "405396.3914606943"
      ]
     },
     "execution_count": 91,
     "metadata": {},
     "output_type": "execute_result"
    }
   ],
   "source": [
    "distance((53.277885, 50.056253), (50.1995781, 53.2009557))"
   ]
  },
  {
   "cell_type": "code",
   "execution_count": 88,
   "metadata": {
    "scrolled": true
   },
   "outputs": [
    {
     "data": {
      "text/plain": [
       "((60.14131115764205, 29.9328822447388), (60.14131115764205, 29.93366073117118))"
      ]
     },
     "execution_count": 88,
     "metadata": {},
     "output_type": "execute_result"
    }
   ],
   "source": [
    "grid.cells[0][0].center, grid.cells[0][1].center"
   ]
  },
  {
   "cell_type": "code",
   "execution_count": 26,
   "metadata": {},
   "outputs": [
    {
     "data": {
      "text/plain": [
       "(60.16331988210298, 30.04919449246976)"
      ]
     },
     "execution_count": 26,
     "metadata": {},
     "output_type": "execute_result"
    }
   ],
   "source": [
    "midpoint(grid.cells[0][2].center, grid.cells[0][3].center)"
   ]
  },
  {
   "cell_type": "code",
   "execution_count": 6,
   "metadata": {},
   "outputs": [],
   "source": []
  },
  {
   "cell_type": "code",
   "execution_count": 83,
   "metadata": {},
   "outputs": [],
   "source": [
    "# Set up projections\n",
    "p_ll = pyproj.Proj(init='epsg:4326')\n",
    "p_mt = pyproj.Proj(init='epsg:3857') # metric; same as EPSG:900913\n",
    "\n",
    "# Create corners of rectangle to be transformed to a grid\n",
    "nw = shapely.geometry.Point((-5.0, 40.0))\n",
    "se = shapely.geometry.Point((-4.999, 40.03439880201911))\n",
    "\n",
    "stepsize = 50\n",
    "\n",
    "# Project corners to target projection\n",
    "s = pyproj.transform(p_ll, p_mt, nw.x, nw.y) # Transform NW point to 3857\n",
    "e = pyproj.transform(p_ll, p_mt, se.x, se.y) # .. same for SE\n",
    "\n",
    "# Iterate over 2D area\n",
    "gridpoints = []\n",
    "x = s[0]\n",
    "while x < e[0]:\n",
    "    y = s[1]\n",
    "    row = []\n",
    "    while y < e[1]:\n",
    "        p = shapely.geometry.Point(pyproj.transform(p_mt, p_ll, x, y))\n",
    "        row.append([p.x, p.y])\n",
    "        y += stepsize * 1.314\n",
    "    gridpoints.append(row)\n",
    "    x += stepsize"
   ]
  },
  {
   "cell_type": "code",
   "execution_count": 85,
   "metadata": {},
   "outputs": [
    {
     "data": {
      "text/plain": [
       "50.137436430313635"
      ]
     },
     "execution_count": 85,
     "metadata": {},
     "output_type": "execute_result"
    }
   ],
   "source": [
    "distance([-5.0, 40.00045211267976], [-5.0, 40.0])"
   ]
  },
  {
   "cell_type": "code",
   "execution_count": null,
   "metadata": {},
   "outputs": [],
   "source": [
    "gridpoints"
   ]
  },
  {
   "cell_type": "code",
   "execution_count": 63,
   "metadata": {},
   "outputs": [
    {
     "data": {
      "text/plain": [
       "3814.68564478778"
      ]
     },
     "execution_count": 63,
     "metadata": {},
     "output_type": "execute_result"
    }
   ],
   "source": [
    "distance((-5.0, 40.03439880201911), [-5.0, 40.0])"
   ]
  },
  {
   "cell_type": "code",
   "execution_count": null,
   "metadata": {},
   "outputs": [],
   "source": []
  }
 ],
 "metadata": {
  "kernelspec": {
   "display_name": "Python 3",
   "language": "python",
   "name": "python3"
  },
  "language_info": {
   "codemirror_mode": {
    "name": "ipython",
    "version": 3
   },
   "file_extension": ".py",
   "mimetype": "text/x-python",
   "name": "python",
   "nbconvert_exporter": "python",
   "pygments_lexer": "ipython3",
   "version": "3.6.7"
  }
 },
 "nbformat": 4,
 "nbformat_minor": 2
}
