{
 "cells": [
  {
   "cell_type": "code",
   "execution_count": 2,
   "metadata": {},
   "outputs": [
    {
     "ename": "NameError",
     "evalue": "name 'assemble_dataset' is not defined",
     "output_type": "error",
     "traceback": [
      "\u001b[0;31m---------------------------------------------------------------------------\u001b[0m",
      "\u001b[0;31mNameError\u001b[0m                                 Traceback (most recent call last)",
      "\u001b[0;32m<ipython-input-2-aa24371eb730>\u001b[0m in \u001b[0;36m<module>\u001b[0;34m()\u001b[0m\n\u001b[1;32m     12\u001b[0m \u001b[0;34m\u001b[0m\u001b[0m\n\u001b[1;32m     13\u001b[0m \u001b[0;32mif\u001b[0m \u001b[0m__name__\u001b[0m \u001b[0;34m==\u001b[0m \u001b[0;34m\"__main__\"\u001b[0m\u001b[0;34m:\u001b[0m\u001b[0;34m\u001b[0m\u001b[0;34m\u001b[0m\u001b[0m\n\u001b[0;32m---> 14\u001b[0;31m     \u001b[0massemble_dataset\u001b[0m\u001b[0;34m(\u001b[0m\u001b[0;34m'smr'\u001b[0m\u001b[0;34m)\u001b[0m\u001b[0;34m\u001b[0m\u001b[0;34m\u001b[0m\u001b[0m\n\u001b[0m",
      "\u001b[0;31mNameError\u001b[0m: name 'assemble_dataset' is not defined"
     ]
    }
   ],
   "source": [
    "import shapely.geometry\n",
    "import pyproj\n",
    "import json\n",
    "import statistics\n",
    "import numpy as np\n",
    "import pandas as pd\n",
    "\n",
    "\n",
    "from entrie import Entrie, EntrieType\n",
    "from utils import *\n",
    "\n",
    "\n",
    "if __name__ == \"__main__\":\n",
    "    assemble_dataset('smr')\n"
   ]
  },
  {
   "cell_type": "code",
   "execution_count": null,
   "metadata": {},
   "outputs": [],
   "source": [
    "def prepare_table(city_abbr):\n",
    "    flats = pd.read_csv(\n",
    "        f'./data/flats/{city_abbr}.csv').drop(columns=['adress', 'subway_station'])\n",
    "    cols = flats.columns.tolist()\n",
    "    cols[-1], cols[-2] = cols[-2], cols[-1]\n",
    "    cols = cols[-2:] + [cols[0]] + cols[1:-2]\n",
    "    flats = flats[cols]\n",
    "    flats['price_per_m'] = (\n",
    "        flats['price'] / flats['area']).map(lambda x: int(x))\n",
    "    flats = flats.drop(columns=['price'])\n",
    "    flats['distance_to_center'] = [distance(\n",
    "        x, city_dict[city_abbr]['center']) for x in zip(flats.latitude, flats.longitude)]\n",
    "    return flats"
   ]
  },
  {
   "cell_type": "code",
   "execution_count": null,
   "metadata": {},
   "outputs": [],
   "source": [
    "def add_distances(city_abbr):\n",
    "    with open(f'./data/entries/parsed/{city_abbr}.json') as file:\n",
    "        entry_data = json.load(file)"
   ]
  },
  {
   "cell_type": "code",
   "execution_count": 3,
   "metadata": {},
   "outputs": [],
   "source": [
    "def assemble_dataset(city_abbr):\n",
    "    with open(f'./data/entries/parsed/{city_abbr}.json') as file:\n",
    "        entry_data = json.load(file)\n",
    "\n",
    "    flats = prepare_table(city_abbr)\n",
    "\n",
    "    R = 6371\n",
    "    feature_list = []\n",
    "    i = 0\n",
    "    for row in flats.iterrows():\n",
    "        i += 1\n",
    "        row = row[1]\n",
    "        row_dict = {\n",
    "            'price_per_m': int(row['price_per_m']),\n",
    "            'rooms': int(row['rooms']),\n",
    "            'area': row['area'],\n",
    "            'floor': int(row['floor']),\n",
    "            'floors_total': int(row['floors_total']),\n",
    "            'distance_to_subway': int(row['distance to subway']),\n",
    "            'distance_to_center': int(row['distance_to_center'])\n",
    "        }\n",
    "        lat, lon = row['latitude'], row['longitude']\n",
    "        for entry_type, entries in zip(entry_data.keys(), entry_data.values()):\n",
    "            c = np.array([entry[0]\n",
    "                          for entry in entries if type(entry[0][0]) is float]).T\n",
    "            d = c.copy()\n",
    "            d[0] -= lat\n",
    "            d[0] *= (np.pi / 180)\n",
    "            d[1] -= lon\n",
    "            d[1] *= (np.pi / 180)\n",
    "            a = np.sin(d[0] / 2) * np.sin(d[0] / 2)\n",
    "            c = 2 * arctan2(np.sqrt(a), np.sqrt(1 - a)) + np.cos(lat * np.pi / 180) * \\\n",
    "                np.cos(c[0] * np.pi / 180) * \\\n",
    "                np.sin(d[1] / 2) * np.sin(d[1] / 2)\n",
    "            distances = R * c * 1000\n",
    "            if entry_type == 'shop' and np.nonzero(distances <= 1000)[0].shape[0] == 0:\n",
    "                break\n",
    "            for r in [500, 1000]:\n",
    "                indices = np.nonzero(distances <= r)[0]\n",
    "                if entry_type in ['vacancy']:\n",
    "                    salaries = [entries[i][1] for i in indices] or [0]\n",
    "                    median = int(statistics.median(salaries))\n",
    "                    mean = int(statistics.mean(salaries))\n",
    "                    row_dict[f'mean_salaries_{r}'] = mean\n",
    "                    row_dict[f'median_salaries_{r}'] = median\n",
    "                row_dict[f'{entry_type}_{str(r)}'] = indices.shape[0]\n",
    "        else:\n",
    "            feature_list.append(row_dict)\n",
    "        if i % 1000 == 0:\n",
    "            print(i)\n",
    "\n",
    "    dataset = pd.DataFrame(feature_list)\n",
    "    dataset.to_csv(f'./datasets/{city_abbr}.csv', index=False)\n"
   ]
  },
  {
   "cell_type": "code",
   "execution_count": 8,
   "metadata": {},
   "outputs": [
    {
     "ename": "SyntaxError",
     "evalue": "invalid syntax (<ipython-input-8-dfb47dd837ff>, line 24)",
     "output_type": "error",
     "traceback": [
      "\u001b[0;36m  File \u001b[0;32m\"<ipython-input-8-dfb47dd837ff>\"\u001b[0;36m, line \u001b[0;32m24\u001b[0m\n\u001b[0;31m    c = np.array([entry[0] distances for entry in entries if type(entry[0][0]) is float]).T\u001b[0m\n\u001b[0m                                   ^\u001b[0m\n\u001b[0;31mSyntaxError\u001b[0m\u001b[0;31m:\u001b[0m invalid syntax\n"
     ]
    }
   ],
   "source": [
    "city_abbr = 'smr'\n",
    "with open(f'./data/entries/parsed/{city_abbr}.json') as file:\n",
    "    entry_data = json.load(file)\n",
    "\n",
    "flats = prepare_table(city_abbr)\n",
    "\n",
    "R = 6371\n",
    "feature_list = []\n",
    "i = 0\n",
    "for row in flats[:10].iterrows():\n",
    "    i += 1\n",
    "    row = row[1]\n",
    "    row_dict = {\n",
    "        'price_per_m': int(row['price_per_m']),\n",
    "        'rooms': int(row['rooms']),\n",
    "        'area': row['area'],\n",
    "        'floor': int(row['floor']),\n",
    "        'floors_total': int(row['floors_total']),\n",
    "        'distance_to_subway': int(row['distance to subway']),\n",
    "        'distance_to_center': int(row['distance_to_center'])\n",
    "    }\n",
    "    lat, lon = row['latitude'], row['longitude']\n",
    "    for entry_type, entries in zip(entry_data.keys(), entry_data.values()):\n",
    "        c = np.array([entry[0]distances\n",
    "                      for entry in entries if type(entry[0][0]) is float]).T\n",
    "        d = c.copy()\n",
    "        d[0] -= lat\n",
    "        d[0] *= (np.pi / 180)\n",
    "        d[1] -= lon\n",
    "        d[1] *= (np.pi / 180)\n",
    "        a = np.sin(d[0] / 2) * np.sin(d[0] / 2)\n",
    "        c = 2 * arctan2(np.sqrt(a), np.sqrt(1 - a)) + np.cos(lat * np.pi / 180) * \\\n",
    "            np.cos(c[0] * np.pi / 180) * \\\n",
    "            np.sin(d[1] / 2) * np.sin(d[1] / 2)\n",
    "        distances = R * c * 1000\n",
    "        if entry_type == 'shop' and np.nonzero(distances <= 1000)[0].shape[0] == 0:\n",
    "            break\n",
    "        for r in [500, 1000]:\n",
    "            indices = np.nonzero(distances <= r)[0]\n",
    "            if entry_type in ['vacancy']:\n",
    "                salaries = [entries[i][1] for i in indices] or [0]\n",
    "                median = int(statistics.median(salaries))\n",
    "                mean = int(statistics.mean(salaries))\n",
    "                row_dict[f'mean_salaries_{r}'] = mean\n",
    "                row_dict[f'median_salaries_{r}'] = median\n",
    "            if entry_type in ['school', 'bus_stop']:\n",
    "                print(min(distances))\n",
    "            row_dict[f'{entry_type}_{str(r)}'] = indices.shape[0]\n",
    "    else:\n",
    "        feature_list.append(row_dict)\n",
    "    break\n",
    "    if i % 1000 == 0:\n",
    "        print(i)"
   ]
  },
  {
   "cell_type": "code",
   "execution_count": 4,
   "metadata": {},
   "outputs": [],
   "source": [
    "a = np.arange(5)"
   ]
  },
  {
   "cell_type": "code",
   "execution_count": 5,
   "metadata": {},
   "outputs": [
    {
     "data": {
      "text/plain": [
       "0"
      ]
     },
     "execution_count": 5,
     "metadata": {},
     "output_type": "execute_result"
    }
   ],
   "source": [
    "min(a)"
   ]
  },
  {
   "cell_type": "code",
   "execution_count": null,
   "metadata": {},
   "outputs": [],
   "source": []
  }
 ],
 "metadata": {
  "kernelspec": {
   "display_name": "Python 3",
   "language": "python",
   "name": "python3"
  },
  "language_info": {
   "codemirror_mode": {
    "name": "ipython",
    "version": 3
   },
   "file_extension": ".py",
   "mimetype": "text/x-python",
   "name": "python",
   "nbconvert_exporter": "python",
   "pygments_lexer": "ipython3",
   "version": "3.6.7"
  }
 },
 "nbformat": 4,
 "nbformat_minor": 2
}
