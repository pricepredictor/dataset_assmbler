{
 "cells": [
  {
   "cell_type": "code",
   "execution_count": 19,
   "metadata": {},
   "outputs": [],
   "source": [
    "import shapely.geometry\n",
    "import pyproj\n",
    "import json\n",
    "import statistics\n",
    "import numpy as np\n",
    "import pandas as pd\n",
    "\n",
    "\n",
    "#from grid import Grid\n",
    "#from cell import Cell\n",
    "from entrie import Entrie, EntrieType \n",
    "from utils import *"
   ]
  },
  {
   "cell_type": "code",
   "execution_count": 20,
   "metadata": {},
   "outputs": [
    {
     "name": "stdout",
     "output_type": "stream",
     "text": [
      "Populating the interactive namespace from numpy and matplotlib\n"
     ]
    },
    {
     "name": "stderr",
     "output_type": "stream",
     "text": [
      "/home/disa/.local/lib/python3.6/site-packages/IPython/core/magics/pylab.py:160: UserWarning: pylab import has clobbered these variables: ['sin', 'degrees', 'pi', 'cos', 'radians']\n",
      "`%matplotlib` prevents importing * from pylab and numpy\n",
      "  \"\\n`%matplotlib` prevents importing * from pylab and numpy\"\n"
     ]
    }
   ],
   "source": [
    "%pylab inline"
   ]
  },
  {
   "cell_type": "code",
   "execution_count": 21,
   "metadata": {},
   "outputs": [],
   "source": [
    "import pandas as pd"
   ]
  },
  {
   "cell_type": "code",
   "execution_count": 34,
   "metadata": {},
   "outputs": [],
   "source": [
    "def save_houses(city_abbr):\n",
    "    reverse_tagged = pd.read_csv(f'./data/reversed/{city_abbr}-merged.csv')\n",
    "\n",
    "    houses_dict = {}\n",
    "    for i, row in reverse_tagged.iterrows():\n",
    "        house = {'floors': 0, 'price_per_m': 0, 'year': 0, 'latitude': 0, 'longitude': 0}\n",
    "        house['latitude'] = row.latitude\n",
    "        house['longitude'] = row.longitude\n",
    "        house['year'] = int(float(row.year)) if row.year != 'nan' and row.year != '1.0' and row.year != '0' and row.year != 'None' and not np.isnan(float(row.year)) else 0\n",
    "        house['price_per_m'] = int(float(row.price) / float(row.area) // 1000)\n",
    "        house['floors'] = int(row.floor.split('/')[1])\n",
    "        if row.adress in houses_dict:\n",
    "            houses_dict[row.adress].append(house)\n",
    "        else:\n",
    "            houses_dict[row.adress] = [house]\n",
    "\n",
    "    floors = []\n",
    "    price_per_m = []\n",
    "    year = []\n",
    "    latitude = []\n",
    "    longitude = []\n",
    "    for addr, flats in zip(houses_dict.keys(), houses_dict.values()):\n",
    "        ppm = [flat['price_per_m'] for flat in flats]\n",
    "        price_per_m.append(round(sum(ppm) / len(ppm), 1))\n",
    "        latitude.append(flats[0]['latitude'])\n",
    "        longitude.append(flats[0]['longitude'])\n",
    "\n",
    "        y = None\n",
    "        f = None\n",
    "        for flat in flats:\n",
    "            if flat['year']:\n",
    "                y = int(flat['year'])\n",
    "            if flat['floors']:\n",
    "                f = (flat['floors'])\n",
    "        year.append(y)\n",
    "        floors.append(f)\n",
    "\n",
    "    houses = pd.DataFrame()\n",
    "    houses['floors'] = floors\n",
    "    houses['price_per_m'] = price_per_m\n",
    "    houses['year'] = year\n",
    "    houses['latitude'] = latitude\n",
    "    houses['longitude'] = longitude\n",
    "        \n",
    "    with_age = []\n",
    "    for house in [h for i, h in houses.iterrows() if not np.isnan(h.year)]:\n",
    "        with_age.append([[round(house.latitude, 6), round(house.longitude, 6)], 2019 - int(house.year)])\n",
    "\n",
    "    with_floors = []\n",
    "    for house in [h for i, h in houses.iterrows() if not np.isnan(h.floors)]:\n",
    "        with_floors.append([[round(house.latitude, 6), round(house.longitude, 6)], 2019 - int(house.floors)])\n",
    "\n",
    "    with_price= []\n",
    "    for house in [h for i, h in houses.iterrows()]:\n",
    "        with_price.append([[round(house.latitude, 6), round(house.longitude, 6)], (house.price_per_m)])\n",
    "\n",
    "    lats, lons, ppms = [], [], []\n",
    "    for house in [h for i, h in houses.iterrows()]:\n",
    "        lats.append(round(house.latitude, 7))\n",
    "        lons.append(round(house.longitude, 7))\n",
    "        ppms.append(house.price_per_m)\n",
    "\n",
    "    hs = pd.DataFrame()\n",
    "    hs['price_per_m'] = ppms\n",
    "    hs['floors'] = fs\n",
    "    hs['latitude'] = lats\n",
    "    hs['longitude'] = lons\n",
    "\n",
    "    hs.to_csv(f'./data/houses/{city_abbr}-new.csv', index=False)\n",
    "\n",
    "    with open(f'./data/entries/parsed/{city_abbr}.json') as file:\n",
    "        entries = json.load(file)\n",
    "\n",
    "    entries['with_age'] = with_age\n",
    "    entries['with_floors'] = with_floors\n",
    "    entries['with_price'] = with_price\n",
    "\n",
    "    with open(f'./data/entries/with_houses/{city_abbr}-new.json', 'w') as outfile:  \n",
    "        json.dump(entries, outfile)\n",
    "    \n",
    "    return True\n"
   ]
  },
  {
   "cell_type": "code",
   "execution_count": 35,
   "metadata": {},
   "outputs": [],
   "source": [
    "houses = save_houses('smr')"
   ]
  },
  {
   "cell_type": "code",
   "execution_count": 5,
   "metadata": {},
   "outputs": [
    {
     "data": {
      "text/plain": [
       "'1'"
      ]
     },
     "execution_count": 5,
     "metadata": {},
     "output_type": "execute_result"
    }
   ],
   "source": [
    "' 1 '.strip()"
   ]
  },
  {
   "cell_type": "code",
   "execution_count": null,
   "metadata": {},
   "outputs": [],
   "source": []
  },
  {
   "cell_type": "code",
   "execution_count": null,
   "metadata": {},
   "outputs": [],
   "source": []
  },
  {
   "cell_type": "code",
   "execution_count": 96,
   "metadata": {},
   "outputs": [],
   "source": []
  },
  {
   "cell_type": "code",
   "execution_count": 182,
   "metadata": {},
   "outputs": [],
   "source": []
  },
  {
   "cell_type": "code",
   "execution_count": null,
   "metadata": {},
   "outputs": [],
   "source": []
  },
  {
   "cell_type": "code",
   "execution_count": 183,
   "metadata": {},
   "outputs": [],
   "source": []
  },
  {
   "cell_type": "code",
   "execution_count": null,
   "metadata": {},
   "outputs": [],
   "source": []
  },
  {
   "cell_type": "code",
   "execution_count": 184,
   "metadata": {},
   "outputs": [],
   "source": []
  },
  {
   "cell_type": "code",
   "execution_count": null,
   "metadata": {},
   "outputs": [],
   "source": []
  },
  {
   "cell_type": "code",
   "execution_count": 171,
   "metadata": {},
   "outputs": [],
   "source": []
  },
  {
   "cell_type": "code",
   "execution_count": 173,
   "metadata": {},
   "outputs": [],
   "source": []
  },
  {
   "cell_type": "code",
   "execution_count": null,
   "metadata": {},
   "outputs": [],
   "source": []
  },
  {
   "cell_type": "code",
   "execution_count": null,
   "metadata": {},
   "outputs": [],
   "source": []
  },
  {
   "cell_type": "code",
   "execution_count": null,
   "metadata": {},
   "outputs": [],
   "source": []
  }
 ],
 "metadata": {
  "kernelspec": {
   "display_name": "Python 3",
   "language": "python",
   "name": "python3"
  },
  "language_info": {
   "codemirror_mode": {
    "name": "ipython",
    "version": 3
   },
   "file_extension": ".py",
   "mimetype": "text/x-python",
   "name": "python",
   "nbconvert_exporter": "python",
   "pygments_lexer": "ipython3",
   "version": "3.6.7"
  }
 },
 "nbformat": 4,
 "nbformat_minor": 2
}
