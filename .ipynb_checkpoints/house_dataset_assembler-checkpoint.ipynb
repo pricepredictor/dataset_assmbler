{
 "cells": [
  {
   "cell_type": "code",
   "execution_count": 1,
   "metadata": {},
   "outputs": [],
   "source": [
    "import shapely.geometry\n",
    "import pyproj\n",
    "import json\n",
    "import statistics\n",
    "import numpy as np\n",
    "import pandas as pd\n",
    "\n",
    "\n",
    "from entrie import Entrie, EntrieType\n",
    "from utils import *\n",
    "\n",
    "city_dict = {\n",
    "    'spb': {\n",
    "        'center': (59.9343, 30.3351)\n",
    "    },\n",
    "    'smr': {\n",
    "        'center': (53.2415, 50.2212)        \n",
    "    }\n",
    "}"
   ]
  },
  {
   "cell_type": "code",
   "execution_count": null,
   "metadata": {},
   "outputs": [],
   "source": []
  },
  {
   "cell_type": "code",
   "execution_count": 2,
   "metadata": {},
   "outputs": [],
   "source": [
    "def prepare_table(city_abbr):\n",
    "    houses = pd.read_csv(f'./data/houses/{city_abbr}-new.csv')\n",
    "    distances = []\n",
    "    for coords in zip(houses.latitude, houses.longitude):\n",
    "        distances.append(distance(coords, city_dict[city_abbr]['center']))\n",
    "    houses['distance_to_center'] = distances    \n",
    "    return houses"
   ]
  },
  {
   "cell_type": "code",
   "execution_count": null,
   "metadata": {},
   "outputs": [],
   "source": []
  },
  {
   "cell_type": "code",
   "execution_count": 20,
   "metadata": {},
   "outputs": [],
   "source": [
    "def assemble_dataset(city_abbr):\n",
    "    with open(f'./data/entries/with_houses/{city_abbr}-new.json') as file:\n",
    "        entry_data = json.load(file)\n",
    "\n",
    "    flats = prepare_table(city_abbr)\n",
    "\n",
    "    p = 0.017453292519943295\n",
    "    feature_list = []\n",
    "    i = 0\n",
    "    for index, row in flats.iterrows():\n",
    "        i += 1\n",
    "        row_dict = {\n",
    "            'price_per_m': int(row['price_per_m']),\n",
    "            'floors': (row['floors']),\n",
    "            'latitude': (row['latitude']),\n",
    "            'longitude': (row['longitude']),\n",
    "            'distance_to_center': int(row['distance_to_center']),\n",
    "        }\n",
    "        lat1, lon1 = row['latitude'], row['longitude']\n",
    "        for entry_type, entries in zip(entry_data.keys(), entry_data.values()):\n",
    "            c = np.array([entry[0]\n",
    "                        for entry in entries if type(entry[0][0]) is float]).T\n",
    "            lat2 = c[0]\n",
    "            lon2 = c[1]\n",
    "            a = 0.5 - np.cos((lat2 - lat1) * p)/2 + np.cos(lat1 * p) * np.cos(lat2 * p) * (1 - np.cos((lon2 - lon1) * p)) / 2\n",
    "            distances = (12742000 * np.arcsin(np.sqrt(a))).astype(int)\n",
    "\n",
    "            if entry_type == 'shop' and np.nonzero(distances <= 1000)[0].shape[0] == 0:\n",
    "                break\n",
    "                \n",
    "            if entry_type in ['school', 'bus_stop', 'subway_station']:\n",
    "                row_dict[f'distance_to_{entry_type}'] = min(distances)        \n",
    "            for r in [500, 1000]:\n",
    "                indices = np.nonzero(distances <= r)[0]\n",
    "                if entry_type in ['vacancy']:\n",
    "                    salaries = [entries[i][1] for i in indices] or [0]\n",
    "                    median = int(statistics.median(salaries))\n",
    "                    mean = int(statistics.mean(salaries))\n",
    "                    row_dict[f'mean_salaries_{r}'] = mean\n",
    "                    row_dict[f'median_salaries_{r}'] = median\n",
    "                row_dict[f'{entry_type}_{str(r)}'] = indices.shape[0]\n",
    "                \n",
    "            for r in [200, 500]:\n",
    "                indices = np.nonzero(distances <= r)[0]\n",
    "                if entry_type in ['with_floors', 'with_age']:\n",
    "                    salaries = [entries[i][1] for i in indices] or [0]\n",
    "                    median = int(statistics.median(salaries))\n",
    "                    mean = int(statistics.mean(salaries))\n",
    "                    row_dict[f'mean_{entry_type}_{r}'] = mean\n",
    "                    row_dict[f'median_{entry_type}_{r}'] = median\n",
    "            \n",
    "                    \n",
    "        else:\n",
    "            feature_list.append(row_dict)\n",
    "            \n",
    "        if i % 1000 == 0:\n",
    "            print(i)\n",
    "\n",
    "    dataset = pd.DataFrame(feature_list)\n",
    "    dataset.to_csv(f'./datasets/house/{city_abbr}.csv', index=False)\n",
    "    return dataset \n"
   ]
  },
  {
   "cell_type": "code",
   "execution_count": 21,
   "metadata": {},
   "outputs": [
    {
     "name": "stdout",
     "output_type": "stream",
     "text": [
      "1000\n",
      "2000\n",
      "3000\n",
      "4000\n",
      "5000\n"
     ]
    }
   ],
   "source": [
    "smr = assemble_dataset('smr')"
   ]
  },
  {
   "cell_type": "code",
   "execution_count": 22,
   "metadata": {},
   "outputs": [],
   "source": [
    "smr.to_csv(f'./datasets/house/smr-new.csv', index=False)"
   ]
  },
  {
   "cell_type": "code",
   "execution_count": 16,
   "metadata": {},
   "outputs": [
    {
     "ename": "TypeError",
     "evalue": "'NoneType' object is not subscriptable",
     "output_type": "error",
     "traceback": [
      "\u001b[0;31m---------------------------------------------------------------------------\u001b[0m",
      "\u001b[0;31mTypeError\u001b[0m                                 Traceback (most recent call last)",
      "\u001b[0;32m<ipython-input-16-30b7fec6f4b2>\u001b[0m in \u001b[0;36m<module>\u001b[0;34m()\u001b[0m\n\u001b[0;32m----> 1\u001b[0;31m \u001b[0msmr\u001b[0m\u001b[0;34m[\u001b[0m\u001b[0;34m'mean_with_floors_200'\u001b[0m\u001b[0;34m]\u001b[0m\u001b[0;34m[\u001b[0m\u001b[0;34m:\u001b[0m\u001b[0;36m10\u001b[0m\u001b[0;34m]\u001b[0m\u001b[0;34m\u001b[0m\u001b[0;34m\u001b[0m\u001b[0m\n\u001b[0m",
      "\u001b[0;31mTypeError\u001b[0m: 'NoneType' object is not subscriptable"
     ]
    }
   ],
   "source": [
    "smr['mean_with_floors_200'][:10]"
   ]
  },
  {
   "cell_type": "code",
   "execution_count": null,
   "metadata": {},
   "outputs": [],
   "source": []
  }
 ],
 "metadata": {
  "kernelspec": {
   "display_name": "Python 3",
   "language": "python",
   "name": "python3"
  },
  "language_info": {
   "codemirror_mode": {
    "name": "ipython",
    "version": 3
   },
   "file_extension": ".py",
   "mimetype": "text/x-python",
   "name": "python",
   "nbconvert_exporter": "python",
   "pygments_lexer": "ipython3",
   "version": "3.6.7"
  }
 },
 "nbformat": 4,
 "nbformat_minor": 2
}
