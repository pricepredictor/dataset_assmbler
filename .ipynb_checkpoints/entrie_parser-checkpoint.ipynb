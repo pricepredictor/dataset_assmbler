{
 "cells": [
  {
   "cell_type": "code",
   "execution_count": 3,
   "metadata": {},
   "outputs": [],
   "source": [
    "import json\n",
    "from entrie import EntrieType, Entrie"
   ]
  },
  {
   "cell_type": "code",
   "execution_count": 4,
   "metadata": {},
   "outputs": [],
   "source": [
    "with open('./data/entries/raw/smr.json', 'r') as f:\n",
    "    raw = json.load(f)"
   ]
  },
  {
   "cell_type": "code",
   "execution_count": null,
   "metadata": {},
   "outputs": [],
   "source": []
  },
  {
   "cell_type": "code",
   "execution_count": 2,
   "metadata": {},
   "outputs": [],
   "source": [
    "parsed_entries = {\n",
    "    'vacancy': [],\n",
    "    'apartement': [],\n",
    "    'shop': [],\n",
    "    'bus_stop': [],\n",
    "    'tram_stop': [],\n",
    "    'subway_station': [],\n",
    "    'cafe': [],\n",
    "    'office': [],\n",
    "    'point_of_interest': [],\n",
    "    'school': [],\n",
    "    'kindergarden': [],\n",
    "    'hospital': [],\n",
    "    'bank': [],\n",
    "    'univercity': [],\n",
    "    'cinema': [],\n",
    "    'nightlife': [], \n",
    "    'government': [],\n",
    "    'leisure': [],\n",
    "    'hotel': []\n",
    "}"
   ]
  },
  {
   "cell_type": "code",
   "execution_count": 1,
   "metadata": {},
   "outputs": [],
   "source": [
    "cafe_keys = [, ]\n",
    "nightlife_keys = []\n",
    "government_keys = []\n",
    "point_of_interest_keys = ['place_of_worship', 'fountain', 'library', 'theatre']\n",
    "hospital_keys = ['clinic', 'hospital']\n",
    "leisure_keys = ['sports_centre', 'playground']"
   ]
  },
  {
   "cell_type": "code",
   "execution_count": 2,
   "metadata": {},
   "outputs": [
    {
     "data": {
      "text/plain": [
       "'EntrieType.VACANCY'"
      ]
     },
     "execution_count": 2,
     "metadata": {},
     "output_type": "execute_result"
    }
   ],
   "source": [
    "keywords = {\n",
    "    'shop': ['shop'],\n",
    "    'bus_stop': ['public_transport'],\n",
    "    'tram_stop': ['tram_stop'],\n",
    "    'subway_station': ['subway_station'],\n",
    "    'cafe': ['fast_food', 'cafe', 'restaurant'],\n",
    "    'office': ['office'],\n",
    "    'point_of_interest': ['place_of_worship', 'fountain', 'library', 'theatre', 'monument', 'memorial', 'artwork'],\n",
    "    'school': ['school'],\n",
    "    'kindergarden': ['kindergarden'],\n",
    "    'hospital': ['clinic', 'hospital'],\n",
    "    'bank': ['bank'],\n",
    "    'univercity': ['university'],\n",
    "    'cinema': ['cinema'],\n",
    "    'nightlife': ['nightclub', 'stripclub', 'pub', 'bar'], \n",
    "    'government': ['courthouse', 'register_office', 'townhall', 'public_building', 'police'],\n",
    "    'leisure': ['sport_center', 'fitness_centre'],\n",
    "    'hotel': ['motel', 'hotel', 'hostel']\n",
    "}"
   ]
  },
  {
   "cell_type": "code",
   "execution_count": 7,
   "metadata": {},
   "outputs": [],
   "source": [
    "a = EntrieType.BANK"
   ]
  },
  {
   "cell_type": "code",
   "execution_count": 8,
   "metadata": {},
   "outputs": [
    {
     "data": {
      "text/plain": [
       "13"
      ]
     },
     "execution_count": 8,
     "metadata": {},
     "output_type": "execute_result"
    }
   ],
   "source": [
    "a.value"
   ]
  },
  {
   "cell_type": "code",
   "execution_count": null,
   "metadata": {},
   "outputs": [],
   "source": []
  }
 ],
 "metadata": {
  "kernelspec": {
   "display_name": "Python 3",
   "language": "python",
   "name": "python3"
  },
  "language_info": {
   "codemirror_mode": {
    "name": "ipython",
    "version": 3
   },
   "file_extension": ".py",
   "mimetype": "text/x-python",
   "name": "python",
   "nbconvert_exporter": "python",
   "pygments_lexer": "ipython3",
   "version": "3.6.7"
  }
 },
 "nbformat": 4,
 "nbformat_minor": 2
}
