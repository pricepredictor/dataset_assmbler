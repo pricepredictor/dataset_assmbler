{
 "cells": [
  {
   "cell_type": "code",
   "execution_count": 1,
   "metadata": {},
   "outputs": [],
   "source": [
    "import shapely.geometry\n",
    "import pyproj\n",
    "import json\n",
    "import statistics\n",
    "import numpy as np\n",
    "import pandas as pd\n",
    "\n",
    "\n",
    "#from grid import Grid\n",
    "#from cell import Cell\n",
    "from entrie import Entrie, EntrieType \n",
    "from utils import *"
   ]
  },
  {
   "cell_type": "code",
   "execution_count": 2,
   "metadata": {},
   "outputs": [
    {
     "name": "stdout",
     "output_type": "stream",
     "text": [
      "Populating the interactive namespace from numpy and matplotlib\n"
     ]
    },
    {
     "name": "stderr",
     "output_type": "stream",
     "text": [
      "/home/disa/.local/lib/python3.6/site-packages/IPython/core/magics/pylab.py:160: UserWarning: pylab import has clobbered these variables: ['sin', 'radians', 'degrees', 'cos', 'pi']\n",
      "`%matplotlib` prevents importing * from pylab and numpy\n",
      "  \"\\n`%matplotlib` prevents importing * from pylab and numpy\"\n"
     ]
    }
   ],
   "source": [
    "%pylab inline"
   ]
  },
  {
   "cell_type": "code",
   "execution_count": 3,
   "metadata": {},
   "outputs": [],
   "source": [
    "import pandas as pd"
   ]
  },
  {
   "cell_type": "code",
   "execution_count": 94,
   "metadata": {},
   "outputs": [],
   "source": [
    "def save_houses(city_abbr):\n",
    "    reverse_tagged = pd.read_csv(f'./data/reversed/{city_abbr}.csv')\n",
    "\n",
    "    houses_dict = {}\n",
    "    for i, row in reverse_tagged.iterrows():\n",
    "        house = {'floors': 0, 'price_per_m': 0, 'year': 0, 'latitude': 0, 'longitude': 0}\n",
    "        house['latitude'] = row.latitude\n",
    "        house['longitude'] = row.longitude\n",
    "        house['year'] = int(float(row.year)) if row.year != 'nan' and row.year != '1.0' and row.year != '0' and row.year != 'None' and not np.isnan(float(row.year)) else 0\n",
    "        house['price_per_m'] = int(float(row.price) / float(row.area) // 1000)\n",
    "        house['floors'] = int(row.floor.split('/')[0])\n",
    "        if row.adress in houses_dict:\n",
    "            houses_dict[row.adress].append(house)\n",
    "        else:\n",
    "            houses_dict[row.adress] = [house]\n",
    "\n",
    "    floors = []\n",
    "    price_per_m = []\n",
    "    year = []\n",
    "    latitude = []\n",
    "    longitude = []\n",
    "    for addr, flats in zip(houses_dict.keys(), houses_dict.values()):\n",
    "        ppm = [flat['price_per_m'] for flat in flats]\n",
    "        price_per_m.append(round(sum(ppm) / len(ppm), 1))\n",
    "        latitude.append(flats[0]['latitude'])\n",
    "        longitude.append(flats[0]['longitude'])\n",
    "\n",
    "        y = None\n",
    "        f = None\n",
    "        for flat in flats:\n",
    "            if flat['year']:\n",
    "                y = int(flat['year'])\n",
    "            if flat['floors']:\n",
    "                f = (flat['floors'])\n",
    "        year.append(y)\n",
    "        floors.append(f)\n",
    "\n",
    "    houses = pd.DataFrame()\n",
    "    houses['floors'] = floors\n",
    "    houses['price_per_m'] = price_per_m\n",
    "    houses['year'] = year\n",
    "    houses['latitude'] = latitude\n",
    "    houses['longitude'] = longitude\n",
    "        \n",
    "    with_age = []\n",
    "    for house in [h for i, h in houses.iterrows() if not np.isnan(h.year)]:\n",
    "        with_age.append([[round(house.latitude, 6), round(house.longitude, 6)], 2019 - int(house.year)])\n",
    "\n",
    "    with_floors = []\n",
    "    for house in [h for i, h in houses.iterrows() if not np.isnan(h.floors)]:\n",
    "        with_floors.append([[round(house.latitude, 6), round(house.longitude, 6)], 2019 - int(house.floors)])\n",
    "\n",
    "    with_price= []\n",
    "    for house in [h for i, h in houses.iterrows()]:\n",
    "        with_price.append([[round(house.latitude, 6), round(house.longitude, 6)], (house.price_per_m)])\n",
    "\n",
    "    lats, lons, ppms = [], [], []\n",
    "    for house in [h for i, h in houses.iterrows()]:\n",
    "        lats.append(round(house.latitude, 6))\n",
    "        lons.append(round(house.longitude, 6))\n",
    "        ppms.append(house.price_per_m)\n",
    "\n",
    "    hs = pd.DataFrame()\n",
    "    hs['price_per_m'] = ppms\n",
    "    hs['latitude'] = lats\n",
    "    hs['longitude'] = lons\n",
    "\n",
    "    hs.to_csv(f'./data/houses/{city_abbr}.csv', index=False)\n",
    "\n",
    "    with open(f'./data/entries/parsed/{city_abbr}.json') as file:\n",
    "        entries = json.load(file)\n",
    "\n",
    "    entries['with_age'] = with_age\n",
    "    entries['with_floors'] = with_floors\n",
    "    entries['with_price'] = with_price\n",
    "\n",
    "    with open(f'./data/entries/with_houses/{city_abbr}.json', 'w') as outfile:  \n",
    "        json.dump(entries, outfile)\n",
    "    \n",
    "    return True\n"
   ]
  },
  {
   "cell_type": "code",
   "execution_count": 95,
   "metadata": {},
   "outputs": [
    {
     "data": {
      "text/html": [
       "<div>\n",
       "<style scoped>\n",
       "    .dataframe tbody tr th:only-of-type {\n",
       "        vertical-align: middle;\n",
       "    }\n",
       "\n",
       "    .dataframe tbody tr th {\n",
       "        vertical-align: top;\n",
       "    }\n",
       "\n",
       "    .dataframe thead th {\n",
       "        text-align: right;\n",
       "    }\n",
       "</style>\n",
       "<table border=\"1\" class=\"dataframe\">\n",
       "  <thead>\n",
       "    <tr style=\"text-align: right;\">\n",
       "      <th></th>\n",
       "      <th>adress</th>\n",
       "      <th>area</th>\n",
       "      <th>floor</th>\n",
       "      <th>price</th>\n",
       "      <th>rooms</th>\n",
       "      <th>floors_total</th>\n",
       "      <th>year</th>\n",
       "      <th>latitude</th>\n",
       "      <th>longitude</th>\n",
       "    </tr>\n",
       "  </thead>\n",
       "  <tbody>\n",
       "    <tr>\n",
       "      <th>0</th>\n",
       "      <td>Россия, Самара, Ташкентская улица, 141</td>\n",
       "      <td>31.0</td>\n",
       "      <td>7/9</td>\n",
       "      <td>1550000</td>\n",
       "      <td>1</td>\n",
       "      <td>9.0</td>\n",
       "      <td>1979.0</td>\n",
       "      <td>53.251940</td>\n",
       "      <td>50.249251</td>\n",
       "    </tr>\n",
       "    <tr>\n",
       "      <th>1</th>\n",
       "      <td>Россия, Самарская область, Волжский район, жил...</td>\n",
       "      <td>38.5</td>\n",
       "      <td>8/9</td>\n",
       "      <td>2200000</td>\n",
       "      <td>1</td>\n",
       "      <td>10.0</td>\n",
       "      <td>2017.0</td>\n",
       "      <td>53.111130</td>\n",
       "      <td>50.144570</td>\n",
       "    </tr>\n",
       "    <tr>\n",
       "      <th>2</th>\n",
       "      <td>Россия, Самара, Пролетарская улица, 167</td>\n",
       "      <td>30.7</td>\n",
       "      <td>2/5</td>\n",
       "      <td>2100000</td>\n",
       "      <td>1</td>\n",
       "      <td>5</td>\n",
       "      <td>1964</td>\n",
       "      <td>53.201186</td>\n",
       "      <td>50.153697</td>\n",
       "    </tr>\n",
       "    <tr>\n",
       "      <th>3</th>\n",
       "      <td>Россия, Самара, проспект Кирова, 435</td>\n",
       "      <td>93.0</td>\n",
       "      <td>7/9</td>\n",
       "      <td>7650000</td>\n",
       "      <td>3</td>\n",
       "      <td>10.0</td>\n",
       "      <td>2011.0</td>\n",
       "      <td>53.261911</td>\n",
       "      <td>50.211665</td>\n",
       "    </tr>\n",
       "    <tr>\n",
       "      <th>4</th>\n",
       "      <td>Россия, Самара, улица Аминева, 11</td>\n",
       "      <td>31.0</td>\n",
       "      <td>7/9</td>\n",
       "      <td>2300000</td>\n",
       "      <td>1</td>\n",
       "      <td>9.0</td>\n",
       "      <td>1986.0</td>\n",
       "      <td>53.248099</td>\n",
       "      <td>50.211090</td>\n",
       "    </tr>\n",
       "  </tbody>\n",
       "</table>\n",
       "</div>"
      ],
      "text/plain": [
       "                                              adress  area floor    price  \\\n",
       "0             Россия, Самара, Ташкентская улица, 141  31.0   7/9  1550000   \n",
       "1  Россия, Самарская область, Волжский район, жил...  38.5   8/9  2200000   \n",
       "2            Россия, Самара, Пролетарская улица, 167  30.7   2/5  2100000   \n",
       "3               Россия, Самара, проспект Кирова, 435  93.0   7/9  7650000   \n",
       "4                  Россия, Самара, улица Аминева, 11  31.0   7/9  2300000   \n",
       "\n",
       "   rooms floors_total    year   latitude  longitude  \n",
       "0      1          9.0  1979.0  53.251940  50.249251  \n",
       "1      1         10.0  2017.0  53.111130  50.144570  \n",
       "2      1            5    1964  53.201186  50.153697  \n",
       "3      3         10.0  2011.0  53.261911  50.211665  \n",
       "4      1          9.0  1986.0  53.248099  50.211090  "
      ]
     },
     "execution_count": 95,
     "metadata": {},
     "output_type": "execute_result"
    }
   ],
   "source": [
    "houses = save_houses('smr')"
   ]
  },
  {
   "cell_type": "code",
   "execution_count": null,
   "metadata": {},
   "outputs": [],
   "source": []
  },
  {
   "cell_type": "code",
   "execution_count": null,
   "metadata": {},
   "outputs": [],
   "source": []
  },
  {
   "cell_type": "code",
   "execution_count": null,
   "metadata": {},
   "outputs": [],
   "source": []
  },
  {
   "cell_type": "code",
   "execution_count": 96,
   "metadata": {},
   "outputs": [],
   "source": []
  },
  {
   "cell_type": "code",
   "execution_count": 182,
   "metadata": {},
   "outputs": [],
   "source": []
  },
  {
   "cell_type": "code",
   "execution_count": null,
   "metadata": {},
   "outputs": [],
   "source": []
  },
  {
   "cell_type": "code",
   "execution_count": 183,
   "metadata": {},
   "outputs": [],
   "source": []
  },
  {
   "cell_type": "code",
   "execution_count": null,
   "metadata": {},
   "outputs": [],
   "source": []
  },
  {
   "cell_type": "code",
   "execution_count": 184,
   "metadata": {},
   "outputs": [],
   "source": []
  },
  {
   "cell_type": "code",
   "execution_count": null,
   "metadata": {},
   "outputs": [],
   "source": []
  },
  {
   "cell_type": "code",
   "execution_count": 171,
   "metadata": {},
   "outputs": [],
   "source": []
  },
  {
   "cell_type": "code",
   "execution_count": 173,
   "metadata": {},
   "outputs": [],
   "source": []
  },
  {
   "cell_type": "code",
   "execution_count": null,
   "metadata": {},
   "outputs": [],
   "source": []
  },
  {
   "cell_type": "code",
   "execution_count": null,
   "metadata": {},
   "outputs": [],
   "source": []
  },
  {
   "cell_type": "code",
   "execution_count": null,
   "metadata": {},
   "outputs": [],
   "source": []
  }
 ],
 "metadata": {
  "kernelspec": {
   "display_name": "Python 3",
   "language": "python",
   "name": "python3"
  },
  "language_info": {
   "codemirror_mode": {
    "name": "ipython",
    "version": 3
   },
   "file_extension": ".py",
   "mimetype": "text/x-python",
   "name": "python",
   "nbconvert_exporter": "python",
   "pygments_lexer": "ipython3",
   "version": "3.6.7"
  }
 },
 "nbformat": 4,
 "nbformat_minor": 2
}
